{
 "cells": [
  {
   "cell_type": "code",
   "execution_count": 1,
   "id": "6dd5d708",
   "metadata": {},
   "outputs": [],
   "source": [
    "import numpy as np\n",
    "import pandas as pd\n",
    "import pyodbc"
   ]
  },
  {
   "cell_type": "code",
   "execution_count": 2,
   "id": "3768c7a7",
   "metadata": {},
   "outputs": [
    {
     "name": "stdout",
     "output_type": "stream",
     "text": [
      "                  Year is :1403                   \n"
     ]
    },
    {
     "name": "stderr",
     "output_type": "stream",
     "text": [
      "C:\\Users\\Mahsa\\AppData\\Local\\Temp\\ipykernel_16936\\3000899581.py:35: UserWarning: pandas only supports SQLAlchemy connectable (engine/connection) or database string URI or sqlite3 DBAPI2 connection. Other DBAPI2 objects are not tested. Please consider using SQLAlchemy.\n",
      "  Rdata = pd.read_sql(f\"SELECT Address,DYCOL01,DYCOL06 FROM R{year}P3S01\", conn)\n",
      "C:\\Users\\Mahsa\\AppData\\Local\\Temp\\ipykernel_16936\\3000899581.py:36: UserWarning: pandas only supports SQLAlchemy connectable (engine/connection) or database string URI or sqlite3 DBAPI2 connection. Other DBAPI2 objects are not tested. Please consider using SQLAlchemy.\n",
      "  Udata = pd.read_sql(f\"select Address,DYCOL01,DYCOL06 from U{year}P3S01\", conn)\n",
      "C:\\Users\\Mahsa\\AppData\\Local\\Temp\\ipykernel_16936\\3000899581.py:38: UserWarning: pandas only supports SQLAlchemy connectable (engine/connection) or database string URI or sqlite3 DBAPI2 connection. Other DBAPI2 objects are not tested. Please consider using SQLAlchemy.\n",
      "  Rdata = pd.read_sql(f\"SELECT Address,DYCOL01,DYCOL06 FROM R{year}P3S02\", conn)\n",
      "C:\\Users\\Mahsa\\AppData\\Local\\Temp\\ipykernel_16936\\3000899581.py:39: UserWarning: pandas only supports SQLAlchemy connectable (engine/connection) or database string URI or sqlite3 DBAPI2 connection. Other DBAPI2 objects are not tested. Please consider using SQLAlchemy.\n",
      "  Udata = pd.read_sql(f\"select Address,DYCOL01,DYCOL06 from U{year}P3S02\", conn)\n",
      "C:\\Users\\Mahsa\\AppData\\Local\\Temp\\ipykernel_16936\\3000899581.py:38: UserWarning: pandas only supports SQLAlchemy connectable (engine/connection) or database string URI or sqlite3 DBAPI2 connection. Other DBAPI2 objects are not tested. Please consider using SQLAlchemy.\n",
      "  Rdata = pd.read_sql(f\"SELECT Address,DYCOL01,DYCOL06 FROM R{year}P3S02\", conn)\n",
      "C:\\Users\\Mahsa\\AppData\\Local\\Temp\\ipykernel_16936\\3000899581.py:39: UserWarning: pandas only supports SQLAlchemy connectable (engine/connection) or database string URI or sqlite3 DBAPI2 connection. Other DBAPI2 objects are not tested. Please consider using SQLAlchemy.\n",
      "  Udata = pd.read_sql(f\"select Address,DYCOL01,DYCOL06 from U{year}P3S02\", conn)\n"
     ]
    }
   ],
   "source": [
    "sections = [\"Food\",\"NonCatDrinks\",\"Cigar\"]\n",
    "dic_sec = {\n",
    "    \"Food\": range(11111,12219),\n",
    "    \"NonCatDrinks\" : [21111],\n",
    "    \"Cigar\": range(22111,23112)\n",
    "}\n",
    "col_name = {\n",
    "    'Address': 'HHID',\n",
    "    'DYCOL01': 'Code',\n",
    "    'DYCOL02': 'BuyingMethod',\n",
    "    'DYCOL03': 'Grams',\n",
    "    'DYCOL04': 'Kilos',\n",
    "    'DYCOL05': 'price_per',\n",
    "    'DYCOL06': 'Price'\n",
    "}\n",
    "years = list(range(89, 99))+ [99] + list(range(1400, 1403))\n",
    "years = [1403]\n",
    "for year in years:\n",
    "    # Path to your .accdb file\n",
    "    file_path = fr'C:\\Users\\Mahsa\\Desktop\\geo\\raw_data\\{year}\\Outfile-{year}.accdb'\n",
    "    # Connection string (for 64-bit Access Database Engine)\n",
    "    conn_str = (\n",
    "        r'DRIVER={Microsoft Access Driver (*.mdb, *.accdb)};'\n",
    "        f'DBQ={file_path};'\n",
    "    )\n",
    "    # Connect\n",
    "    conn = pyodbc.connect(conn_str)\n",
    "    # List all table names\n",
    "    tables = [table.table_name for table in conn.cursor().tables(tableType='TABLE')]\n",
    "    print(f\"Year is :{str(year)}\".center(50))\n",
    "    #---------------------------------------------------------------------------------\n",
    "    \n",
    "    for section in sections:\n",
    "        if section == \"Food\":\n",
    "            Rdata = pd.read_sql(f\"SELECT Address,DYCOL01,DYCOL06 FROM R{year}P3S01\", conn)\n",
    "            Udata = pd.read_sql(f\"select Address,DYCOL01,DYCOL06 from U{year}P3S01\", conn)\n",
    "        else:\n",
    "            Rdata = pd.read_sql(f\"SELECT Address,DYCOL01,DYCOL06 FROM R{year}P3S02\", conn)\n",
    "            Udata = pd.read_sql(f\"select Address,DYCOL01,DYCOL06 from U{year}P3S02\", conn)\n",
    "        \n",
    "        data = pd.concat([Rdata, Udata], axis=0)\n",
    "        data.rename(columns= col_name, inplace=True)\n",
    "        \n",
    "        data[\"HHID\"] = data[\"HHID\"].astype(\"str\")\n",
    "        mask = data[\"HHID\"].str.contains(r\"\\.\")\n",
    "        data.loc[mask, 'HHID'] = data.loc[mask, \"HHID\"].str.split(\".\").str[0]\n",
    "        data = data.loc[data[\"HHID\"].notna()]\n",
    "        \n",
    "        data[\"Code\"] = data[\"Code\"].astype(\"str\")\n",
    "        data[\"Code\"] = data[\"Code\"].str.lstrip(\"0\")\n",
    "        data[\"Code\"] = pd.to_numeric(data[\"Code\"], errors='coerce')\n",
    "        data = data.loc[data[\"Code\"].isin(dic_sec[section])]\n",
    "        \n",
    "        data[\"Price\"] = data[\"Price\"].astype(\"str\")\n",
    "        data[\"Price\"] = data[\"Price\"].str.lstrip(\"0\")\n",
    "        data[\"Price\"] = pd.to_numeric(data[\"Price\"], errors='coerce')\n",
    "        data = data.loc[data[\"Price\"].notna()]\n",
    "        \n",
    "        data = data[[\"HHID\",\"Price\"]]\n",
    "        \n",
    "        agg_dict = {\n",
    "            'HHID': ('HHID', 'first'),\n",
    "            f\"{section}Exp\": (\"Price\", \"sum\")\n",
    "        }\n",
    "\n",
    "        df = data.groupby(\"HHID\").aggregate(**agg_dict).reset_index(drop=True)\n",
    "        df = df.fillna(0)\n",
    "                \n",
    "        df.to_pickle(fr'{section}_{year}')"
   ]
  }
 ],
 "metadata": {
  "kernelspec": {
   "display_name": "base",
   "language": "python",
   "name": "python3"
  },
  "language_info": {
   "codemirror_mode": {
    "name": "ipython",
    "version": 3
   },
   "file_extension": ".py",
   "mimetype": "text/x-python",
   "name": "python",
   "nbconvert_exporter": "python",
   "pygments_lexer": "ipython3",
   "version": "3.12.3"
  }
 },
 "nbformat": 4,
 "nbformat_minor": 5
}
