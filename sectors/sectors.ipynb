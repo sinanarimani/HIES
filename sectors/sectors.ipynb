{
 "cells": [
  {
   "cell_type": "code",
   "execution_count": 1,
   "id": "1dfd4cf6",
   "metadata": {},
   "outputs": [],
   "source": [
    "import numpy as np\n",
    "import pandas as pd\n",
    "import pyodbc"
   ]
  },
  {
   "cell_type": "code",
   "execution_count": 9,
   "id": "0443487d",
   "metadata": {},
   "outputs": [
    {
     "name": "stdout",
     "output_type": "stream",
     "text": [
      "                   Year is :89                    \n"
     ]
    },
    {
     "name": "stderr",
     "output_type": "stream",
     "text": [
      "C:\\Users\\Mahsa\\AppData\\Local\\Temp\\ipykernel_10192\\1161729828.py:21: UserWarning: pandas only supports SQLAlchemy connectable (engine/connection) or database string URI or sqlite3 DBAPI2 connection. Other DBAPI2 objects are not tested. Please consider using SQLAlchemy.\n",
      "  Rdata = pd.read_sql(f\"SELECT Address,DYCOL01,DYCOL03 FROM R{year}P3S03\", conn)\n",
      "C:\\Users\\Mahsa\\AppData\\Local\\Temp\\ipykernel_10192\\1161729828.py:22: UserWarning: pandas only supports SQLAlchemy connectable (engine/connection) or database string URI or sqlite3 DBAPI2 connection. Other DBAPI2 objects are not tested. Please consider using SQLAlchemy.\n",
      "  Udata = pd.read_sql(f\"select Address,DYCOL01,DYCOL03 from U{year}P3S03\", conn)\n"
     ]
    },
    {
     "name": "stdout",
     "output_type": "stream",
     "text": [
      "                   Year is :90                    \n"
     ]
    },
    {
     "name": "stderr",
     "output_type": "stream",
     "text": [
      "C:\\Users\\Mahsa\\AppData\\Local\\Temp\\ipykernel_10192\\1161729828.py:21: UserWarning: pandas only supports SQLAlchemy connectable (engine/connection) or database string URI or sqlite3 DBAPI2 connection. Other DBAPI2 objects are not tested. Please consider using SQLAlchemy.\n",
      "  Rdata = pd.read_sql(f\"SELECT Address,DYCOL01,DYCOL03 FROM R{year}P3S03\", conn)\n",
      "C:\\Users\\Mahsa\\AppData\\Local\\Temp\\ipykernel_10192\\1161729828.py:22: UserWarning: pandas only supports SQLAlchemy connectable (engine/connection) or database string URI or sqlite3 DBAPI2 connection. Other DBAPI2 objects are not tested. Please consider using SQLAlchemy.\n",
      "  Udata = pd.read_sql(f\"select Address,DYCOL01,DYCOL03 from U{year}P3S03\", conn)\n"
     ]
    },
    {
     "name": "stdout",
     "output_type": "stream",
     "text": [
      "                   Year is :91                    \n"
     ]
    },
    {
     "name": "stderr",
     "output_type": "stream",
     "text": [
      "C:\\Users\\Mahsa\\AppData\\Local\\Temp\\ipykernel_10192\\1161729828.py:21: UserWarning: pandas only supports SQLAlchemy connectable (engine/connection) or database string URI or sqlite3 DBAPI2 connection. Other DBAPI2 objects are not tested. Please consider using SQLAlchemy.\n",
      "  Rdata = pd.read_sql(f\"SELECT Address,DYCOL01,DYCOL03 FROM R{year}P3S03\", conn)\n",
      "C:\\Users\\Mahsa\\AppData\\Local\\Temp\\ipykernel_10192\\1161729828.py:22: UserWarning: pandas only supports SQLAlchemy connectable (engine/connection) or database string URI or sqlite3 DBAPI2 connection. Other DBAPI2 objects are not tested. Please consider using SQLAlchemy.\n",
      "  Udata = pd.read_sql(f\"select Address,DYCOL01,DYCOL03 from U{year}P3S03\", conn)\n"
     ]
    },
    {
     "name": "stdout",
     "output_type": "stream",
     "text": [
      "                   Year is :92                    \n"
     ]
    },
    {
     "name": "stderr",
     "output_type": "stream",
     "text": [
      "C:\\Users\\Mahsa\\AppData\\Local\\Temp\\ipykernel_10192\\1161729828.py:21: UserWarning: pandas only supports SQLAlchemy connectable (engine/connection) or database string URI or sqlite3 DBAPI2 connection. Other DBAPI2 objects are not tested. Please consider using SQLAlchemy.\n",
      "  Rdata = pd.read_sql(f\"SELECT Address,DYCOL01,DYCOL03 FROM R{year}P3S03\", conn)\n",
      "C:\\Users\\Mahsa\\AppData\\Local\\Temp\\ipykernel_10192\\1161729828.py:22: UserWarning: pandas only supports SQLAlchemy connectable (engine/connection) or database string URI or sqlite3 DBAPI2 connection. Other DBAPI2 objects are not tested. Please consider using SQLAlchemy.\n",
      "  Udata = pd.read_sql(f\"select Address,DYCOL01,DYCOL03 from U{year}P3S03\", conn)\n"
     ]
    },
    {
     "name": "stdout",
     "output_type": "stream",
     "text": [
      "                   Year is :93                    \n"
     ]
    },
    {
     "name": "stderr",
     "output_type": "stream",
     "text": [
      "C:\\Users\\Mahsa\\AppData\\Local\\Temp\\ipykernel_10192\\1161729828.py:21: UserWarning: pandas only supports SQLAlchemy connectable (engine/connection) or database string URI or sqlite3 DBAPI2 connection. Other DBAPI2 objects are not tested. Please consider using SQLAlchemy.\n",
      "  Rdata = pd.read_sql(f\"SELECT Address,DYCOL01,DYCOL03 FROM R{year}P3S03\", conn)\n",
      "C:\\Users\\Mahsa\\AppData\\Local\\Temp\\ipykernel_10192\\1161729828.py:22: UserWarning: pandas only supports SQLAlchemy connectable (engine/connection) or database string URI or sqlite3 DBAPI2 connection. Other DBAPI2 objects are not tested. Please consider using SQLAlchemy.\n",
      "  Udata = pd.read_sql(f\"select Address,DYCOL01,DYCOL03 from U{year}P3S03\", conn)\n"
     ]
    },
    {
     "name": "stdout",
     "output_type": "stream",
     "text": [
      "                   Year is :94                    \n"
     ]
    },
    {
     "name": "stderr",
     "output_type": "stream",
     "text": [
      "C:\\Users\\Mahsa\\AppData\\Local\\Temp\\ipykernel_10192\\1161729828.py:21: UserWarning: pandas only supports SQLAlchemy connectable (engine/connection) or database string URI or sqlite3 DBAPI2 connection. Other DBAPI2 objects are not tested. Please consider using SQLAlchemy.\n",
      "  Rdata = pd.read_sql(f\"SELECT Address,DYCOL01,DYCOL03 FROM R{year}P3S03\", conn)\n",
      "C:\\Users\\Mahsa\\AppData\\Local\\Temp\\ipykernel_10192\\1161729828.py:22: UserWarning: pandas only supports SQLAlchemy connectable (engine/connection) or database string URI or sqlite3 DBAPI2 connection. Other DBAPI2 objects are not tested. Please consider using SQLAlchemy.\n",
      "  Udata = pd.read_sql(f\"select Address,DYCOL01,DYCOL03 from U{year}P3S03\", conn)\n"
     ]
    },
    {
     "name": "stdout",
     "output_type": "stream",
     "text": [
      "                   Year is :95                    \n"
     ]
    },
    {
     "name": "stderr",
     "output_type": "stream",
     "text": [
      "C:\\Users\\Mahsa\\AppData\\Local\\Temp\\ipykernel_10192\\1161729828.py:21: UserWarning: pandas only supports SQLAlchemy connectable (engine/connection) or database string URI or sqlite3 DBAPI2 connection. Other DBAPI2 objects are not tested. Please consider using SQLAlchemy.\n",
      "  Rdata = pd.read_sql(f\"SELECT Address,DYCOL01,DYCOL03 FROM R{year}P3S03\", conn)\n",
      "C:\\Users\\Mahsa\\AppData\\Local\\Temp\\ipykernel_10192\\1161729828.py:22: UserWarning: pandas only supports SQLAlchemy connectable (engine/connection) or database string URI or sqlite3 DBAPI2 connection. Other DBAPI2 objects are not tested. Please consider using SQLAlchemy.\n",
      "  Udata = pd.read_sql(f\"select Address,DYCOL01,DYCOL03 from U{year}P3S03\", conn)\n"
     ]
    },
    {
     "name": "stdout",
     "output_type": "stream",
     "text": [
      "                   Year is :96                    \n"
     ]
    },
    {
     "name": "stderr",
     "output_type": "stream",
     "text": [
      "C:\\Users\\Mahsa\\AppData\\Local\\Temp\\ipykernel_10192\\1161729828.py:21: UserWarning: pandas only supports SQLAlchemy connectable (engine/connection) or database string URI or sqlite3 DBAPI2 connection. Other DBAPI2 objects are not tested. Please consider using SQLAlchemy.\n",
      "  Rdata = pd.read_sql(f\"SELECT Address,DYCOL01,DYCOL03 FROM R{year}P3S03\", conn)\n",
      "C:\\Users\\Mahsa\\AppData\\Local\\Temp\\ipykernel_10192\\1161729828.py:22: UserWarning: pandas only supports SQLAlchemy connectable (engine/connection) or database string URI or sqlite3 DBAPI2 connection. Other DBAPI2 objects are not tested. Please consider using SQLAlchemy.\n",
      "  Udata = pd.read_sql(f\"select Address,DYCOL01,DYCOL03 from U{year}P3S03\", conn)\n"
     ]
    },
    {
     "name": "stdout",
     "output_type": "stream",
     "text": [
      "                   Year is :97                    \n"
     ]
    },
    {
     "name": "stderr",
     "output_type": "stream",
     "text": [
      "C:\\Users\\Mahsa\\AppData\\Local\\Temp\\ipykernel_10192\\1161729828.py:21: UserWarning: pandas only supports SQLAlchemy connectable (engine/connection) or database string URI or sqlite3 DBAPI2 connection. Other DBAPI2 objects are not tested. Please consider using SQLAlchemy.\n",
      "  Rdata = pd.read_sql(f\"SELECT Address,DYCOL01,DYCOL03 FROM R{year}P3S03\", conn)\n",
      "C:\\Users\\Mahsa\\AppData\\Local\\Temp\\ipykernel_10192\\1161729828.py:22: UserWarning: pandas only supports SQLAlchemy connectable (engine/connection) or database string URI or sqlite3 DBAPI2 connection. Other DBAPI2 objects are not tested. Please consider using SQLAlchemy.\n",
      "  Udata = pd.read_sql(f\"select Address,DYCOL01,DYCOL03 from U{year}P3S03\", conn)\n"
     ]
    },
    {
     "name": "stdout",
     "output_type": "stream",
     "text": [
      "                   Year is :98                    \n"
     ]
    },
    {
     "name": "stderr",
     "output_type": "stream",
     "text": [
      "C:\\Users\\Mahsa\\AppData\\Local\\Temp\\ipykernel_10192\\1161729828.py:21: UserWarning: pandas only supports SQLAlchemy connectable (engine/connection) or database string URI or sqlite3 DBAPI2 connection. Other DBAPI2 objects are not tested. Please consider using SQLAlchemy.\n",
      "  Rdata = pd.read_sql(f\"SELECT Address,DYCOL01,DYCOL03 FROM R{year}P3S03\", conn)\n",
      "C:\\Users\\Mahsa\\AppData\\Local\\Temp\\ipykernel_10192\\1161729828.py:22: UserWarning: pandas only supports SQLAlchemy connectable (engine/connection) or database string URI or sqlite3 DBAPI2 connection. Other DBAPI2 objects are not tested. Please consider using SQLAlchemy.\n",
      "  Udata = pd.read_sql(f\"select Address,DYCOL01,DYCOL03 from U{year}P3S03\", conn)\n"
     ]
    },
    {
     "name": "stdout",
     "output_type": "stream",
     "text": [
      "                   Year is :99                    \n"
     ]
    },
    {
     "name": "stderr",
     "output_type": "stream",
     "text": [
      "C:\\Users\\Mahsa\\AppData\\Local\\Temp\\ipykernel_10192\\1161729828.py:21: UserWarning: pandas only supports SQLAlchemy connectable (engine/connection) or database string URI or sqlite3 DBAPI2 connection. Other DBAPI2 objects are not tested. Please consider using SQLAlchemy.\n",
      "  Rdata = pd.read_sql(f\"SELECT Address,DYCOL01,DYCOL03 FROM R{year}P3S03\", conn)\n",
      "C:\\Users\\Mahsa\\AppData\\Local\\Temp\\ipykernel_10192\\1161729828.py:22: UserWarning: pandas only supports SQLAlchemy connectable (engine/connection) or database string URI or sqlite3 DBAPI2 connection. Other DBAPI2 objects are not tested. Please consider using SQLAlchemy.\n",
      "  Udata = pd.read_sql(f\"select Address,DYCOL01,DYCOL03 from U{year}P3S03\", conn)\n"
     ]
    },
    {
     "name": "stdout",
     "output_type": "stream",
     "text": [
      "                  Year is :1400                   \n"
     ]
    },
    {
     "name": "stderr",
     "output_type": "stream",
     "text": [
      "C:\\Users\\Mahsa\\AppData\\Local\\Temp\\ipykernel_10192\\1161729828.py:21: UserWarning: pandas only supports SQLAlchemy connectable (engine/connection) or database string URI or sqlite3 DBAPI2 connection. Other DBAPI2 objects are not tested. Please consider using SQLAlchemy.\n",
      "  Rdata = pd.read_sql(f\"SELECT Address,DYCOL01,DYCOL03 FROM R{year}P3S03\", conn)\n",
      "C:\\Users\\Mahsa\\AppData\\Local\\Temp\\ipykernel_10192\\1161729828.py:22: UserWarning: pandas only supports SQLAlchemy connectable (engine/connection) or database string URI or sqlite3 DBAPI2 connection. Other DBAPI2 objects are not tested. Please consider using SQLAlchemy.\n",
      "  Udata = pd.read_sql(f\"select Address,DYCOL01,DYCOL03 from U{year}P3S03\", conn)\n"
     ]
    },
    {
     "name": "stdout",
     "output_type": "stream",
     "text": [
      "                  Year is :1401                   \n"
     ]
    },
    {
     "name": "stderr",
     "output_type": "stream",
     "text": [
      "C:\\Users\\Mahsa\\AppData\\Local\\Temp\\ipykernel_10192\\1161729828.py:21: UserWarning: pandas only supports SQLAlchemy connectable (engine/connection) or database string URI or sqlite3 DBAPI2 connection. Other DBAPI2 objects are not tested. Please consider using SQLAlchemy.\n",
      "  Rdata = pd.read_sql(f\"SELECT Address,DYCOL01,DYCOL03 FROM R{year}P3S03\", conn)\n",
      "C:\\Users\\Mahsa\\AppData\\Local\\Temp\\ipykernel_10192\\1161729828.py:22: UserWarning: pandas only supports SQLAlchemy connectable (engine/connection) or database string URI or sqlite3 DBAPI2 connection. Other DBAPI2 objects are not tested. Please consider using SQLAlchemy.\n",
      "  Udata = pd.read_sql(f\"select Address,DYCOL01,DYCOL03 from U{year}P3S03\", conn)\n"
     ]
    },
    {
     "name": "stdout",
     "output_type": "stream",
     "text": [
      "                  Year is :1402                   \n"
     ]
    },
    {
     "name": "stderr",
     "output_type": "stream",
     "text": [
      "C:\\Users\\Mahsa\\AppData\\Local\\Temp\\ipykernel_10192\\1161729828.py:21: UserWarning: pandas only supports SQLAlchemy connectable (engine/connection) or database string URI or sqlite3 DBAPI2 connection. Other DBAPI2 objects are not tested. Please consider using SQLAlchemy.\n",
      "  Rdata = pd.read_sql(f\"SELECT Address,DYCOL01,DYCOL03 FROM R{year}P3S03\", conn)\n",
      "C:\\Users\\Mahsa\\AppData\\Local\\Temp\\ipykernel_10192\\1161729828.py:22: UserWarning: pandas only supports SQLAlchemy connectable (engine/connection) or database string URI or sqlite3 DBAPI2 connection. Other DBAPI2 objects are not tested. Please consider using SQLAlchemy.\n",
      "  Udata = pd.read_sql(f\"select Address,DYCOL01,DYCOL03 from U{year}P3S03\", conn)\n"
     ]
    }
   ],
   "source": [
    "col_name = {\n",
    "    'Address': 'HHID',\n",
    "    'DYCOL01': 'Code',\n",
    "    'DYCOL02': 'BuyingMethod',\n",
    "    'DYCOL03': 'Price'\n",
    "}\n",
    "years = list(range(89, 99))+ [99] + list(range(1400, 1403))\n",
    "for year in years:\n",
    "    # Path to your .accdb file\n",
    "    file_path = fr'C:\\Users\\Mahsa\\Desktop\\geo\\raw_data\\{year}\\Outfile-{year}.accdb'\n",
    "    # Connection string (for 64-bit Access Database Engine)\n",
    "    conn_str = (\n",
    "        r'DRIVER={Microsoft Access Driver (*.mdb, *.accdb)};'\n",
    "        f'DBQ={file_path};'\n",
    "    )\n",
    "    # Connect\n",
    "    conn = pyodbc.connect(conn_str)\n",
    "    # List all table names\n",
    "    tables = [table.table_name for table in conn.cursor().tables(tableType='TABLE')]\n",
    "    print(f\"Year is :{str(year)}\".center(50))\n",
    "    Rdata = pd.read_sql(f\"SELECT Address,DYCOL01,DYCOL03 FROM R{year}P3S03\", conn)\n",
    "    Udata = pd.read_sql(f\"select Address,DYCOL01,DYCOL03 from U{year}P3S03\", conn)\n",
    "    \n",
    "    data = pd.concat([Rdata, Udata], axis=0)\n",
    "    data.rename(columns= col_name, inplace=True)\n",
    "    \n",
    "    data[\"HHID\"] = data[\"HHID\"].astype(\"str\")\n",
    "    mask = data[\"HHID\"].str.contains(r\"\\.\")\n",
    "    data.loc[mask, 'HHID'] = data.loc[mask, \"HHID\"].str.split(\".\").str[0]\n",
    "    data = data.loc[data[\"HHID\"].notna()]\n",
    "    \n",
    "    data[\"Code\"] = data[\"Code\"].astype(\"str\")\n",
    "    data[\"Code\"] = data[\"Code\"].str.lstrip(\"0\")\n",
    "    data[\"Code\"] = pd.to_numeric(data[\"Code\"], errors='coerce')\n",
    "    \n",
    "    data[\"Price\"] = data[\"Price\"].astype(\"str\")\n",
    "    data[\"Price\"] = data[\"Price\"].str.lstrip(\"0\")\n",
    "    data[\"Price\"] = pd.to_numeric(data[\"Price\"], errors='coerce')\n",
    "    data = data.loc[data[\"Price\"].notna()]\n",
    "    \n",
    "    agg_dict = {\n",
    "        'HHID': ('HHID', 'first'),\n",
    "        \"ClothExp\": (\"Price\", \"sum\")\n",
    "    }\n",
    "\n",
    "    df = data.groupby(\"HHID\").aggregate(**agg_dict).reset_index(drop=True)\n",
    "    df = df.fillna(0)\n",
    "    df.to_pickle(fr'Cloth_{year}')"
   ]
  },
  {
   "cell_type": "code",
   "execution_count": 41,
   "id": "2c64bb98",
   "metadata": {},
   "outputs": [
    {
     "name": "stdout",
     "output_type": "stream",
     "text": [
      "                   Year is :89                    \n"
     ]
    },
    {
     "name": "stderr",
     "output_type": "stream",
     "text": [
      "C:\\Users\\Mahsa\\AppData\\Local\\Temp\\ipykernel_15860\\4137364588.py:46: UserWarning: pandas only supports SQLAlchemy connectable (engine/connection) or database string URI or sqlite3 DBAPI2 connection. Other DBAPI2 objects are not tested. Please consider using SQLAlchemy.\n",
      "  Rdata = pd.read_sql(f\"SELECT * FROM R{year}P3S04\", conn)\n",
      "C:\\Users\\Mahsa\\AppData\\Local\\Temp\\ipykernel_15860\\4137364588.py:47: UserWarning: pandas only supports SQLAlchemy connectable (engine/connection) or database string URI or sqlite3 DBAPI2 connection. Other DBAPI2 objects are not tested. Please consider using SQLAlchemy.\n",
      "  Udata = pd.read_sql(f\"select * from U{year}P3S04\", conn)\n"
     ]
    },
    {
     "name": "stdout",
     "output_type": "stream",
     "text": [
      "                   Year is :90                    \n"
     ]
    },
    {
     "name": "stderr",
     "output_type": "stream",
     "text": [
      "C:\\Users\\Mahsa\\AppData\\Local\\Temp\\ipykernel_15860\\4137364588.py:46: UserWarning: pandas only supports SQLAlchemy connectable (engine/connection) or database string URI or sqlite3 DBAPI2 connection. Other DBAPI2 objects are not tested. Please consider using SQLAlchemy.\n",
      "  Rdata = pd.read_sql(f\"SELECT * FROM R{year}P3S04\", conn)\n",
      "C:\\Users\\Mahsa\\AppData\\Local\\Temp\\ipykernel_15860\\4137364588.py:47: UserWarning: pandas only supports SQLAlchemy connectable (engine/connection) or database string URI or sqlite3 DBAPI2 connection. Other DBAPI2 objects are not tested. Please consider using SQLAlchemy.\n",
      "  Udata = pd.read_sql(f\"select * from U{year}P3S04\", conn)\n"
     ]
    },
    {
     "name": "stdout",
     "output_type": "stream",
     "text": [
      "                   Year is :91                    \n"
     ]
    },
    {
     "name": "stderr",
     "output_type": "stream",
     "text": [
      "C:\\Users\\Mahsa\\AppData\\Local\\Temp\\ipykernel_15860\\4137364588.py:46: UserWarning: pandas only supports SQLAlchemy connectable (engine/connection) or database string URI or sqlite3 DBAPI2 connection. Other DBAPI2 objects are not tested. Please consider using SQLAlchemy.\n",
      "  Rdata = pd.read_sql(f\"SELECT * FROM R{year}P3S04\", conn)\n",
      "C:\\Users\\Mahsa\\AppData\\Local\\Temp\\ipykernel_15860\\4137364588.py:47: UserWarning: pandas only supports SQLAlchemy connectable (engine/connection) or database string URI or sqlite3 DBAPI2 connection. Other DBAPI2 objects are not tested. Please consider using SQLAlchemy.\n",
      "  Udata = pd.read_sql(f\"select * from U{year}P3S04\", conn)\n"
     ]
    },
    {
     "name": "stdout",
     "output_type": "stream",
     "text": [
      "                   Year is :92                    \n"
     ]
    },
    {
     "name": "stderr",
     "output_type": "stream",
     "text": [
      "C:\\Users\\Mahsa\\AppData\\Local\\Temp\\ipykernel_15860\\4137364588.py:46: UserWarning: pandas only supports SQLAlchemy connectable (engine/connection) or database string URI or sqlite3 DBAPI2 connection. Other DBAPI2 objects are not tested. Please consider using SQLAlchemy.\n",
      "  Rdata = pd.read_sql(f\"SELECT * FROM R{year}P3S04\", conn)\n",
      "C:\\Users\\Mahsa\\AppData\\Local\\Temp\\ipykernel_15860\\4137364588.py:47: UserWarning: pandas only supports SQLAlchemy connectable (engine/connection) or database string URI or sqlite3 DBAPI2 connection. Other DBAPI2 objects are not tested. Please consider using SQLAlchemy.\n",
      "  Udata = pd.read_sql(f\"select * from U{year}P3S04\", conn)\n"
     ]
    },
    {
     "name": "stdout",
     "output_type": "stream",
     "text": [
      "                   Year is :93                    \n"
     ]
    },
    {
     "name": "stderr",
     "output_type": "stream",
     "text": [
      "C:\\Users\\Mahsa\\AppData\\Local\\Temp\\ipykernel_15860\\4137364588.py:46: UserWarning: pandas only supports SQLAlchemy connectable (engine/connection) or database string URI or sqlite3 DBAPI2 connection. Other DBAPI2 objects are not tested. Please consider using SQLAlchemy.\n",
      "  Rdata = pd.read_sql(f\"SELECT * FROM R{year}P3S04\", conn)\n",
      "C:\\Users\\Mahsa\\AppData\\Local\\Temp\\ipykernel_15860\\4137364588.py:47: UserWarning: pandas only supports SQLAlchemy connectable (engine/connection) or database string URI or sqlite3 DBAPI2 connection. Other DBAPI2 objects are not tested. Please consider using SQLAlchemy.\n",
      "  Udata = pd.read_sql(f\"select * from U{year}P3S04\", conn)\n"
     ]
    },
    {
     "name": "stdout",
     "output_type": "stream",
     "text": [
      "                   Year is :94                    \n"
     ]
    },
    {
     "name": "stderr",
     "output_type": "stream",
     "text": [
      "C:\\Users\\Mahsa\\AppData\\Local\\Temp\\ipykernel_15860\\4137364588.py:46: UserWarning: pandas only supports SQLAlchemy connectable (engine/connection) or database string URI or sqlite3 DBAPI2 connection. Other DBAPI2 objects are not tested. Please consider using SQLAlchemy.\n",
      "  Rdata = pd.read_sql(f\"SELECT * FROM R{year}P3S04\", conn)\n",
      "C:\\Users\\Mahsa\\AppData\\Local\\Temp\\ipykernel_15860\\4137364588.py:47: UserWarning: pandas only supports SQLAlchemy connectable (engine/connection) or database string URI or sqlite3 DBAPI2 connection. Other DBAPI2 objects are not tested. Please consider using SQLAlchemy.\n",
      "  Udata = pd.read_sql(f\"select * from U{year}P3S04\", conn)\n"
     ]
    },
    {
     "name": "stdout",
     "output_type": "stream",
     "text": [
      "                   Year is :95                    \n"
     ]
    },
    {
     "name": "stderr",
     "output_type": "stream",
     "text": [
      "C:\\Users\\Mahsa\\AppData\\Local\\Temp\\ipykernel_15860\\4137364588.py:46: UserWarning: pandas only supports SQLAlchemy connectable (engine/connection) or database string URI or sqlite3 DBAPI2 connection. Other DBAPI2 objects are not tested. Please consider using SQLAlchemy.\n",
      "  Rdata = pd.read_sql(f\"SELECT * FROM R{year}P3S04\", conn)\n",
      "C:\\Users\\Mahsa\\AppData\\Local\\Temp\\ipykernel_15860\\4137364588.py:47: UserWarning: pandas only supports SQLAlchemy connectable (engine/connection) or database string URI or sqlite3 DBAPI2 connection. Other DBAPI2 objects are not tested. Please consider using SQLAlchemy.\n",
      "  Udata = pd.read_sql(f\"select * from U{year}P3S04\", conn)\n"
     ]
    },
    {
     "name": "stdout",
     "output_type": "stream",
     "text": [
      "                   Year is :96                    \n"
     ]
    },
    {
     "name": "stderr",
     "output_type": "stream",
     "text": [
      "C:\\Users\\Mahsa\\AppData\\Local\\Temp\\ipykernel_15860\\4137364588.py:46: UserWarning: pandas only supports SQLAlchemy connectable (engine/connection) or database string URI or sqlite3 DBAPI2 connection. Other DBAPI2 objects are not tested. Please consider using SQLAlchemy.\n",
      "  Rdata = pd.read_sql(f\"SELECT * FROM R{year}P3S04\", conn)\n",
      "C:\\Users\\Mahsa\\AppData\\Local\\Temp\\ipykernel_15860\\4137364588.py:47: UserWarning: pandas only supports SQLAlchemy connectable (engine/connection) or database string URI or sqlite3 DBAPI2 connection. Other DBAPI2 objects are not tested. Please consider using SQLAlchemy.\n",
      "  Udata = pd.read_sql(f\"select * from U{year}P3S04\", conn)\n"
     ]
    },
    {
     "name": "stdout",
     "output_type": "stream",
     "text": [
      "                   Year is :97                    \n"
     ]
    },
    {
     "name": "stderr",
     "output_type": "stream",
     "text": [
      "C:\\Users\\Mahsa\\AppData\\Local\\Temp\\ipykernel_15860\\4137364588.py:46: UserWarning: pandas only supports SQLAlchemy connectable (engine/connection) or database string URI or sqlite3 DBAPI2 connection. Other DBAPI2 objects are not tested. Please consider using SQLAlchemy.\n",
      "  Rdata = pd.read_sql(f\"SELECT * FROM R{year}P3S04\", conn)\n",
      "C:\\Users\\Mahsa\\AppData\\Local\\Temp\\ipykernel_15860\\4137364588.py:47: UserWarning: pandas only supports SQLAlchemy connectable (engine/connection) or database string URI or sqlite3 DBAPI2 connection. Other DBAPI2 objects are not tested. Please consider using SQLAlchemy.\n",
      "  Udata = pd.read_sql(f\"select * from U{year}P3S04\", conn)\n"
     ]
    },
    {
     "name": "stdout",
     "output_type": "stream",
     "text": [
      "                   Year is :98                    \n"
     ]
    },
    {
     "name": "stderr",
     "output_type": "stream",
     "text": [
      "C:\\Users\\Mahsa\\AppData\\Local\\Temp\\ipykernel_15860\\4137364588.py:46: UserWarning: pandas only supports SQLAlchemy connectable (engine/connection) or database string URI or sqlite3 DBAPI2 connection. Other DBAPI2 objects are not tested. Please consider using SQLAlchemy.\n",
      "  Rdata = pd.read_sql(f\"SELECT * FROM R{year}P3S04\", conn)\n",
      "C:\\Users\\Mahsa\\AppData\\Local\\Temp\\ipykernel_15860\\4137364588.py:47: UserWarning: pandas only supports SQLAlchemy connectable (engine/connection) or database string URI or sqlite3 DBAPI2 connection. Other DBAPI2 objects are not tested. Please consider using SQLAlchemy.\n",
      "  Udata = pd.read_sql(f\"select * from U{year}P3S04\", conn)\n"
     ]
    },
    {
     "name": "stdout",
     "output_type": "stream",
     "text": [
      "                   Year is :99                    \n"
     ]
    },
    {
     "name": "stderr",
     "output_type": "stream",
     "text": [
      "C:\\Users\\Mahsa\\AppData\\Local\\Temp\\ipykernel_15860\\4137364588.py:46: UserWarning: pandas only supports SQLAlchemy connectable (engine/connection) or database string URI or sqlite3 DBAPI2 connection. Other DBAPI2 objects are not tested. Please consider using SQLAlchemy.\n",
      "  Rdata = pd.read_sql(f\"SELECT * FROM R{year}P3S04\", conn)\n",
      "C:\\Users\\Mahsa\\AppData\\Local\\Temp\\ipykernel_15860\\4137364588.py:47: UserWarning: pandas only supports SQLAlchemy connectable (engine/connection) or database string URI or sqlite3 DBAPI2 connection. Other DBAPI2 objects are not tested. Please consider using SQLAlchemy.\n",
      "  Udata = pd.read_sql(f\"select * from U{year}P3S04\", conn)\n"
     ]
    },
    {
     "name": "stdout",
     "output_type": "stream",
     "text": [
      "                  Year is :1400                   \n"
     ]
    },
    {
     "name": "stderr",
     "output_type": "stream",
     "text": [
      "C:\\Users\\Mahsa\\AppData\\Local\\Temp\\ipykernel_15860\\4137364588.py:46: UserWarning: pandas only supports SQLAlchemy connectable (engine/connection) or database string URI or sqlite3 DBAPI2 connection. Other DBAPI2 objects are not tested. Please consider using SQLAlchemy.\n",
      "  Rdata = pd.read_sql(f\"SELECT * FROM R{year}P3S04\", conn)\n",
      "C:\\Users\\Mahsa\\AppData\\Local\\Temp\\ipykernel_15860\\4137364588.py:47: UserWarning: pandas only supports SQLAlchemy connectable (engine/connection) or database string URI or sqlite3 DBAPI2 connection. Other DBAPI2 objects are not tested. Please consider using SQLAlchemy.\n",
      "  Udata = pd.read_sql(f\"select * from U{year}P3S04\", conn)\n"
     ]
    },
    {
     "name": "stdout",
     "output_type": "stream",
     "text": [
      "                  Year is :1401                   \n"
     ]
    },
    {
     "name": "stderr",
     "output_type": "stream",
     "text": [
      "C:\\Users\\Mahsa\\AppData\\Local\\Temp\\ipykernel_15860\\4137364588.py:46: UserWarning: pandas only supports SQLAlchemy connectable (engine/connection) or database string URI or sqlite3 DBAPI2 connection. Other DBAPI2 objects are not tested. Please consider using SQLAlchemy.\n",
      "  Rdata = pd.read_sql(f\"SELECT * FROM R{year}P3S04\", conn)\n",
      "C:\\Users\\Mahsa\\AppData\\Local\\Temp\\ipykernel_15860\\4137364588.py:47: UserWarning: pandas only supports SQLAlchemy connectable (engine/connection) or database string URI or sqlite3 DBAPI2 connection. Other DBAPI2 objects are not tested. Please consider using SQLAlchemy.\n",
      "  Udata = pd.read_sql(f\"select * from U{year}P3S04\", conn)\n"
     ]
    },
    {
     "name": "stdout",
     "output_type": "stream",
     "text": [
      "                  Year is :1402                   \n"
     ]
    },
    {
     "name": "stderr",
     "output_type": "stream",
     "text": [
      "C:\\Users\\Mahsa\\AppData\\Local\\Temp\\ipykernel_15860\\4137364588.py:46: UserWarning: pandas only supports SQLAlchemy connectable (engine/connection) or database string URI or sqlite3 DBAPI2 connection. Other DBAPI2 objects are not tested. Please consider using SQLAlchemy.\n",
      "  Rdata = pd.read_sql(f\"SELECT * FROM R{year}P3S04\", conn)\n",
      "C:\\Users\\Mahsa\\AppData\\Local\\Temp\\ipykernel_15860\\4137364588.py:47: UserWarning: pandas only supports SQLAlchemy connectable (engine/connection) or database string URI or sqlite3 DBAPI2 connection. Other DBAPI2 objects are not tested. Please consider using SQLAlchemy.\n",
      "  Udata = pd.read_sql(f\"select * from U{year}P3S04\", conn)\n"
     ]
    }
   ],
   "source": [
    "sections = [\"Rent\",\"EstRent_owner\",\"EstRent\",\"Mortgage\",\"Water\",\"Water_other\",\"Sewage\",\"OtherHousing\",\n",
    "            \"Electricity\",\"ElectricityOther\",\"NaturalGas\",\"NaturalGasOther\",\n",
    "            \"OtherEnergyRe\"]\n",
    "dic_sec = {\n",
    "    \"Rent\": range(41111,41214),\n",
    "    \"EstRent_owner\" : [42111],\n",
    "    \"EstRent\" : range(42212,42216),\n",
    "    \"Mortgage\": [42212],\n",
    "    \"Water\": [44111],\n",
    "    \"Water_other\": range(44112,44115),\n",
    "    \"Sewage\": range(44311,44313),\n",
    "    \"OtherHousing\": range(44411,44419),\n",
    "    \"Electricity\":[45111],\n",
    "    \"ElectricityOther\":[45113],\n",
    "    \"NaturalGas\":range(45211, 45213),\n",
    "    \"NaturalGasOther\": [45213],\n",
    "    \"OtherEnergyRe\": range(45311, 45415)  \n",
    "}\n",
    "col_name = {\n",
    "    'Address': 'HHID',\n",
    "    'DYCOL01': 'Code',\n",
    "    'DYCOL02': 'Mortgage',\n",
    "    'DYCOL03': 'BuyingMethod',\n",
    "    'DYCOL04': 'Price',\n",
    "    'address': 'HHID', \n",
    "    'dycol01': 'Code',  \n",
    "    'dycol02': 'Mortgage',\n",
    "    'dycol03': 'BuyingMethod', \n",
    "    'dycol04': 'Price'   \n",
    "}\n",
    "years = list(range(89, 99))+ [99] + list(range(1400, 1403))\n",
    "for year in years:\n",
    "    # Path to your .accdb file\n",
    "    file_path = fr'C:\\Users\\Mahsa\\Desktop\\geo\\raw_data\\{year}\\Outfile-{year}.accdb'\n",
    "    # Connection string (for 64-bit Access Database Engine)\n",
    "    conn_str = (\n",
    "        r'DRIVER={Microsoft Access Driver (*.mdb, *.accdb)};'\n",
    "        f'DBQ={file_path};'\n",
    "    )\n",
    "    # Connect\n",
    "    conn = pyodbc.connect(conn_str)\n",
    "    # List all table names\n",
    "    tables = [table.table_name for table in conn.cursor().tables(tableType='TABLE')]\n",
    "    print(f\"Year is :{str(year)}\".center(50))\n",
    "    \n",
    "    Rdata = pd.read_sql(f\"SELECT * FROM R{year}P3S04\", conn)\n",
    "    Udata = pd.read_sql(f\"select * from U{year}P3S04\", conn)\n",
    "    \n",
    "    data = pd.concat([Rdata, Udata], axis=0)\n",
    "    data.rename(columns= col_name, inplace=True)\n",
    "    \n",
    "    data[\"HHID\"] = data[\"HHID\"].astype(\"str\")\n",
    "    mask = data[\"HHID\"].str.contains(r\"\\.\")\n",
    "    data.loc[mask, 'HHID'] = data.loc[mask, \"HHID\"].str.split(\".\").str[0]\n",
    "    data = data.loc[data[\"HHID\"].notna()]\n",
    "    \n",
    "    data[\"Price\"] = data[\"Price\"].astype(\"str\")\n",
    "    data[\"Price\"] = data[\"Price\"].str.lstrip(\"0\")\n",
    "    data[\"Price\"] = pd.to_numeric(data[\"Price\"], errors='coerce')\n",
    "    data = data.loc[data[\"Price\"].notna()]\n",
    "    \n",
    "    data[\"Code\"] = data[\"Code\"].astype(\"str\")\n",
    "    data[\"Code\"] = data[\"Code\"].str.lstrip(\"0\")\n",
    "    data[\"Code\"] = pd.to_numeric(data[\"Code\"], errors='coerce')\n",
    "    \n",
    "    data[\"Mortgage\"] = data[\"Mortgage\"].astype(\"str\")\n",
    "    data[\"Mortgage\"] = data[\"Mortgage\"].str.lstrip(\"0\")\n",
    "    data[\"Mortgage\"] = pd.to_numeric(data[\"Mortgage\"], errors='coerce')\n",
    "    \n",
    "    \n",
    "    finalDB = pd.read_pickle(fr\"C:\\Users\\Mahsa\\Desktop\\geo\\base1\\base{year}\")\n",
    "    finalDB = finalDB[[\"HHID\"]]\n",
    "    for section in sections:   \n",
    "        data2 = data.loc[data[\"Code\"].isin(dic_sec[section])]\n",
    "        \n",
    "        if section == \"Mortgage\":\n",
    "            agg_dict = {\n",
    "                'HHID': ('HHID', 'first'),\n",
    "                f\"{section}Exp\": (\"Mortgage\", \"sum\")\n",
    "            }\n",
    "        else:\n",
    "            agg_dict = {\n",
    "                'HHID': ('HHID', 'first'),\n",
    "                f\"{section}Exp\": (\"Price\", \"sum\")\n",
    "            }\n",
    "        df = data2.groupby(\"HHID\").aggregate(**agg_dict).reset_index(drop=True)\n",
    "        finalDB = pd.merge(finalDB, df, on=\"HHID\", how=\"left\")\n",
    "        \n",
    "    finalDB = finalDB.fillna(0)           \n",
    "    finalDB.to_pickle(fr'section04_{year}')"
   ]
  },
  {
   "cell_type": "code",
   "execution_count": 8,
   "id": "08247d75",
   "metadata": {},
   "outputs": [
    {
     "name": "stdout",
     "output_type": "stream",
     "text": [
      "                   Year is :89                    \n"
     ]
    },
    {
     "name": "stderr",
     "output_type": "stream",
     "text": [
      "C:\\Users\\Mahsa\\AppData\\Local\\Temp\\ipykernel_7756\\5562260.py:41: UserWarning: pandas only supports SQLAlchemy connectable (engine/connection) or database string URI or sqlite3 DBAPI2 connection. Other DBAPI2 objects are not tested. Please consider using SQLAlchemy.\n",
      "  Rdata = pd.read_sql(f\"SELECT * FROM R{year}{dic_sec_table[section]}\", conn)\n",
      "C:\\Users\\Mahsa\\AppData\\Local\\Temp\\ipykernel_7756\\5562260.py:42: UserWarning: pandas only supports SQLAlchemy connectable (engine/connection) or database string URI or sqlite3 DBAPI2 connection. Other DBAPI2 objects are not tested. Please consider using SQLAlchemy.\n",
      "  Udata = pd.read_sql(f\"select * from U{year}{dic_sec_table[section]}\", conn)\n",
      "C:\\Users\\Mahsa\\AppData\\Local\\Temp\\ipykernel_7756\\5562260.py:41: UserWarning: pandas only supports SQLAlchemy connectable (engine/connection) or database string URI or sqlite3 DBAPI2 connection. Other DBAPI2 objects are not tested. Please consider using SQLAlchemy.\n",
      "  Rdata = pd.read_sql(f\"SELECT * FROM R{year}{dic_sec_table[section]}\", conn)\n",
      "C:\\Users\\Mahsa\\AppData\\Local\\Temp\\ipykernel_7756\\5562260.py:42: UserWarning: pandas only supports SQLAlchemy connectable (engine/connection) or database string URI or sqlite3 DBAPI2 connection. Other DBAPI2 objects are not tested. Please consider using SQLAlchemy.\n",
      "  Udata = pd.read_sql(f\"select * from U{year}{dic_sec_table[section]}\", conn)\n",
      "C:\\Users\\Mahsa\\AppData\\Local\\Temp\\ipykernel_7756\\5562260.py:41: UserWarning: pandas only supports SQLAlchemy connectable (engine/connection) or database string URI or sqlite3 DBAPI2 connection. Other DBAPI2 objects are not tested. Please consider using SQLAlchemy.\n",
      "  Rdata = pd.read_sql(f\"SELECT * FROM R{year}{dic_sec_table[section]}\", conn)\n",
      "C:\\Users\\Mahsa\\AppData\\Local\\Temp\\ipykernel_7756\\5562260.py:42: UserWarning: pandas only supports SQLAlchemy connectable (engine/connection) or database string URI or sqlite3 DBAPI2 connection. Other DBAPI2 objects are not tested. Please consider using SQLAlchemy.\n",
      "  Udata = pd.read_sql(f\"select * from U{year}{dic_sec_table[section]}\", conn)\n",
      "C:\\Users\\Mahsa\\AppData\\Local\\Temp\\ipykernel_7756\\5562260.py:41: UserWarning: pandas only supports SQLAlchemy connectable (engine/connection) or database string URI or sqlite3 DBAPI2 connection. Other DBAPI2 objects are not tested. Please consider using SQLAlchemy.\n",
      "  Rdata = pd.read_sql(f\"SELECT * FROM R{year}{dic_sec_table[section]}\", conn)\n",
      "C:\\Users\\Mahsa\\AppData\\Local\\Temp\\ipykernel_7756\\5562260.py:42: UserWarning: pandas only supports SQLAlchemy connectable (engine/connection) or database string URI or sqlite3 DBAPI2 connection. Other DBAPI2 objects are not tested. Please consider using SQLAlchemy.\n",
      "  Udata = pd.read_sql(f\"select * from U{year}{dic_sec_table[section]}\", conn)\n",
      "C:\\Users\\Mahsa\\AppData\\Local\\Temp\\ipykernel_7756\\5562260.py:41: UserWarning: pandas only supports SQLAlchemy connectable (engine/connection) or database string URI or sqlite3 DBAPI2 connection. Other DBAPI2 objects are not tested. Please consider using SQLAlchemy.\n",
      "  Rdata = pd.read_sql(f\"SELECT * FROM R{year}{dic_sec_table[section]}\", conn)\n",
      "C:\\Users\\Mahsa\\AppData\\Local\\Temp\\ipykernel_7756\\5562260.py:42: UserWarning: pandas only supports SQLAlchemy connectable (engine/connection) or database string URI or sqlite3 DBAPI2 connection. Other DBAPI2 objects are not tested. Please consider using SQLAlchemy.\n",
      "  Udata = pd.read_sql(f\"select * from U{year}{dic_sec_table[section]}\", conn)\n",
      "C:\\Users\\Mahsa\\AppData\\Local\\Temp\\ipykernel_7756\\5562260.py:41: UserWarning: pandas only supports SQLAlchemy connectable (engine/connection) or database string URI or sqlite3 DBAPI2 connection. Other DBAPI2 objects are not tested. Please consider using SQLAlchemy.\n",
      "  Rdata = pd.read_sql(f\"SELECT * FROM R{year}{dic_sec_table[section]}\", conn)\n",
      "C:\\Users\\Mahsa\\AppData\\Local\\Temp\\ipykernel_7756\\5562260.py:42: UserWarning: pandas only supports SQLAlchemy connectable (engine/connection) or database string URI or sqlite3 DBAPI2 connection. Other DBAPI2 objects are not tested. Please consider using SQLAlchemy.\n",
      "  Udata = pd.read_sql(f\"select * from U{year}{dic_sec_table[section]}\", conn)\n",
      "C:\\Users\\Mahsa\\AppData\\Local\\Temp\\ipykernel_7756\\5562260.py:41: UserWarning: pandas only supports SQLAlchemy connectable (engine/connection) or database string URI or sqlite3 DBAPI2 connection. Other DBAPI2 objects are not tested. Please consider using SQLAlchemy.\n",
      "  Rdata = pd.read_sql(f\"SELECT * FROM R{year}{dic_sec_table[section]}\", conn)\n",
      "C:\\Users\\Mahsa\\AppData\\Local\\Temp\\ipykernel_7756\\5562260.py:42: UserWarning: pandas only supports SQLAlchemy connectable (engine/connection) or database string URI or sqlite3 DBAPI2 connection. Other DBAPI2 objects are not tested. Please consider using SQLAlchemy.\n",
      "  Udata = pd.read_sql(f\"select * from U{year}{dic_sec_table[section]}\", conn)\n",
      "C:\\Users\\Mahsa\\AppData\\Local\\Temp\\ipykernel_7756\\5562260.py:41: UserWarning: pandas only supports SQLAlchemy connectable (engine/connection) or database string URI or sqlite3 DBAPI2 connection. Other DBAPI2 objects are not tested. Please consider using SQLAlchemy.\n",
      "  Rdata = pd.read_sql(f\"SELECT * FROM R{year}{dic_sec_table[section]}\", conn)\n",
      "C:\\Users\\Mahsa\\AppData\\Local\\Temp\\ipykernel_7756\\5562260.py:42: UserWarning: pandas only supports SQLAlchemy connectable (engine/connection) or database string URI or sqlite3 DBAPI2 connection. Other DBAPI2 objects are not tested. Please consider using SQLAlchemy.\n",
      "  Udata = pd.read_sql(f\"select * from U{year}{dic_sec_table[section]}\", conn)\n"
     ]
    },
    {
     "name": "stdout",
     "output_type": "stream",
     "text": [
      "38950\n",
      "HHID                     0\n",
      "FurnitureExp          3286\n",
      "MedicalExp           13480\n",
      "TransportationExp     2706\n",
      "CommunicationExp      6171\n",
      "AmusementExp         23636\n",
      "RestaurantExp        26174\n",
      "HotelExp             38652\n",
      "OtherExp              4129\n",
      "dtype: int64\n",
      "                   Year is :90                    \n"
     ]
    },
    {
     "name": "stderr",
     "output_type": "stream",
     "text": [
      "C:\\Users\\Mahsa\\AppData\\Local\\Temp\\ipykernel_7756\\5562260.py:41: UserWarning: pandas only supports SQLAlchemy connectable (engine/connection) or database string URI or sqlite3 DBAPI2 connection. Other DBAPI2 objects are not tested. Please consider using SQLAlchemy.\n",
      "  Rdata = pd.read_sql(f\"SELECT * FROM R{year}{dic_sec_table[section]}\", conn)\n",
      "C:\\Users\\Mahsa\\AppData\\Local\\Temp\\ipykernel_7756\\5562260.py:42: UserWarning: pandas only supports SQLAlchemy connectable (engine/connection) or database string URI or sqlite3 DBAPI2 connection. Other DBAPI2 objects are not tested. Please consider using SQLAlchemy.\n",
      "  Udata = pd.read_sql(f\"select * from U{year}{dic_sec_table[section]}\", conn)\n",
      "C:\\Users\\Mahsa\\AppData\\Local\\Temp\\ipykernel_7756\\5562260.py:41: UserWarning: pandas only supports SQLAlchemy connectable (engine/connection) or database string URI or sqlite3 DBAPI2 connection. Other DBAPI2 objects are not tested. Please consider using SQLAlchemy.\n",
      "  Rdata = pd.read_sql(f\"SELECT * FROM R{year}{dic_sec_table[section]}\", conn)\n",
      "C:\\Users\\Mahsa\\AppData\\Local\\Temp\\ipykernel_7756\\5562260.py:42: UserWarning: pandas only supports SQLAlchemy connectable (engine/connection) or database string URI or sqlite3 DBAPI2 connection. Other DBAPI2 objects are not tested. Please consider using SQLAlchemy.\n",
      "  Udata = pd.read_sql(f\"select * from U{year}{dic_sec_table[section]}\", conn)\n",
      "C:\\Users\\Mahsa\\AppData\\Local\\Temp\\ipykernel_7756\\5562260.py:41: UserWarning: pandas only supports SQLAlchemy connectable (engine/connection) or database string URI or sqlite3 DBAPI2 connection. Other DBAPI2 objects are not tested. Please consider using SQLAlchemy.\n",
      "  Rdata = pd.read_sql(f\"SELECT * FROM R{year}{dic_sec_table[section]}\", conn)\n",
      "C:\\Users\\Mahsa\\AppData\\Local\\Temp\\ipykernel_7756\\5562260.py:42: UserWarning: pandas only supports SQLAlchemy connectable (engine/connection) or database string URI or sqlite3 DBAPI2 connection. Other DBAPI2 objects are not tested. Please consider using SQLAlchemy.\n",
      "  Udata = pd.read_sql(f\"select * from U{year}{dic_sec_table[section]}\", conn)\n",
      "C:\\Users\\Mahsa\\AppData\\Local\\Temp\\ipykernel_7756\\5562260.py:41: UserWarning: pandas only supports SQLAlchemy connectable (engine/connection) or database string URI or sqlite3 DBAPI2 connection. Other DBAPI2 objects are not tested. Please consider using SQLAlchemy.\n",
      "  Rdata = pd.read_sql(f\"SELECT * FROM R{year}{dic_sec_table[section]}\", conn)\n",
      "C:\\Users\\Mahsa\\AppData\\Local\\Temp\\ipykernel_7756\\5562260.py:42: UserWarning: pandas only supports SQLAlchemy connectable (engine/connection) or database string URI or sqlite3 DBAPI2 connection. Other DBAPI2 objects are not tested. Please consider using SQLAlchemy.\n",
      "  Udata = pd.read_sql(f\"select * from U{year}{dic_sec_table[section]}\", conn)\n",
      "C:\\Users\\Mahsa\\AppData\\Local\\Temp\\ipykernel_7756\\5562260.py:41: UserWarning: pandas only supports SQLAlchemy connectable (engine/connection) or database string URI or sqlite3 DBAPI2 connection. Other DBAPI2 objects are not tested. Please consider using SQLAlchemy.\n",
      "  Rdata = pd.read_sql(f\"SELECT * FROM R{year}{dic_sec_table[section]}\", conn)\n",
      "C:\\Users\\Mahsa\\AppData\\Local\\Temp\\ipykernel_7756\\5562260.py:42: UserWarning: pandas only supports SQLAlchemy connectable (engine/connection) or database string URI or sqlite3 DBAPI2 connection. Other DBAPI2 objects are not tested. Please consider using SQLAlchemy.\n",
      "  Udata = pd.read_sql(f\"select * from U{year}{dic_sec_table[section]}\", conn)\n",
      "C:\\Users\\Mahsa\\AppData\\Local\\Temp\\ipykernel_7756\\5562260.py:41: UserWarning: pandas only supports SQLAlchemy connectable (engine/connection) or database string URI or sqlite3 DBAPI2 connection. Other DBAPI2 objects are not tested. Please consider using SQLAlchemy.\n",
      "  Rdata = pd.read_sql(f\"SELECT * FROM R{year}{dic_sec_table[section]}\", conn)\n",
      "C:\\Users\\Mahsa\\AppData\\Local\\Temp\\ipykernel_7756\\5562260.py:42: UserWarning: pandas only supports SQLAlchemy connectable (engine/connection) or database string URI or sqlite3 DBAPI2 connection. Other DBAPI2 objects are not tested. Please consider using SQLAlchemy.\n",
      "  Udata = pd.read_sql(f\"select * from U{year}{dic_sec_table[section]}\", conn)\n",
      "C:\\Users\\Mahsa\\AppData\\Local\\Temp\\ipykernel_7756\\5562260.py:41: UserWarning: pandas only supports SQLAlchemy connectable (engine/connection) or database string URI or sqlite3 DBAPI2 connection. Other DBAPI2 objects are not tested. Please consider using SQLAlchemy.\n",
      "  Rdata = pd.read_sql(f\"SELECT * FROM R{year}{dic_sec_table[section]}\", conn)\n",
      "C:\\Users\\Mahsa\\AppData\\Local\\Temp\\ipykernel_7756\\5562260.py:42: UserWarning: pandas only supports SQLAlchemy connectable (engine/connection) or database string URI or sqlite3 DBAPI2 connection. Other DBAPI2 objects are not tested. Please consider using SQLAlchemy.\n",
      "  Udata = pd.read_sql(f\"select * from U{year}{dic_sec_table[section]}\", conn)\n",
      "C:\\Users\\Mahsa\\AppData\\Local\\Temp\\ipykernel_7756\\5562260.py:41: UserWarning: pandas only supports SQLAlchemy connectable (engine/connection) or database string URI or sqlite3 DBAPI2 connection. Other DBAPI2 objects are not tested. Please consider using SQLAlchemy.\n",
      "  Rdata = pd.read_sql(f\"SELECT * FROM R{year}{dic_sec_table[section]}\", conn)\n",
      "C:\\Users\\Mahsa\\AppData\\Local\\Temp\\ipykernel_7756\\5562260.py:42: UserWarning: pandas only supports SQLAlchemy connectable (engine/connection) or database string URI or sqlite3 DBAPI2 connection. Other DBAPI2 objects are not tested. Please consider using SQLAlchemy.\n",
      "  Udata = pd.read_sql(f\"select * from U{year}{dic_sec_table[section]}\", conn)\n"
     ]
    },
    {
     "name": "stdout",
     "output_type": "stream",
     "text": [
      "40011\n",
      "HHID                     0\n",
      "FurnitureExp          4357\n",
      "MedicalExp           15053\n",
      "TransportationExp     3576\n",
      "CommunicationExp      5010\n",
      "AmusementExp         25514\n",
      "RestaurantExp        27167\n",
      "HotelExp             39735\n",
      "OtherExp              5165\n",
      "dtype: int64\n",
      "                   Year is :91                    \n"
     ]
    },
    {
     "name": "stderr",
     "output_type": "stream",
     "text": [
      "C:\\Users\\Mahsa\\AppData\\Local\\Temp\\ipykernel_7756\\5562260.py:41: UserWarning: pandas only supports SQLAlchemy connectable (engine/connection) or database string URI or sqlite3 DBAPI2 connection. Other DBAPI2 objects are not tested. Please consider using SQLAlchemy.\n",
      "  Rdata = pd.read_sql(f\"SELECT * FROM R{year}{dic_sec_table[section]}\", conn)\n",
      "C:\\Users\\Mahsa\\AppData\\Local\\Temp\\ipykernel_7756\\5562260.py:42: UserWarning: pandas only supports SQLAlchemy connectable (engine/connection) or database string URI or sqlite3 DBAPI2 connection. Other DBAPI2 objects are not tested. Please consider using SQLAlchemy.\n",
      "  Udata = pd.read_sql(f\"select * from U{year}{dic_sec_table[section]}\", conn)\n",
      "C:\\Users\\Mahsa\\AppData\\Local\\Temp\\ipykernel_7756\\5562260.py:41: UserWarning: pandas only supports SQLAlchemy connectable (engine/connection) or database string URI or sqlite3 DBAPI2 connection. Other DBAPI2 objects are not tested. Please consider using SQLAlchemy.\n",
      "  Rdata = pd.read_sql(f\"SELECT * FROM R{year}{dic_sec_table[section]}\", conn)\n",
      "C:\\Users\\Mahsa\\AppData\\Local\\Temp\\ipykernel_7756\\5562260.py:42: UserWarning: pandas only supports SQLAlchemy connectable (engine/connection) or database string URI or sqlite3 DBAPI2 connection. Other DBAPI2 objects are not tested. Please consider using SQLAlchemy.\n",
      "  Udata = pd.read_sql(f\"select * from U{year}{dic_sec_table[section]}\", conn)\n",
      "C:\\Users\\Mahsa\\AppData\\Local\\Temp\\ipykernel_7756\\5562260.py:41: UserWarning: pandas only supports SQLAlchemy connectable (engine/connection) or database string URI or sqlite3 DBAPI2 connection. Other DBAPI2 objects are not tested. Please consider using SQLAlchemy.\n",
      "  Rdata = pd.read_sql(f\"SELECT * FROM R{year}{dic_sec_table[section]}\", conn)\n",
      "C:\\Users\\Mahsa\\AppData\\Local\\Temp\\ipykernel_7756\\5562260.py:42: UserWarning: pandas only supports SQLAlchemy connectable (engine/connection) or database string URI or sqlite3 DBAPI2 connection. Other DBAPI2 objects are not tested. Please consider using SQLAlchemy.\n",
      "  Udata = pd.read_sql(f\"select * from U{year}{dic_sec_table[section]}\", conn)\n",
      "C:\\Users\\Mahsa\\AppData\\Local\\Temp\\ipykernel_7756\\5562260.py:41: UserWarning: pandas only supports SQLAlchemy connectable (engine/connection) or database string URI or sqlite3 DBAPI2 connection. Other DBAPI2 objects are not tested. Please consider using SQLAlchemy.\n",
      "  Rdata = pd.read_sql(f\"SELECT * FROM R{year}{dic_sec_table[section]}\", conn)\n",
      "C:\\Users\\Mahsa\\AppData\\Local\\Temp\\ipykernel_7756\\5562260.py:42: UserWarning: pandas only supports SQLAlchemy connectable (engine/connection) or database string URI or sqlite3 DBAPI2 connection. Other DBAPI2 objects are not tested. Please consider using SQLAlchemy.\n",
      "  Udata = pd.read_sql(f\"select * from U{year}{dic_sec_table[section]}\", conn)\n",
      "C:\\Users\\Mahsa\\AppData\\Local\\Temp\\ipykernel_7756\\5562260.py:41: UserWarning: pandas only supports SQLAlchemy connectable (engine/connection) or database string URI or sqlite3 DBAPI2 connection. Other DBAPI2 objects are not tested. Please consider using SQLAlchemy.\n",
      "  Rdata = pd.read_sql(f\"SELECT * FROM R{year}{dic_sec_table[section]}\", conn)\n",
      "C:\\Users\\Mahsa\\AppData\\Local\\Temp\\ipykernel_7756\\5562260.py:42: UserWarning: pandas only supports SQLAlchemy connectable (engine/connection) or database string URI or sqlite3 DBAPI2 connection. Other DBAPI2 objects are not tested. Please consider using SQLAlchemy.\n",
      "  Udata = pd.read_sql(f\"select * from U{year}{dic_sec_table[section]}\", conn)\n",
      "C:\\Users\\Mahsa\\AppData\\Local\\Temp\\ipykernel_7756\\5562260.py:41: UserWarning: pandas only supports SQLAlchemy connectable (engine/connection) or database string URI or sqlite3 DBAPI2 connection. Other DBAPI2 objects are not tested. Please consider using SQLAlchemy.\n",
      "  Rdata = pd.read_sql(f\"SELECT * FROM R{year}{dic_sec_table[section]}\", conn)\n",
      "C:\\Users\\Mahsa\\AppData\\Local\\Temp\\ipykernel_7756\\5562260.py:42: UserWarning: pandas only supports SQLAlchemy connectable (engine/connection) or database string URI or sqlite3 DBAPI2 connection. Other DBAPI2 objects are not tested. Please consider using SQLAlchemy.\n",
      "  Udata = pd.read_sql(f\"select * from U{year}{dic_sec_table[section]}\", conn)\n",
      "C:\\Users\\Mahsa\\AppData\\Local\\Temp\\ipykernel_7756\\5562260.py:41: UserWarning: pandas only supports SQLAlchemy connectable (engine/connection) or database string URI or sqlite3 DBAPI2 connection. Other DBAPI2 objects are not tested. Please consider using SQLAlchemy.\n",
      "  Rdata = pd.read_sql(f\"SELECT * FROM R{year}{dic_sec_table[section]}\", conn)\n",
      "C:\\Users\\Mahsa\\AppData\\Local\\Temp\\ipykernel_7756\\5562260.py:42: UserWarning: pandas only supports SQLAlchemy connectable (engine/connection) or database string URI or sqlite3 DBAPI2 connection. Other DBAPI2 objects are not tested. Please consider using SQLAlchemy.\n",
      "  Udata = pd.read_sql(f\"select * from U{year}{dic_sec_table[section]}\", conn)\n",
      "C:\\Users\\Mahsa\\AppData\\Local\\Temp\\ipykernel_7756\\5562260.py:41: UserWarning: pandas only supports SQLAlchemy connectable (engine/connection) or database string URI or sqlite3 DBAPI2 connection. Other DBAPI2 objects are not tested. Please consider using SQLAlchemy.\n",
      "  Rdata = pd.read_sql(f\"SELECT * FROM R{year}{dic_sec_table[section]}\", conn)\n",
      "C:\\Users\\Mahsa\\AppData\\Local\\Temp\\ipykernel_7756\\5562260.py:42: UserWarning: pandas only supports SQLAlchemy connectable (engine/connection) or database string URI or sqlite3 DBAPI2 connection. Other DBAPI2 objects are not tested. Please consider using SQLAlchemy.\n",
      "  Udata = pd.read_sql(f\"select * from U{year}{dic_sec_table[section]}\", conn)\n"
     ]
    },
    {
     "name": "stdout",
     "output_type": "stream",
     "text": [
      "40007\n",
      "HHID                     0\n",
      "FurnitureExp          4588\n",
      "MedicalExp           15395\n",
      "TransportationExp     3758\n",
      "CommunicationExp      4446\n",
      "AmusementExp         25758\n",
      "RestaurantExp        27412\n",
      "HotelExp             39735\n",
      "OtherExp              5436\n",
      "dtype: int64\n",
      "                   Year is :92                    \n"
     ]
    },
    {
     "name": "stderr",
     "output_type": "stream",
     "text": [
      "C:\\Users\\Mahsa\\AppData\\Local\\Temp\\ipykernel_7756\\5562260.py:41: UserWarning: pandas only supports SQLAlchemy connectable (engine/connection) or database string URI or sqlite3 DBAPI2 connection. Other DBAPI2 objects are not tested. Please consider using SQLAlchemy.\n",
      "  Rdata = pd.read_sql(f\"SELECT * FROM R{year}{dic_sec_table[section]}\", conn)\n",
      "C:\\Users\\Mahsa\\AppData\\Local\\Temp\\ipykernel_7756\\5562260.py:42: UserWarning: pandas only supports SQLAlchemy connectable (engine/connection) or database string URI or sqlite3 DBAPI2 connection. Other DBAPI2 objects are not tested. Please consider using SQLAlchemy.\n",
      "  Udata = pd.read_sql(f\"select * from U{year}{dic_sec_table[section]}\", conn)\n",
      "C:\\Users\\Mahsa\\AppData\\Local\\Temp\\ipykernel_7756\\5562260.py:41: UserWarning: pandas only supports SQLAlchemy connectable (engine/connection) or database string URI or sqlite3 DBAPI2 connection. Other DBAPI2 objects are not tested. Please consider using SQLAlchemy.\n",
      "  Rdata = pd.read_sql(f\"SELECT * FROM R{year}{dic_sec_table[section]}\", conn)\n",
      "C:\\Users\\Mahsa\\AppData\\Local\\Temp\\ipykernel_7756\\5562260.py:42: UserWarning: pandas only supports SQLAlchemy connectable (engine/connection) or database string URI or sqlite3 DBAPI2 connection. Other DBAPI2 objects are not tested. Please consider using SQLAlchemy.\n",
      "  Udata = pd.read_sql(f\"select * from U{year}{dic_sec_table[section]}\", conn)\n",
      "C:\\Users\\Mahsa\\AppData\\Local\\Temp\\ipykernel_7756\\5562260.py:41: UserWarning: pandas only supports SQLAlchemy connectable (engine/connection) or database string URI or sqlite3 DBAPI2 connection. Other DBAPI2 objects are not tested. Please consider using SQLAlchemy.\n",
      "  Rdata = pd.read_sql(f\"SELECT * FROM R{year}{dic_sec_table[section]}\", conn)\n",
      "C:\\Users\\Mahsa\\AppData\\Local\\Temp\\ipykernel_7756\\5562260.py:42: UserWarning: pandas only supports SQLAlchemy connectable (engine/connection) or database string URI or sqlite3 DBAPI2 connection. Other DBAPI2 objects are not tested. Please consider using SQLAlchemy.\n",
      "  Udata = pd.read_sql(f\"select * from U{year}{dic_sec_table[section]}\", conn)\n",
      "C:\\Users\\Mahsa\\AppData\\Local\\Temp\\ipykernel_7756\\5562260.py:41: UserWarning: pandas only supports SQLAlchemy connectable (engine/connection) or database string URI or sqlite3 DBAPI2 connection. Other DBAPI2 objects are not tested. Please consider using SQLAlchemy.\n",
      "  Rdata = pd.read_sql(f\"SELECT * FROM R{year}{dic_sec_table[section]}\", conn)\n",
      "C:\\Users\\Mahsa\\AppData\\Local\\Temp\\ipykernel_7756\\5562260.py:42: UserWarning: pandas only supports SQLAlchemy connectable (engine/connection) or database string URI or sqlite3 DBAPI2 connection. Other DBAPI2 objects are not tested. Please consider using SQLAlchemy.\n",
      "  Udata = pd.read_sql(f\"select * from U{year}{dic_sec_table[section]}\", conn)\n",
      "C:\\Users\\Mahsa\\AppData\\Local\\Temp\\ipykernel_7756\\5562260.py:41: UserWarning: pandas only supports SQLAlchemy connectable (engine/connection) or database string URI or sqlite3 DBAPI2 connection. Other DBAPI2 objects are not tested. Please consider using SQLAlchemy.\n",
      "  Rdata = pd.read_sql(f\"SELECT * FROM R{year}{dic_sec_table[section]}\", conn)\n",
      "C:\\Users\\Mahsa\\AppData\\Local\\Temp\\ipykernel_7756\\5562260.py:42: UserWarning: pandas only supports SQLAlchemy connectable (engine/connection) or database string URI or sqlite3 DBAPI2 connection. Other DBAPI2 objects are not tested. Please consider using SQLAlchemy.\n",
      "  Udata = pd.read_sql(f\"select * from U{year}{dic_sec_table[section]}\", conn)\n",
      "C:\\Users\\Mahsa\\AppData\\Local\\Temp\\ipykernel_7756\\5562260.py:41: UserWarning: pandas only supports SQLAlchemy connectable (engine/connection) or database string URI or sqlite3 DBAPI2 connection. Other DBAPI2 objects are not tested. Please consider using SQLAlchemy.\n",
      "  Rdata = pd.read_sql(f\"SELECT * FROM R{year}{dic_sec_table[section]}\", conn)\n",
      "C:\\Users\\Mahsa\\AppData\\Local\\Temp\\ipykernel_7756\\5562260.py:42: UserWarning: pandas only supports SQLAlchemy connectable (engine/connection) or database string URI or sqlite3 DBAPI2 connection. Other DBAPI2 objects are not tested. Please consider using SQLAlchemy.\n",
      "  Udata = pd.read_sql(f\"select * from U{year}{dic_sec_table[section]}\", conn)\n",
      "C:\\Users\\Mahsa\\AppData\\Local\\Temp\\ipykernel_7756\\5562260.py:41: UserWarning: pandas only supports SQLAlchemy connectable (engine/connection) or database string URI or sqlite3 DBAPI2 connection. Other DBAPI2 objects are not tested. Please consider using SQLAlchemy.\n",
      "  Rdata = pd.read_sql(f\"SELECT * FROM R{year}{dic_sec_table[section]}\", conn)\n",
      "C:\\Users\\Mahsa\\AppData\\Local\\Temp\\ipykernel_7756\\5562260.py:42: UserWarning: pandas only supports SQLAlchemy connectable (engine/connection) or database string URI or sqlite3 DBAPI2 connection. Other DBAPI2 objects are not tested. Please consider using SQLAlchemy.\n",
      "  Udata = pd.read_sql(f\"select * from U{year}{dic_sec_table[section]}\", conn)\n",
      "C:\\Users\\Mahsa\\AppData\\Local\\Temp\\ipykernel_7756\\5562260.py:41: UserWarning: pandas only supports SQLAlchemy connectable (engine/connection) or database string URI or sqlite3 DBAPI2 connection. Other DBAPI2 objects are not tested. Please consider using SQLAlchemy.\n",
      "  Rdata = pd.read_sql(f\"SELECT * FROM R{year}{dic_sec_table[section]}\", conn)\n",
      "C:\\Users\\Mahsa\\AppData\\Local\\Temp\\ipykernel_7756\\5562260.py:42: UserWarning: pandas only supports SQLAlchemy connectable (engine/connection) or database string URI or sqlite3 DBAPI2 connection. Other DBAPI2 objects are not tested. Please consider using SQLAlchemy.\n",
      "  Udata = pd.read_sql(f\"select * from U{year}{dic_sec_table[section]}\", conn)\n"
     ]
    },
    {
     "name": "stdout",
     "output_type": "stream",
     "text": [
      "39864\n",
      "HHID                     0\n",
      "FurnitureExp          4571\n",
      "MedicalExp           14925\n",
      "TransportationExp     3595\n",
      "CommunicationExp      3788\n",
      "AmusementExp         26220\n",
      "RestaurantExp        27956\n",
      "HotelExp             39627\n",
      "OtherExp              4493\n",
      "dtype: int64\n",
      "                   Year is :93                    \n"
     ]
    },
    {
     "name": "stderr",
     "output_type": "stream",
     "text": [
      "C:\\Users\\Mahsa\\AppData\\Local\\Temp\\ipykernel_7756\\5562260.py:41: UserWarning: pandas only supports SQLAlchemy connectable (engine/connection) or database string URI or sqlite3 DBAPI2 connection. Other DBAPI2 objects are not tested. Please consider using SQLAlchemy.\n",
      "  Rdata = pd.read_sql(f\"SELECT * FROM R{year}{dic_sec_table[section]}\", conn)\n",
      "C:\\Users\\Mahsa\\AppData\\Local\\Temp\\ipykernel_7756\\5562260.py:42: UserWarning: pandas only supports SQLAlchemy connectable (engine/connection) or database string URI or sqlite3 DBAPI2 connection. Other DBAPI2 objects are not tested. Please consider using SQLAlchemy.\n",
      "  Udata = pd.read_sql(f\"select * from U{year}{dic_sec_table[section]}\", conn)\n",
      "C:\\Users\\Mahsa\\AppData\\Local\\Temp\\ipykernel_7756\\5562260.py:41: UserWarning: pandas only supports SQLAlchemy connectable (engine/connection) or database string URI or sqlite3 DBAPI2 connection. Other DBAPI2 objects are not tested. Please consider using SQLAlchemy.\n",
      "  Rdata = pd.read_sql(f\"SELECT * FROM R{year}{dic_sec_table[section]}\", conn)\n",
      "C:\\Users\\Mahsa\\AppData\\Local\\Temp\\ipykernel_7756\\5562260.py:42: UserWarning: pandas only supports SQLAlchemy connectable (engine/connection) or database string URI or sqlite3 DBAPI2 connection. Other DBAPI2 objects are not tested. Please consider using SQLAlchemy.\n",
      "  Udata = pd.read_sql(f\"select * from U{year}{dic_sec_table[section]}\", conn)\n",
      "C:\\Users\\Mahsa\\AppData\\Local\\Temp\\ipykernel_7756\\5562260.py:41: UserWarning: pandas only supports SQLAlchemy connectable (engine/connection) or database string URI or sqlite3 DBAPI2 connection. Other DBAPI2 objects are not tested. Please consider using SQLAlchemy.\n",
      "  Rdata = pd.read_sql(f\"SELECT * FROM R{year}{dic_sec_table[section]}\", conn)\n",
      "C:\\Users\\Mahsa\\AppData\\Local\\Temp\\ipykernel_7756\\5562260.py:42: UserWarning: pandas only supports SQLAlchemy connectable (engine/connection) or database string URI or sqlite3 DBAPI2 connection. Other DBAPI2 objects are not tested. Please consider using SQLAlchemy.\n",
      "  Udata = pd.read_sql(f\"select * from U{year}{dic_sec_table[section]}\", conn)\n",
      "C:\\Users\\Mahsa\\AppData\\Local\\Temp\\ipykernel_7756\\5562260.py:41: UserWarning: pandas only supports SQLAlchemy connectable (engine/connection) or database string URI or sqlite3 DBAPI2 connection. Other DBAPI2 objects are not tested. Please consider using SQLAlchemy.\n",
      "  Rdata = pd.read_sql(f\"SELECT * FROM R{year}{dic_sec_table[section]}\", conn)\n",
      "C:\\Users\\Mahsa\\AppData\\Local\\Temp\\ipykernel_7756\\5562260.py:42: UserWarning: pandas only supports SQLAlchemy connectable (engine/connection) or database string URI or sqlite3 DBAPI2 connection. Other DBAPI2 objects are not tested. Please consider using SQLAlchemy.\n",
      "  Udata = pd.read_sql(f\"select * from U{year}{dic_sec_table[section]}\", conn)\n",
      "C:\\Users\\Mahsa\\AppData\\Local\\Temp\\ipykernel_7756\\5562260.py:41: UserWarning: pandas only supports SQLAlchemy connectable (engine/connection) or database string URI or sqlite3 DBAPI2 connection. Other DBAPI2 objects are not tested. Please consider using SQLAlchemy.\n",
      "  Rdata = pd.read_sql(f\"SELECT * FROM R{year}{dic_sec_table[section]}\", conn)\n",
      "C:\\Users\\Mahsa\\AppData\\Local\\Temp\\ipykernel_7756\\5562260.py:42: UserWarning: pandas only supports SQLAlchemy connectable (engine/connection) or database string URI or sqlite3 DBAPI2 connection. Other DBAPI2 objects are not tested. Please consider using SQLAlchemy.\n",
      "  Udata = pd.read_sql(f\"select * from U{year}{dic_sec_table[section]}\", conn)\n",
      "C:\\Users\\Mahsa\\AppData\\Local\\Temp\\ipykernel_7756\\5562260.py:41: UserWarning: pandas only supports SQLAlchemy connectable (engine/connection) or database string URI or sqlite3 DBAPI2 connection. Other DBAPI2 objects are not tested. Please consider using SQLAlchemy.\n",
      "  Rdata = pd.read_sql(f\"SELECT * FROM R{year}{dic_sec_table[section]}\", conn)\n",
      "C:\\Users\\Mahsa\\AppData\\Local\\Temp\\ipykernel_7756\\5562260.py:42: UserWarning: pandas only supports SQLAlchemy connectable (engine/connection) or database string URI or sqlite3 DBAPI2 connection. Other DBAPI2 objects are not tested. Please consider using SQLAlchemy.\n",
      "  Udata = pd.read_sql(f\"select * from U{year}{dic_sec_table[section]}\", conn)\n",
      "C:\\Users\\Mahsa\\AppData\\Local\\Temp\\ipykernel_7756\\5562260.py:41: UserWarning: pandas only supports SQLAlchemy connectable (engine/connection) or database string URI or sqlite3 DBAPI2 connection. Other DBAPI2 objects are not tested. Please consider using SQLAlchemy.\n",
      "  Rdata = pd.read_sql(f\"SELECT * FROM R{year}{dic_sec_table[section]}\", conn)\n",
      "C:\\Users\\Mahsa\\AppData\\Local\\Temp\\ipykernel_7756\\5562260.py:42: UserWarning: pandas only supports SQLAlchemy connectable (engine/connection) or database string URI or sqlite3 DBAPI2 connection. Other DBAPI2 objects are not tested. Please consider using SQLAlchemy.\n",
      "  Udata = pd.read_sql(f\"select * from U{year}{dic_sec_table[section]}\", conn)\n",
      "C:\\Users\\Mahsa\\AppData\\Local\\Temp\\ipykernel_7756\\5562260.py:41: UserWarning: pandas only supports SQLAlchemy connectable (engine/connection) or database string URI or sqlite3 DBAPI2 connection. Other DBAPI2 objects are not tested. Please consider using SQLAlchemy.\n",
      "  Rdata = pd.read_sql(f\"SELECT * FROM R{year}{dic_sec_table[section]}\", conn)\n",
      "C:\\Users\\Mahsa\\AppData\\Local\\Temp\\ipykernel_7756\\5562260.py:42: UserWarning: pandas only supports SQLAlchemy connectable (engine/connection) or database string URI or sqlite3 DBAPI2 connection. Other DBAPI2 objects are not tested. Please consider using SQLAlchemy.\n",
      "  Udata = pd.read_sql(f\"select * from U{year}{dic_sec_table[section]}\", conn)\n"
     ]
    },
    {
     "name": "stdout",
     "output_type": "stream",
     "text": [
      "39856\n",
      "HHID                     0\n",
      "FurnitureExp          4442\n",
      "MedicalExp           15002\n",
      "TransportationExp     3829\n",
      "CommunicationExp      3592\n",
      "AmusementExp         26567\n",
      "RestaurantExp        27862\n",
      "HotelExp             39604\n",
      "OtherExp              4622\n",
      "dtype: int64\n",
      "                   Year is :94                    \n"
     ]
    },
    {
     "name": "stderr",
     "output_type": "stream",
     "text": [
      "C:\\Users\\Mahsa\\AppData\\Local\\Temp\\ipykernel_7756\\5562260.py:41: UserWarning: pandas only supports SQLAlchemy connectable (engine/connection) or database string URI or sqlite3 DBAPI2 connection. Other DBAPI2 objects are not tested. Please consider using SQLAlchemy.\n",
      "  Rdata = pd.read_sql(f\"SELECT * FROM R{year}{dic_sec_table[section]}\", conn)\n",
      "C:\\Users\\Mahsa\\AppData\\Local\\Temp\\ipykernel_7756\\5562260.py:42: UserWarning: pandas only supports SQLAlchemy connectable (engine/connection) or database string URI or sqlite3 DBAPI2 connection. Other DBAPI2 objects are not tested. Please consider using SQLAlchemy.\n",
      "  Udata = pd.read_sql(f\"select * from U{year}{dic_sec_table[section]}\", conn)\n",
      "C:\\Users\\Mahsa\\AppData\\Local\\Temp\\ipykernel_7756\\5562260.py:41: UserWarning: pandas only supports SQLAlchemy connectable (engine/connection) or database string URI or sqlite3 DBAPI2 connection. Other DBAPI2 objects are not tested. Please consider using SQLAlchemy.\n",
      "  Rdata = pd.read_sql(f\"SELECT * FROM R{year}{dic_sec_table[section]}\", conn)\n",
      "C:\\Users\\Mahsa\\AppData\\Local\\Temp\\ipykernel_7756\\5562260.py:42: UserWarning: pandas only supports SQLAlchemy connectable (engine/connection) or database string URI or sqlite3 DBAPI2 connection. Other DBAPI2 objects are not tested. Please consider using SQLAlchemy.\n",
      "  Udata = pd.read_sql(f\"select * from U{year}{dic_sec_table[section]}\", conn)\n",
      "C:\\Users\\Mahsa\\AppData\\Local\\Temp\\ipykernel_7756\\5562260.py:41: UserWarning: pandas only supports SQLAlchemy connectable (engine/connection) or database string URI or sqlite3 DBAPI2 connection. Other DBAPI2 objects are not tested. Please consider using SQLAlchemy.\n",
      "  Rdata = pd.read_sql(f\"SELECT * FROM R{year}{dic_sec_table[section]}\", conn)\n",
      "C:\\Users\\Mahsa\\AppData\\Local\\Temp\\ipykernel_7756\\5562260.py:42: UserWarning: pandas only supports SQLAlchemy connectable (engine/connection) or database string URI or sqlite3 DBAPI2 connection. Other DBAPI2 objects are not tested. Please consider using SQLAlchemy.\n",
      "  Udata = pd.read_sql(f\"select * from U{year}{dic_sec_table[section]}\", conn)\n",
      "C:\\Users\\Mahsa\\AppData\\Local\\Temp\\ipykernel_7756\\5562260.py:41: UserWarning: pandas only supports SQLAlchemy connectable (engine/connection) or database string URI or sqlite3 DBAPI2 connection. Other DBAPI2 objects are not tested. Please consider using SQLAlchemy.\n",
      "  Rdata = pd.read_sql(f\"SELECT * FROM R{year}{dic_sec_table[section]}\", conn)\n",
      "C:\\Users\\Mahsa\\AppData\\Local\\Temp\\ipykernel_7756\\5562260.py:42: UserWarning: pandas only supports SQLAlchemy connectable (engine/connection) or database string URI or sqlite3 DBAPI2 connection. Other DBAPI2 objects are not tested. Please consider using SQLAlchemy.\n",
      "  Udata = pd.read_sql(f\"select * from U{year}{dic_sec_table[section]}\", conn)\n",
      "C:\\Users\\Mahsa\\AppData\\Local\\Temp\\ipykernel_7756\\5562260.py:41: UserWarning: pandas only supports SQLAlchemy connectable (engine/connection) or database string URI or sqlite3 DBAPI2 connection. Other DBAPI2 objects are not tested. Please consider using SQLAlchemy.\n",
      "  Rdata = pd.read_sql(f\"SELECT * FROM R{year}{dic_sec_table[section]}\", conn)\n",
      "C:\\Users\\Mahsa\\AppData\\Local\\Temp\\ipykernel_7756\\5562260.py:42: UserWarning: pandas only supports SQLAlchemy connectable (engine/connection) or database string URI or sqlite3 DBAPI2 connection. Other DBAPI2 objects are not tested. Please consider using SQLAlchemy.\n",
      "  Udata = pd.read_sql(f\"select * from U{year}{dic_sec_table[section]}\", conn)\n",
      "C:\\Users\\Mahsa\\AppData\\Local\\Temp\\ipykernel_7756\\5562260.py:41: UserWarning: pandas only supports SQLAlchemy connectable (engine/connection) or database string URI or sqlite3 DBAPI2 connection. Other DBAPI2 objects are not tested. Please consider using SQLAlchemy.\n",
      "  Rdata = pd.read_sql(f\"SELECT * FROM R{year}{dic_sec_table[section]}\", conn)\n",
      "C:\\Users\\Mahsa\\AppData\\Local\\Temp\\ipykernel_7756\\5562260.py:42: UserWarning: pandas only supports SQLAlchemy connectable (engine/connection) or database string URI or sqlite3 DBAPI2 connection. Other DBAPI2 objects are not tested. Please consider using SQLAlchemy.\n",
      "  Udata = pd.read_sql(f\"select * from U{year}{dic_sec_table[section]}\", conn)\n",
      "C:\\Users\\Mahsa\\AppData\\Local\\Temp\\ipykernel_7756\\5562260.py:41: UserWarning: pandas only supports SQLAlchemy connectable (engine/connection) or database string URI or sqlite3 DBAPI2 connection. Other DBAPI2 objects are not tested. Please consider using SQLAlchemy.\n",
      "  Rdata = pd.read_sql(f\"SELECT * FROM R{year}{dic_sec_table[section]}\", conn)\n",
      "C:\\Users\\Mahsa\\AppData\\Local\\Temp\\ipykernel_7756\\5562260.py:42: UserWarning: pandas only supports SQLAlchemy connectable (engine/connection) or database string URI or sqlite3 DBAPI2 connection. Other DBAPI2 objects are not tested. Please consider using SQLAlchemy.\n",
      "  Udata = pd.read_sql(f\"select * from U{year}{dic_sec_table[section]}\", conn)\n",
      "C:\\Users\\Mahsa\\AppData\\Local\\Temp\\ipykernel_7756\\5562260.py:41: UserWarning: pandas only supports SQLAlchemy connectable (engine/connection) or database string URI or sqlite3 DBAPI2 connection. Other DBAPI2 objects are not tested. Please consider using SQLAlchemy.\n",
      "  Rdata = pd.read_sql(f\"SELECT * FROM R{year}{dic_sec_table[section]}\", conn)\n",
      "C:\\Users\\Mahsa\\AppData\\Local\\Temp\\ipykernel_7756\\5562260.py:42: UserWarning: pandas only supports SQLAlchemy connectable (engine/connection) or database string URI or sqlite3 DBAPI2 connection. Other DBAPI2 objects are not tested. Please consider using SQLAlchemy.\n",
      "  Udata = pd.read_sql(f\"select * from U{year}{dic_sec_table[section]}\", conn)\n"
     ]
    },
    {
     "name": "stdout",
     "output_type": "stream",
     "text": [
      "39857\n",
      "HHID                     0\n",
      "FurnitureExp          3859\n",
      "MedicalExp           14508\n",
      "TransportationExp     3974\n",
      "CommunicationExp      3437\n",
      "AmusementExp         27202\n",
      "RestaurantExp        28436\n",
      "HotelExp             39661\n",
      "OtherExp              4137\n",
      "dtype: int64\n",
      "                   Year is :95                    \n"
     ]
    },
    {
     "name": "stderr",
     "output_type": "stream",
     "text": [
      "C:\\Users\\Mahsa\\AppData\\Local\\Temp\\ipykernel_7756\\5562260.py:41: UserWarning: pandas only supports SQLAlchemy connectable (engine/connection) or database string URI or sqlite3 DBAPI2 connection. Other DBAPI2 objects are not tested. Please consider using SQLAlchemy.\n",
      "  Rdata = pd.read_sql(f\"SELECT * FROM R{year}{dic_sec_table[section]}\", conn)\n",
      "C:\\Users\\Mahsa\\AppData\\Local\\Temp\\ipykernel_7756\\5562260.py:42: UserWarning: pandas only supports SQLAlchemy connectable (engine/connection) or database string URI or sqlite3 DBAPI2 connection. Other DBAPI2 objects are not tested. Please consider using SQLAlchemy.\n",
      "  Udata = pd.read_sql(f\"select * from U{year}{dic_sec_table[section]}\", conn)\n",
      "C:\\Users\\Mahsa\\AppData\\Local\\Temp\\ipykernel_7756\\5562260.py:41: UserWarning: pandas only supports SQLAlchemy connectable (engine/connection) or database string URI or sqlite3 DBAPI2 connection. Other DBAPI2 objects are not tested. Please consider using SQLAlchemy.\n",
      "  Rdata = pd.read_sql(f\"SELECT * FROM R{year}{dic_sec_table[section]}\", conn)\n",
      "C:\\Users\\Mahsa\\AppData\\Local\\Temp\\ipykernel_7756\\5562260.py:42: UserWarning: pandas only supports SQLAlchemy connectable (engine/connection) or database string URI or sqlite3 DBAPI2 connection. Other DBAPI2 objects are not tested. Please consider using SQLAlchemy.\n",
      "  Udata = pd.read_sql(f\"select * from U{year}{dic_sec_table[section]}\", conn)\n",
      "C:\\Users\\Mahsa\\AppData\\Local\\Temp\\ipykernel_7756\\5562260.py:41: UserWarning: pandas only supports SQLAlchemy connectable (engine/connection) or database string URI or sqlite3 DBAPI2 connection. Other DBAPI2 objects are not tested. Please consider using SQLAlchemy.\n",
      "  Rdata = pd.read_sql(f\"SELECT * FROM R{year}{dic_sec_table[section]}\", conn)\n",
      "C:\\Users\\Mahsa\\AppData\\Local\\Temp\\ipykernel_7756\\5562260.py:42: UserWarning: pandas only supports SQLAlchemy connectable (engine/connection) or database string URI or sqlite3 DBAPI2 connection. Other DBAPI2 objects are not tested. Please consider using SQLAlchemy.\n",
      "  Udata = pd.read_sql(f\"select * from U{year}{dic_sec_table[section]}\", conn)\n",
      "C:\\Users\\Mahsa\\AppData\\Local\\Temp\\ipykernel_7756\\5562260.py:41: UserWarning: pandas only supports SQLAlchemy connectable (engine/connection) or database string URI or sqlite3 DBAPI2 connection. Other DBAPI2 objects are not tested. Please consider using SQLAlchemy.\n",
      "  Rdata = pd.read_sql(f\"SELECT * FROM R{year}{dic_sec_table[section]}\", conn)\n",
      "C:\\Users\\Mahsa\\AppData\\Local\\Temp\\ipykernel_7756\\5562260.py:42: UserWarning: pandas only supports SQLAlchemy connectable (engine/connection) or database string URI or sqlite3 DBAPI2 connection. Other DBAPI2 objects are not tested. Please consider using SQLAlchemy.\n",
      "  Udata = pd.read_sql(f\"select * from U{year}{dic_sec_table[section]}\", conn)\n",
      "C:\\Users\\Mahsa\\AppData\\Local\\Temp\\ipykernel_7756\\5562260.py:41: UserWarning: pandas only supports SQLAlchemy connectable (engine/connection) or database string URI or sqlite3 DBAPI2 connection. Other DBAPI2 objects are not tested. Please consider using SQLAlchemy.\n",
      "  Rdata = pd.read_sql(f\"SELECT * FROM R{year}{dic_sec_table[section]}\", conn)\n",
      "C:\\Users\\Mahsa\\AppData\\Local\\Temp\\ipykernel_7756\\5562260.py:42: UserWarning: pandas only supports SQLAlchemy connectable (engine/connection) or database string URI or sqlite3 DBAPI2 connection. Other DBAPI2 objects are not tested. Please consider using SQLAlchemy.\n",
      "  Udata = pd.read_sql(f\"select * from U{year}{dic_sec_table[section]}\", conn)\n",
      "C:\\Users\\Mahsa\\AppData\\Local\\Temp\\ipykernel_7756\\5562260.py:41: UserWarning: pandas only supports SQLAlchemy connectable (engine/connection) or database string URI or sqlite3 DBAPI2 connection. Other DBAPI2 objects are not tested. Please consider using SQLAlchemy.\n",
      "  Rdata = pd.read_sql(f\"SELECT * FROM R{year}{dic_sec_table[section]}\", conn)\n",
      "C:\\Users\\Mahsa\\AppData\\Local\\Temp\\ipykernel_7756\\5562260.py:42: UserWarning: pandas only supports SQLAlchemy connectable (engine/connection) or database string URI or sqlite3 DBAPI2 connection. Other DBAPI2 objects are not tested. Please consider using SQLAlchemy.\n",
      "  Udata = pd.read_sql(f\"select * from U{year}{dic_sec_table[section]}\", conn)\n",
      "C:\\Users\\Mahsa\\AppData\\Local\\Temp\\ipykernel_7756\\5562260.py:41: UserWarning: pandas only supports SQLAlchemy connectable (engine/connection) or database string URI or sqlite3 DBAPI2 connection. Other DBAPI2 objects are not tested. Please consider using SQLAlchemy.\n",
      "  Rdata = pd.read_sql(f\"SELECT * FROM R{year}{dic_sec_table[section]}\", conn)\n",
      "C:\\Users\\Mahsa\\AppData\\Local\\Temp\\ipykernel_7756\\5562260.py:42: UserWarning: pandas only supports SQLAlchemy connectable (engine/connection) or database string URI or sqlite3 DBAPI2 connection. Other DBAPI2 objects are not tested. Please consider using SQLAlchemy.\n",
      "  Udata = pd.read_sql(f\"select * from U{year}{dic_sec_table[section]}\", conn)\n",
      "C:\\Users\\Mahsa\\AppData\\Local\\Temp\\ipykernel_7756\\5562260.py:41: UserWarning: pandas only supports SQLAlchemy connectable (engine/connection) or database string URI or sqlite3 DBAPI2 connection. Other DBAPI2 objects are not tested. Please consider using SQLAlchemy.\n",
      "  Rdata = pd.read_sql(f\"SELECT * FROM R{year}{dic_sec_table[section]}\", conn)\n",
      "C:\\Users\\Mahsa\\AppData\\Local\\Temp\\ipykernel_7756\\5562260.py:42: UserWarning: pandas only supports SQLAlchemy connectable (engine/connection) or database string URI or sqlite3 DBAPI2 connection. Other DBAPI2 objects are not tested. Please consider using SQLAlchemy.\n",
      "  Udata = pd.read_sql(f\"select * from U{year}{dic_sec_table[section]}\", conn)\n"
     ]
    },
    {
     "name": "stdout",
     "output_type": "stream",
     "text": [
      "39864\n",
      "HHID                     0\n",
      "FurnitureExp          3846\n",
      "MedicalExp           15347\n",
      "TransportationExp     4270\n",
      "CommunicationExp      3259\n",
      "AmusementExp         27443\n",
      "RestaurantExp        27730\n",
      "HotelExp             39640\n",
      "OtherExp              4474\n",
      "dtype: int64\n",
      "                   Year is :96                    \n"
     ]
    },
    {
     "name": "stderr",
     "output_type": "stream",
     "text": [
      "C:\\Users\\Mahsa\\AppData\\Local\\Temp\\ipykernel_7756\\5562260.py:41: UserWarning: pandas only supports SQLAlchemy connectable (engine/connection) or database string URI or sqlite3 DBAPI2 connection. Other DBAPI2 objects are not tested. Please consider using SQLAlchemy.\n",
      "  Rdata = pd.read_sql(f\"SELECT * FROM R{year}{dic_sec_table[section]}\", conn)\n",
      "C:\\Users\\Mahsa\\AppData\\Local\\Temp\\ipykernel_7756\\5562260.py:42: UserWarning: pandas only supports SQLAlchemy connectable (engine/connection) or database string URI or sqlite3 DBAPI2 connection. Other DBAPI2 objects are not tested. Please consider using SQLAlchemy.\n",
      "  Udata = pd.read_sql(f\"select * from U{year}{dic_sec_table[section]}\", conn)\n",
      "C:\\Users\\Mahsa\\AppData\\Local\\Temp\\ipykernel_7756\\5562260.py:41: UserWarning: pandas only supports SQLAlchemy connectable (engine/connection) or database string URI or sqlite3 DBAPI2 connection. Other DBAPI2 objects are not tested. Please consider using SQLAlchemy.\n",
      "  Rdata = pd.read_sql(f\"SELECT * FROM R{year}{dic_sec_table[section]}\", conn)\n",
      "C:\\Users\\Mahsa\\AppData\\Local\\Temp\\ipykernel_7756\\5562260.py:42: UserWarning: pandas only supports SQLAlchemy connectable (engine/connection) or database string URI or sqlite3 DBAPI2 connection. Other DBAPI2 objects are not tested. Please consider using SQLAlchemy.\n",
      "  Udata = pd.read_sql(f\"select * from U{year}{dic_sec_table[section]}\", conn)\n",
      "C:\\Users\\Mahsa\\AppData\\Local\\Temp\\ipykernel_7756\\5562260.py:41: UserWarning: pandas only supports SQLAlchemy connectable (engine/connection) or database string URI or sqlite3 DBAPI2 connection. Other DBAPI2 objects are not tested. Please consider using SQLAlchemy.\n",
      "  Rdata = pd.read_sql(f\"SELECT * FROM R{year}{dic_sec_table[section]}\", conn)\n",
      "C:\\Users\\Mahsa\\AppData\\Local\\Temp\\ipykernel_7756\\5562260.py:42: UserWarning: pandas only supports SQLAlchemy connectable (engine/connection) or database string URI or sqlite3 DBAPI2 connection. Other DBAPI2 objects are not tested. Please consider using SQLAlchemy.\n",
      "  Udata = pd.read_sql(f\"select * from U{year}{dic_sec_table[section]}\", conn)\n",
      "C:\\Users\\Mahsa\\AppData\\Local\\Temp\\ipykernel_7756\\5562260.py:41: UserWarning: pandas only supports SQLAlchemy connectable (engine/connection) or database string URI or sqlite3 DBAPI2 connection. Other DBAPI2 objects are not tested. Please consider using SQLAlchemy.\n",
      "  Rdata = pd.read_sql(f\"SELECT * FROM R{year}{dic_sec_table[section]}\", conn)\n",
      "C:\\Users\\Mahsa\\AppData\\Local\\Temp\\ipykernel_7756\\5562260.py:42: UserWarning: pandas only supports SQLAlchemy connectable (engine/connection) or database string URI or sqlite3 DBAPI2 connection. Other DBAPI2 objects are not tested. Please consider using SQLAlchemy.\n",
      "  Udata = pd.read_sql(f\"select * from U{year}{dic_sec_table[section]}\", conn)\n",
      "C:\\Users\\Mahsa\\AppData\\Local\\Temp\\ipykernel_7756\\5562260.py:41: UserWarning: pandas only supports SQLAlchemy connectable (engine/connection) or database string URI or sqlite3 DBAPI2 connection. Other DBAPI2 objects are not tested. Please consider using SQLAlchemy.\n",
      "  Rdata = pd.read_sql(f\"SELECT * FROM R{year}{dic_sec_table[section]}\", conn)\n",
      "C:\\Users\\Mahsa\\AppData\\Local\\Temp\\ipykernel_7756\\5562260.py:42: UserWarning: pandas only supports SQLAlchemy connectable (engine/connection) or database string URI or sqlite3 DBAPI2 connection. Other DBAPI2 objects are not tested. Please consider using SQLAlchemy.\n",
      "  Udata = pd.read_sql(f\"select * from U{year}{dic_sec_table[section]}\", conn)\n",
      "C:\\Users\\Mahsa\\AppData\\Local\\Temp\\ipykernel_7756\\5562260.py:41: UserWarning: pandas only supports SQLAlchemy connectable (engine/connection) or database string URI or sqlite3 DBAPI2 connection. Other DBAPI2 objects are not tested. Please consider using SQLAlchemy.\n",
      "  Rdata = pd.read_sql(f\"SELECT * FROM R{year}{dic_sec_table[section]}\", conn)\n",
      "C:\\Users\\Mahsa\\AppData\\Local\\Temp\\ipykernel_7756\\5562260.py:42: UserWarning: pandas only supports SQLAlchemy connectable (engine/connection) or database string URI or sqlite3 DBAPI2 connection. Other DBAPI2 objects are not tested. Please consider using SQLAlchemy.\n",
      "  Udata = pd.read_sql(f\"select * from U{year}{dic_sec_table[section]}\", conn)\n",
      "C:\\Users\\Mahsa\\AppData\\Local\\Temp\\ipykernel_7756\\5562260.py:41: UserWarning: pandas only supports SQLAlchemy connectable (engine/connection) or database string URI or sqlite3 DBAPI2 connection. Other DBAPI2 objects are not tested. Please consider using SQLAlchemy.\n",
      "  Rdata = pd.read_sql(f\"SELECT * FROM R{year}{dic_sec_table[section]}\", conn)\n",
      "C:\\Users\\Mahsa\\AppData\\Local\\Temp\\ipykernel_7756\\5562260.py:42: UserWarning: pandas only supports SQLAlchemy connectable (engine/connection) or database string URI or sqlite3 DBAPI2 connection. Other DBAPI2 objects are not tested. Please consider using SQLAlchemy.\n",
      "  Udata = pd.read_sql(f\"select * from U{year}{dic_sec_table[section]}\", conn)\n",
      "C:\\Users\\Mahsa\\AppData\\Local\\Temp\\ipykernel_7756\\5562260.py:41: UserWarning: pandas only supports SQLAlchemy connectable (engine/connection) or database string URI or sqlite3 DBAPI2 connection. Other DBAPI2 objects are not tested. Please consider using SQLAlchemy.\n",
      "  Rdata = pd.read_sql(f\"SELECT * FROM R{year}{dic_sec_table[section]}\", conn)\n",
      "C:\\Users\\Mahsa\\AppData\\Local\\Temp\\ipykernel_7756\\5562260.py:42: UserWarning: pandas only supports SQLAlchemy connectable (engine/connection) or database string URI or sqlite3 DBAPI2 connection. Other DBAPI2 objects are not tested. Please consider using SQLAlchemy.\n",
      "  Udata = pd.read_sql(f\"select * from U{year}{dic_sec_table[section]}\", conn)\n"
     ]
    },
    {
     "name": "stdout",
     "output_type": "stream",
     "text": [
      "37962\n",
      "HHID                     0\n",
      "FurnitureExp          1933\n",
      "MedicalExp           12408\n",
      "TransportationExp     2432\n",
      "CommunicationExp      1455\n",
      "AmusementExp         25535\n",
      "RestaurantExp        25562\n",
      "HotelExp             37727\n",
      "OtherExp              2481\n",
      "dtype: int64\n",
      "                   Year is :97                    \n"
     ]
    },
    {
     "name": "stderr",
     "output_type": "stream",
     "text": [
      "C:\\Users\\Mahsa\\AppData\\Local\\Temp\\ipykernel_7756\\5562260.py:41: UserWarning: pandas only supports SQLAlchemy connectable (engine/connection) or database string URI or sqlite3 DBAPI2 connection. Other DBAPI2 objects are not tested. Please consider using SQLAlchemy.\n",
      "  Rdata = pd.read_sql(f\"SELECT * FROM R{year}{dic_sec_table[section]}\", conn)\n",
      "C:\\Users\\Mahsa\\AppData\\Local\\Temp\\ipykernel_7756\\5562260.py:42: UserWarning: pandas only supports SQLAlchemy connectable (engine/connection) or database string URI or sqlite3 DBAPI2 connection. Other DBAPI2 objects are not tested. Please consider using SQLAlchemy.\n",
      "  Udata = pd.read_sql(f\"select * from U{year}{dic_sec_table[section]}\", conn)\n",
      "C:\\Users\\Mahsa\\AppData\\Local\\Temp\\ipykernel_7756\\5562260.py:41: UserWarning: pandas only supports SQLAlchemy connectable (engine/connection) or database string URI or sqlite3 DBAPI2 connection. Other DBAPI2 objects are not tested. Please consider using SQLAlchemy.\n",
      "  Rdata = pd.read_sql(f\"SELECT * FROM R{year}{dic_sec_table[section]}\", conn)\n",
      "C:\\Users\\Mahsa\\AppData\\Local\\Temp\\ipykernel_7756\\5562260.py:42: UserWarning: pandas only supports SQLAlchemy connectable (engine/connection) or database string URI or sqlite3 DBAPI2 connection. Other DBAPI2 objects are not tested. Please consider using SQLAlchemy.\n",
      "  Udata = pd.read_sql(f\"select * from U{year}{dic_sec_table[section]}\", conn)\n",
      "C:\\Users\\Mahsa\\AppData\\Local\\Temp\\ipykernel_7756\\5562260.py:41: UserWarning: pandas only supports SQLAlchemy connectable (engine/connection) or database string URI or sqlite3 DBAPI2 connection. Other DBAPI2 objects are not tested. Please consider using SQLAlchemy.\n",
      "  Rdata = pd.read_sql(f\"SELECT * FROM R{year}{dic_sec_table[section]}\", conn)\n",
      "C:\\Users\\Mahsa\\AppData\\Local\\Temp\\ipykernel_7756\\5562260.py:42: UserWarning: pandas only supports SQLAlchemy connectable (engine/connection) or database string URI or sqlite3 DBAPI2 connection. Other DBAPI2 objects are not tested. Please consider using SQLAlchemy.\n",
      "  Udata = pd.read_sql(f\"select * from U{year}{dic_sec_table[section]}\", conn)\n",
      "C:\\Users\\Mahsa\\AppData\\Local\\Temp\\ipykernel_7756\\5562260.py:41: UserWarning: pandas only supports SQLAlchemy connectable (engine/connection) or database string URI or sqlite3 DBAPI2 connection. Other DBAPI2 objects are not tested. Please consider using SQLAlchemy.\n",
      "  Rdata = pd.read_sql(f\"SELECT * FROM R{year}{dic_sec_table[section]}\", conn)\n",
      "C:\\Users\\Mahsa\\AppData\\Local\\Temp\\ipykernel_7756\\5562260.py:42: UserWarning: pandas only supports SQLAlchemy connectable (engine/connection) or database string URI or sqlite3 DBAPI2 connection. Other DBAPI2 objects are not tested. Please consider using SQLAlchemy.\n",
      "  Udata = pd.read_sql(f\"select * from U{year}{dic_sec_table[section]}\", conn)\n",
      "C:\\Users\\Mahsa\\AppData\\Local\\Temp\\ipykernel_7756\\5562260.py:41: UserWarning: pandas only supports SQLAlchemy connectable (engine/connection) or database string URI or sqlite3 DBAPI2 connection. Other DBAPI2 objects are not tested. Please consider using SQLAlchemy.\n",
      "  Rdata = pd.read_sql(f\"SELECT * FROM R{year}{dic_sec_table[section]}\", conn)\n",
      "C:\\Users\\Mahsa\\AppData\\Local\\Temp\\ipykernel_7756\\5562260.py:42: UserWarning: pandas only supports SQLAlchemy connectable (engine/connection) or database string URI or sqlite3 DBAPI2 connection. Other DBAPI2 objects are not tested. Please consider using SQLAlchemy.\n",
      "  Udata = pd.read_sql(f\"select * from U{year}{dic_sec_table[section]}\", conn)\n",
      "C:\\Users\\Mahsa\\AppData\\Local\\Temp\\ipykernel_7756\\5562260.py:41: UserWarning: pandas only supports SQLAlchemy connectable (engine/connection) or database string URI or sqlite3 DBAPI2 connection. Other DBAPI2 objects are not tested. Please consider using SQLAlchemy.\n",
      "  Rdata = pd.read_sql(f\"SELECT * FROM R{year}{dic_sec_table[section]}\", conn)\n",
      "C:\\Users\\Mahsa\\AppData\\Local\\Temp\\ipykernel_7756\\5562260.py:42: UserWarning: pandas only supports SQLAlchemy connectable (engine/connection) or database string URI or sqlite3 DBAPI2 connection. Other DBAPI2 objects are not tested. Please consider using SQLAlchemy.\n",
      "  Udata = pd.read_sql(f\"select * from U{year}{dic_sec_table[section]}\", conn)\n",
      "C:\\Users\\Mahsa\\AppData\\Local\\Temp\\ipykernel_7756\\5562260.py:41: UserWarning: pandas only supports SQLAlchemy connectable (engine/connection) or database string URI or sqlite3 DBAPI2 connection. Other DBAPI2 objects are not tested. Please consider using SQLAlchemy.\n",
      "  Rdata = pd.read_sql(f\"SELECT * FROM R{year}{dic_sec_table[section]}\", conn)\n",
      "C:\\Users\\Mahsa\\AppData\\Local\\Temp\\ipykernel_7756\\5562260.py:42: UserWarning: pandas only supports SQLAlchemy connectable (engine/connection) or database string URI or sqlite3 DBAPI2 connection. Other DBAPI2 objects are not tested. Please consider using SQLAlchemy.\n",
      "  Udata = pd.read_sql(f\"select * from U{year}{dic_sec_table[section]}\", conn)\n",
      "C:\\Users\\Mahsa\\AppData\\Local\\Temp\\ipykernel_7756\\5562260.py:41: UserWarning: pandas only supports SQLAlchemy connectable (engine/connection) or database string URI or sqlite3 DBAPI2 connection. Other DBAPI2 objects are not tested. Please consider using SQLAlchemy.\n",
      "  Rdata = pd.read_sql(f\"SELECT * FROM R{year}{dic_sec_table[section]}\", conn)\n",
      "C:\\Users\\Mahsa\\AppData\\Local\\Temp\\ipykernel_7756\\5562260.py:42: UserWarning: pandas only supports SQLAlchemy connectable (engine/connection) or database string URI or sqlite3 DBAPI2 connection. Other DBAPI2 objects are not tested. Please consider using SQLAlchemy.\n",
      "  Udata = pd.read_sql(f\"select * from U{year}{dic_sec_table[section]}\", conn)\n"
     ]
    },
    {
     "name": "stdout",
     "output_type": "stream",
     "text": [
      "38960\n",
      "HHID                     0\n",
      "FurnitureExp          2598\n",
      "MedicalExp           13575\n",
      "TransportationExp     2532\n",
      "CommunicationExp      1303\n",
      "AmusementExp         26837\n",
      "RestaurantExp        25757\n",
      "HotelExp             38674\n",
      "OtherExp              2816\n",
      "dtype: int64\n",
      "                   Year is :98                    \n"
     ]
    },
    {
     "name": "stderr",
     "output_type": "stream",
     "text": [
      "C:\\Users\\Mahsa\\AppData\\Local\\Temp\\ipykernel_7756\\5562260.py:41: UserWarning: pandas only supports SQLAlchemy connectable (engine/connection) or database string URI or sqlite3 DBAPI2 connection. Other DBAPI2 objects are not tested. Please consider using SQLAlchemy.\n",
      "  Rdata = pd.read_sql(f\"SELECT * FROM R{year}{dic_sec_table[section]}\", conn)\n",
      "C:\\Users\\Mahsa\\AppData\\Local\\Temp\\ipykernel_7756\\5562260.py:42: UserWarning: pandas only supports SQLAlchemy connectable (engine/connection) or database string URI or sqlite3 DBAPI2 connection. Other DBAPI2 objects are not tested. Please consider using SQLAlchemy.\n",
      "  Udata = pd.read_sql(f\"select * from U{year}{dic_sec_table[section]}\", conn)\n",
      "C:\\Users\\Mahsa\\AppData\\Local\\Temp\\ipykernel_7756\\5562260.py:41: UserWarning: pandas only supports SQLAlchemy connectable (engine/connection) or database string URI or sqlite3 DBAPI2 connection. Other DBAPI2 objects are not tested. Please consider using SQLAlchemy.\n",
      "  Rdata = pd.read_sql(f\"SELECT * FROM R{year}{dic_sec_table[section]}\", conn)\n",
      "C:\\Users\\Mahsa\\AppData\\Local\\Temp\\ipykernel_7756\\5562260.py:42: UserWarning: pandas only supports SQLAlchemy connectable (engine/connection) or database string URI or sqlite3 DBAPI2 connection. Other DBAPI2 objects are not tested. Please consider using SQLAlchemy.\n",
      "  Udata = pd.read_sql(f\"select * from U{year}{dic_sec_table[section]}\", conn)\n",
      "C:\\Users\\Mahsa\\AppData\\Local\\Temp\\ipykernel_7756\\5562260.py:41: UserWarning: pandas only supports SQLAlchemy connectable (engine/connection) or database string URI or sqlite3 DBAPI2 connection. Other DBAPI2 objects are not tested. Please consider using SQLAlchemy.\n",
      "  Rdata = pd.read_sql(f\"SELECT * FROM R{year}{dic_sec_table[section]}\", conn)\n",
      "C:\\Users\\Mahsa\\AppData\\Local\\Temp\\ipykernel_7756\\5562260.py:42: UserWarning: pandas only supports SQLAlchemy connectable (engine/connection) or database string URI or sqlite3 DBAPI2 connection. Other DBAPI2 objects are not tested. Please consider using SQLAlchemy.\n",
      "  Udata = pd.read_sql(f\"select * from U{year}{dic_sec_table[section]}\", conn)\n",
      "C:\\Users\\Mahsa\\AppData\\Local\\Temp\\ipykernel_7756\\5562260.py:41: UserWarning: pandas only supports SQLAlchemy connectable (engine/connection) or database string URI or sqlite3 DBAPI2 connection. Other DBAPI2 objects are not tested. Please consider using SQLAlchemy.\n",
      "  Rdata = pd.read_sql(f\"SELECT * FROM R{year}{dic_sec_table[section]}\", conn)\n",
      "C:\\Users\\Mahsa\\AppData\\Local\\Temp\\ipykernel_7756\\5562260.py:42: UserWarning: pandas only supports SQLAlchemy connectable (engine/connection) or database string URI or sqlite3 DBAPI2 connection. Other DBAPI2 objects are not tested. Please consider using SQLAlchemy.\n",
      "  Udata = pd.read_sql(f\"select * from U{year}{dic_sec_table[section]}\", conn)\n",
      "C:\\Users\\Mahsa\\AppData\\Local\\Temp\\ipykernel_7756\\5562260.py:41: UserWarning: pandas only supports SQLAlchemy connectable (engine/connection) or database string URI or sqlite3 DBAPI2 connection. Other DBAPI2 objects are not tested. Please consider using SQLAlchemy.\n",
      "  Rdata = pd.read_sql(f\"SELECT * FROM R{year}{dic_sec_table[section]}\", conn)\n",
      "C:\\Users\\Mahsa\\AppData\\Local\\Temp\\ipykernel_7756\\5562260.py:42: UserWarning: pandas only supports SQLAlchemy connectable (engine/connection) or database string URI or sqlite3 DBAPI2 connection. Other DBAPI2 objects are not tested. Please consider using SQLAlchemy.\n",
      "  Udata = pd.read_sql(f\"select * from U{year}{dic_sec_table[section]}\", conn)\n",
      "C:\\Users\\Mahsa\\AppData\\Local\\Temp\\ipykernel_7756\\5562260.py:41: UserWarning: pandas only supports SQLAlchemy connectable (engine/connection) or database string URI or sqlite3 DBAPI2 connection. Other DBAPI2 objects are not tested. Please consider using SQLAlchemy.\n",
      "  Rdata = pd.read_sql(f\"SELECT * FROM R{year}{dic_sec_table[section]}\", conn)\n",
      "C:\\Users\\Mahsa\\AppData\\Local\\Temp\\ipykernel_7756\\5562260.py:42: UserWarning: pandas only supports SQLAlchemy connectable (engine/connection) or database string URI or sqlite3 DBAPI2 connection. Other DBAPI2 objects are not tested. Please consider using SQLAlchemy.\n",
      "  Udata = pd.read_sql(f\"select * from U{year}{dic_sec_table[section]}\", conn)\n",
      "C:\\Users\\Mahsa\\AppData\\Local\\Temp\\ipykernel_7756\\5562260.py:41: UserWarning: pandas only supports SQLAlchemy connectable (engine/connection) or database string URI or sqlite3 DBAPI2 connection. Other DBAPI2 objects are not tested. Please consider using SQLAlchemy.\n",
      "  Rdata = pd.read_sql(f\"SELECT * FROM R{year}{dic_sec_table[section]}\", conn)\n",
      "C:\\Users\\Mahsa\\AppData\\Local\\Temp\\ipykernel_7756\\5562260.py:42: UserWarning: pandas only supports SQLAlchemy connectable (engine/connection) or database string URI or sqlite3 DBAPI2 connection. Other DBAPI2 objects are not tested. Please consider using SQLAlchemy.\n",
      "  Udata = pd.read_sql(f\"select * from U{year}{dic_sec_table[section]}\", conn)\n",
      "C:\\Users\\Mahsa\\AppData\\Local\\Temp\\ipykernel_7756\\5562260.py:41: UserWarning: pandas only supports SQLAlchemy connectable (engine/connection) or database string URI or sqlite3 DBAPI2 connection. Other DBAPI2 objects are not tested. Please consider using SQLAlchemy.\n",
      "  Rdata = pd.read_sql(f\"SELECT * FROM R{year}{dic_sec_table[section]}\", conn)\n",
      "C:\\Users\\Mahsa\\AppData\\Local\\Temp\\ipykernel_7756\\5562260.py:42: UserWarning: pandas only supports SQLAlchemy connectable (engine/connection) or database string URI or sqlite3 DBAPI2 connection. Other DBAPI2 objects are not tested. Please consider using SQLAlchemy.\n",
      "  Udata = pd.read_sql(f\"select * from U{year}{dic_sec_table[section]}\", conn)\n"
     ]
    },
    {
     "name": "stdout",
     "output_type": "stream",
     "text": [
      "38328\n",
      "HHID                     0\n",
      "FurnitureExp          2647\n",
      "MedicalExp           12998\n",
      "TransportationExp     2835\n",
      "CommunicationExp      1338\n",
      "AmusementExp         28416\n",
      "RestaurantExp        26923\n",
      "HotelExp             38109\n",
      "OtherExp              2984\n",
      "dtype: int64\n",
      "                   Year is :99                    \n"
     ]
    },
    {
     "name": "stderr",
     "output_type": "stream",
     "text": [
      "C:\\Users\\Mahsa\\AppData\\Local\\Temp\\ipykernel_7756\\5562260.py:41: UserWarning: pandas only supports SQLAlchemy connectable (engine/connection) or database string URI or sqlite3 DBAPI2 connection. Other DBAPI2 objects are not tested. Please consider using SQLAlchemy.\n",
      "  Rdata = pd.read_sql(f\"SELECT * FROM R{year}{dic_sec_table[section]}\", conn)\n",
      "C:\\Users\\Mahsa\\AppData\\Local\\Temp\\ipykernel_7756\\5562260.py:42: UserWarning: pandas only supports SQLAlchemy connectable (engine/connection) or database string URI or sqlite3 DBAPI2 connection. Other DBAPI2 objects are not tested. Please consider using SQLAlchemy.\n",
      "  Udata = pd.read_sql(f\"select * from U{year}{dic_sec_table[section]}\", conn)\n",
      "C:\\Users\\Mahsa\\AppData\\Local\\Temp\\ipykernel_7756\\5562260.py:41: UserWarning: pandas only supports SQLAlchemy connectable (engine/connection) or database string URI or sqlite3 DBAPI2 connection. Other DBAPI2 objects are not tested. Please consider using SQLAlchemy.\n",
      "  Rdata = pd.read_sql(f\"SELECT * FROM R{year}{dic_sec_table[section]}\", conn)\n",
      "C:\\Users\\Mahsa\\AppData\\Local\\Temp\\ipykernel_7756\\5562260.py:42: UserWarning: pandas only supports SQLAlchemy connectable (engine/connection) or database string URI or sqlite3 DBAPI2 connection. Other DBAPI2 objects are not tested. Please consider using SQLAlchemy.\n",
      "  Udata = pd.read_sql(f\"select * from U{year}{dic_sec_table[section]}\", conn)\n",
      "C:\\Users\\Mahsa\\AppData\\Local\\Temp\\ipykernel_7756\\5562260.py:41: UserWarning: pandas only supports SQLAlchemy connectable (engine/connection) or database string URI or sqlite3 DBAPI2 connection. Other DBAPI2 objects are not tested. Please consider using SQLAlchemy.\n",
      "  Rdata = pd.read_sql(f\"SELECT * FROM R{year}{dic_sec_table[section]}\", conn)\n",
      "C:\\Users\\Mahsa\\AppData\\Local\\Temp\\ipykernel_7756\\5562260.py:42: UserWarning: pandas only supports SQLAlchemy connectable (engine/connection) or database string URI or sqlite3 DBAPI2 connection. Other DBAPI2 objects are not tested. Please consider using SQLAlchemy.\n",
      "  Udata = pd.read_sql(f\"select * from U{year}{dic_sec_table[section]}\", conn)\n",
      "C:\\Users\\Mahsa\\AppData\\Local\\Temp\\ipykernel_7756\\5562260.py:41: UserWarning: pandas only supports SQLAlchemy connectable (engine/connection) or database string URI or sqlite3 DBAPI2 connection. Other DBAPI2 objects are not tested. Please consider using SQLAlchemy.\n",
      "  Rdata = pd.read_sql(f\"SELECT * FROM R{year}{dic_sec_table[section]}\", conn)\n",
      "C:\\Users\\Mahsa\\AppData\\Local\\Temp\\ipykernel_7756\\5562260.py:42: UserWarning: pandas only supports SQLAlchemy connectable (engine/connection) or database string URI or sqlite3 DBAPI2 connection. Other DBAPI2 objects are not tested. Please consider using SQLAlchemy.\n",
      "  Udata = pd.read_sql(f\"select * from U{year}{dic_sec_table[section]}\", conn)\n",
      "C:\\Users\\Mahsa\\AppData\\Local\\Temp\\ipykernel_7756\\5562260.py:41: UserWarning: pandas only supports SQLAlchemy connectable (engine/connection) or database string URI or sqlite3 DBAPI2 connection. Other DBAPI2 objects are not tested. Please consider using SQLAlchemy.\n",
      "  Rdata = pd.read_sql(f\"SELECT * FROM R{year}{dic_sec_table[section]}\", conn)\n",
      "C:\\Users\\Mahsa\\AppData\\Local\\Temp\\ipykernel_7756\\5562260.py:42: UserWarning: pandas only supports SQLAlchemy connectable (engine/connection) or database string URI or sqlite3 DBAPI2 connection. Other DBAPI2 objects are not tested. Please consider using SQLAlchemy.\n",
      "  Udata = pd.read_sql(f\"select * from U{year}{dic_sec_table[section]}\", conn)\n",
      "C:\\Users\\Mahsa\\AppData\\Local\\Temp\\ipykernel_7756\\5562260.py:41: UserWarning: pandas only supports SQLAlchemy connectable (engine/connection) or database string URI or sqlite3 DBAPI2 connection. Other DBAPI2 objects are not tested. Please consider using SQLAlchemy.\n",
      "  Rdata = pd.read_sql(f\"SELECT * FROM R{year}{dic_sec_table[section]}\", conn)\n",
      "C:\\Users\\Mahsa\\AppData\\Local\\Temp\\ipykernel_7756\\5562260.py:42: UserWarning: pandas only supports SQLAlchemy connectable (engine/connection) or database string URI or sqlite3 DBAPI2 connection. Other DBAPI2 objects are not tested. Please consider using SQLAlchemy.\n",
      "  Udata = pd.read_sql(f\"select * from U{year}{dic_sec_table[section]}\", conn)\n",
      "C:\\Users\\Mahsa\\AppData\\Local\\Temp\\ipykernel_7756\\5562260.py:41: UserWarning: pandas only supports SQLAlchemy connectable (engine/connection) or database string URI or sqlite3 DBAPI2 connection. Other DBAPI2 objects are not tested. Please consider using SQLAlchemy.\n",
      "  Rdata = pd.read_sql(f\"SELECT * FROM R{year}{dic_sec_table[section]}\", conn)\n",
      "C:\\Users\\Mahsa\\AppData\\Local\\Temp\\ipykernel_7756\\5562260.py:42: UserWarning: pandas only supports SQLAlchemy connectable (engine/connection) or database string URI or sqlite3 DBAPI2 connection. Other DBAPI2 objects are not tested. Please consider using SQLAlchemy.\n",
      "  Udata = pd.read_sql(f\"select * from U{year}{dic_sec_table[section]}\", conn)\n",
      "C:\\Users\\Mahsa\\AppData\\Local\\Temp\\ipykernel_7756\\5562260.py:41: UserWarning: pandas only supports SQLAlchemy connectable (engine/connection) or database string URI or sqlite3 DBAPI2 connection. Other DBAPI2 objects are not tested. Please consider using SQLAlchemy.\n",
      "  Rdata = pd.read_sql(f\"SELECT * FROM R{year}{dic_sec_table[section]}\", conn)\n",
      "C:\\Users\\Mahsa\\AppData\\Local\\Temp\\ipykernel_7756\\5562260.py:42: UserWarning: pandas only supports SQLAlchemy connectable (engine/connection) or database string URI or sqlite3 DBAPI2 connection. Other DBAPI2 objects are not tested. Please consider using SQLAlchemy.\n",
      "  Udata = pd.read_sql(f\"select * from U{year}{dic_sec_table[section]}\", conn)\n"
     ]
    },
    {
     "name": "stdout",
     "output_type": "stream",
     "text": [
      "37557\n",
      "HHID                     0\n",
      "FurnitureExp          2126\n",
      "MedicalExp           11082\n",
      "TransportationExp     3967\n",
      "CommunicationExp      1111\n",
      "AmusementExp         30198\n",
      "RestaurantExp        30677\n",
      "HotelExp             37517\n",
      "OtherExp              3127\n",
      "dtype: int64\n",
      "                  Year is :1400                   \n"
     ]
    },
    {
     "name": "stderr",
     "output_type": "stream",
     "text": [
      "C:\\Users\\Mahsa\\AppData\\Local\\Temp\\ipykernel_7756\\5562260.py:41: UserWarning: pandas only supports SQLAlchemy connectable (engine/connection) or database string URI or sqlite3 DBAPI2 connection. Other DBAPI2 objects are not tested. Please consider using SQLAlchemy.\n",
      "  Rdata = pd.read_sql(f\"SELECT * FROM R{year}{dic_sec_table[section]}\", conn)\n",
      "C:\\Users\\Mahsa\\AppData\\Local\\Temp\\ipykernel_7756\\5562260.py:42: UserWarning: pandas only supports SQLAlchemy connectable (engine/connection) or database string URI or sqlite3 DBAPI2 connection. Other DBAPI2 objects are not tested. Please consider using SQLAlchemy.\n",
      "  Udata = pd.read_sql(f\"select * from U{year}{dic_sec_table[section]}\", conn)\n",
      "C:\\Users\\Mahsa\\AppData\\Local\\Temp\\ipykernel_7756\\5562260.py:41: UserWarning: pandas only supports SQLAlchemy connectable (engine/connection) or database string URI or sqlite3 DBAPI2 connection. Other DBAPI2 objects are not tested. Please consider using SQLAlchemy.\n",
      "  Rdata = pd.read_sql(f\"SELECT * FROM R{year}{dic_sec_table[section]}\", conn)\n",
      "C:\\Users\\Mahsa\\AppData\\Local\\Temp\\ipykernel_7756\\5562260.py:42: UserWarning: pandas only supports SQLAlchemy connectable (engine/connection) or database string URI or sqlite3 DBAPI2 connection. Other DBAPI2 objects are not tested. Please consider using SQLAlchemy.\n",
      "  Udata = pd.read_sql(f\"select * from U{year}{dic_sec_table[section]}\", conn)\n",
      "C:\\Users\\Mahsa\\AppData\\Local\\Temp\\ipykernel_7756\\5562260.py:41: UserWarning: pandas only supports SQLAlchemy connectable (engine/connection) or database string URI or sqlite3 DBAPI2 connection. Other DBAPI2 objects are not tested. Please consider using SQLAlchemy.\n",
      "  Rdata = pd.read_sql(f\"SELECT * FROM R{year}{dic_sec_table[section]}\", conn)\n",
      "C:\\Users\\Mahsa\\AppData\\Local\\Temp\\ipykernel_7756\\5562260.py:42: UserWarning: pandas only supports SQLAlchemy connectable (engine/connection) or database string URI or sqlite3 DBAPI2 connection. Other DBAPI2 objects are not tested. Please consider using SQLAlchemy.\n",
      "  Udata = pd.read_sql(f\"select * from U{year}{dic_sec_table[section]}\", conn)\n",
      "C:\\Users\\Mahsa\\AppData\\Local\\Temp\\ipykernel_7756\\5562260.py:41: UserWarning: pandas only supports SQLAlchemy connectable (engine/connection) or database string URI or sqlite3 DBAPI2 connection. Other DBAPI2 objects are not tested. Please consider using SQLAlchemy.\n",
      "  Rdata = pd.read_sql(f\"SELECT * FROM R{year}{dic_sec_table[section]}\", conn)\n",
      "C:\\Users\\Mahsa\\AppData\\Local\\Temp\\ipykernel_7756\\5562260.py:42: UserWarning: pandas only supports SQLAlchemy connectable (engine/connection) or database string URI or sqlite3 DBAPI2 connection. Other DBAPI2 objects are not tested. Please consider using SQLAlchemy.\n",
      "  Udata = pd.read_sql(f\"select * from U{year}{dic_sec_table[section]}\", conn)\n",
      "C:\\Users\\Mahsa\\AppData\\Local\\Temp\\ipykernel_7756\\5562260.py:41: UserWarning: pandas only supports SQLAlchemy connectable (engine/connection) or database string URI or sqlite3 DBAPI2 connection. Other DBAPI2 objects are not tested. Please consider using SQLAlchemy.\n",
      "  Rdata = pd.read_sql(f\"SELECT * FROM R{year}{dic_sec_table[section]}\", conn)\n",
      "C:\\Users\\Mahsa\\AppData\\Local\\Temp\\ipykernel_7756\\5562260.py:42: UserWarning: pandas only supports SQLAlchemy connectable (engine/connection) or database string URI or sqlite3 DBAPI2 connection. Other DBAPI2 objects are not tested. Please consider using SQLAlchemy.\n",
      "  Udata = pd.read_sql(f\"select * from U{year}{dic_sec_table[section]}\", conn)\n",
      "C:\\Users\\Mahsa\\AppData\\Local\\Temp\\ipykernel_7756\\5562260.py:41: UserWarning: pandas only supports SQLAlchemy connectable (engine/connection) or database string URI or sqlite3 DBAPI2 connection. Other DBAPI2 objects are not tested. Please consider using SQLAlchemy.\n",
      "  Rdata = pd.read_sql(f\"SELECT * FROM R{year}{dic_sec_table[section]}\", conn)\n",
      "C:\\Users\\Mahsa\\AppData\\Local\\Temp\\ipykernel_7756\\5562260.py:42: UserWarning: pandas only supports SQLAlchemy connectable (engine/connection) or database string URI or sqlite3 DBAPI2 connection. Other DBAPI2 objects are not tested. Please consider using SQLAlchemy.\n",
      "  Udata = pd.read_sql(f\"select * from U{year}{dic_sec_table[section]}\", conn)\n",
      "C:\\Users\\Mahsa\\AppData\\Local\\Temp\\ipykernel_7756\\5562260.py:41: UserWarning: pandas only supports SQLAlchemy connectable (engine/connection) or database string URI or sqlite3 DBAPI2 connection. Other DBAPI2 objects are not tested. Please consider using SQLAlchemy.\n",
      "  Rdata = pd.read_sql(f\"SELECT * FROM R{year}{dic_sec_table[section]}\", conn)\n",
      "C:\\Users\\Mahsa\\AppData\\Local\\Temp\\ipykernel_7756\\5562260.py:42: UserWarning: pandas only supports SQLAlchemy connectable (engine/connection) or database string URI or sqlite3 DBAPI2 connection. Other DBAPI2 objects are not tested. Please consider using SQLAlchemy.\n",
      "  Udata = pd.read_sql(f\"select * from U{year}{dic_sec_table[section]}\", conn)\n",
      "C:\\Users\\Mahsa\\AppData\\Local\\Temp\\ipykernel_7756\\5562260.py:41: UserWarning: pandas only supports SQLAlchemy connectable (engine/connection) or database string URI or sqlite3 DBAPI2 connection. Other DBAPI2 objects are not tested. Please consider using SQLAlchemy.\n",
      "  Rdata = pd.read_sql(f\"SELECT * FROM R{year}{dic_sec_table[section]}\", conn)\n",
      "C:\\Users\\Mahsa\\AppData\\Local\\Temp\\ipykernel_7756\\5562260.py:42: UserWarning: pandas only supports SQLAlchemy connectable (engine/connection) or database string URI or sqlite3 DBAPI2 connection. Other DBAPI2 objects are not tested. Please consider using SQLAlchemy.\n",
      "  Udata = pd.read_sql(f\"select * from U{year}{dic_sec_table[section]}\", conn)\n"
     ]
    },
    {
     "name": "stdout",
     "output_type": "stream",
     "text": [
      "37988\n",
      "HHID                     0\n",
      "FurnitureExp          2779\n",
      "MedicalExp           11746\n",
      "TransportationExp     3692\n",
      "CommunicationExp      1000\n",
      "AmusementExp         29695\n",
      "RestaurantExp        28339\n",
      "HotelExp             37927\n",
      "OtherExp              3367\n",
      "dtype: int64\n",
      "                  Year is :1401                   \n"
     ]
    },
    {
     "name": "stderr",
     "output_type": "stream",
     "text": [
      "C:\\Users\\Mahsa\\AppData\\Local\\Temp\\ipykernel_7756\\5562260.py:41: UserWarning: pandas only supports SQLAlchemy connectable (engine/connection) or database string URI or sqlite3 DBAPI2 connection. Other DBAPI2 objects are not tested. Please consider using SQLAlchemy.\n",
      "  Rdata = pd.read_sql(f\"SELECT * FROM R{year}{dic_sec_table[section]}\", conn)\n",
      "C:\\Users\\Mahsa\\AppData\\Local\\Temp\\ipykernel_7756\\5562260.py:42: UserWarning: pandas only supports SQLAlchemy connectable (engine/connection) or database string URI or sqlite3 DBAPI2 connection. Other DBAPI2 objects are not tested. Please consider using SQLAlchemy.\n",
      "  Udata = pd.read_sql(f\"select * from U{year}{dic_sec_table[section]}\", conn)\n",
      "C:\\Users\\Mahsa\\AppData\\Local\\Temp\\ipykernel_7756\\5562260.py:41: UserWarning: pandas only supports SQLAlchemy connectable (engine/connection) or database string URI or sqlite3 DBAPI2 connection. Other DBAPI2 objects are not tested. Please consider using SQLAlchemy.\n",
      "  Rdata = pd.read_sql(f\"SELECT * FROM R{year}{dic_sec_table[section]}\", conn)\n",
      "C:\\Users\\Mahsa\\AppData\\Local\\Temp\\ipykernel_7756\\5562260.py:42: UserWarning: pandas only supports SQLAlchemy connectable (engine/connection) or database string URI or sqlite3 DBAPI2 connection. Other DBAPI2 objects are not tested. Please consider using SQLAlchemy.\n",
      "  Udata = pd.read_sql(f\"select * from U{year}{dic_sec_table[section]}\", conn)\n",
      "C:\\Users\\Mahsa\\AppData\\Local\\Temp\\ipykernel_7756\\5562260.py:41: UserWarning: pandas only supports SQLAlchemy connectable (engine/connection) or database string URI or sqlite3 DBAPI2 connection. Other DBAPI2 objects are not tested. Please consider using SQLAlchemy.\n",
      "  Rdata = pd.read_sql(f\"SELECT * FROM R{year}{dic_sec_table[section]}\", conn)\n",
      "C:\\Users\\Mahsa\\AppData\\Local\\Temp\\ipykernel_7756\\5562260.py:42: UserWarning: pandas only supports SQLAlchemy connectable (engine/connection) or database string URI or sqlite3 DBAPI2 connection. Other DBAPI2 objects are not tested. Please consider using SQLAlchemy.\n",
      "  Udata = pd.read_sql(f\"select * from U{year}{dic_sec_table[section]}\", conn)\n",
      "C:\\Users\\Mahsa\\AppData\\Local\\Temp\\ipykernel_7756\\5562260.py:41: UserWarning: pandas only supports SQLAlchemy connectable (engine/connection) or database string URI or sqlite3 DBAPI2 connection. Other DBAPI2 objects are not tested. Please consider using SQLAlchemy.\n",
      "  Rdata = pd.read_sql(f\"SELECT * FROM R{year}{dic_sec_table[section]}\", conn)\n",
      "C:\\Users\\Mahsa\\AppData\\Local\\Temp\\ipykernel_7756\\5562260.py:42: UserWarning: pandas only supports SQLAlchemy connectable (engine/connection) or database string URI or sqlite3 DBAPI2 connection. Other DBAPI2 objects are not tested. Please consider using SQLAlchemy.\n",
      "  Udata = pd.read_sql(f\"select * from U{year}{dic_sec_table[section]}\", conn)\n",
      "C:\\Users\\Mahsa\\AppData\\Local\\Temp\\ipykernel_7756\\5562260.py:41: UserWarning: pandas only supports SQLAlchemy connectable (engine/connection) or database string URI or sqlite3 DBAPI2 connection. Other DBAPI2 objects are not tested. Please consider using SQLAlchemy.\n",
      "  Rdata = pd.read_sql(f\"SELECT * FROM R{year}{dic_sec_table[section]}\", conn)\n",
      "C:\\Users\\Mahsa\\AppData\\Local\\Temp\\ipykernel_7756\\5562260.py:42: UserWarning: pandas only supports SQLAlchemy connectable (engine/connection) or database string URI or sqlite3 DBAPI2 connection. Other DBAPI2 objects are not tested. Please consider using SQLAlchemy.\n",
      "  Udata = pd.read_sql(f\"select * from U{year}{dic_sec_table[section]}\", conn)\n",
      "C:\\Users\\Mahsa\\AppData\\Local\\Temp\\ipykernel_7756\\5562260.py:41: UserWarning: pandas only supports SQLAlchemy connectable (engine/connection) or database string URI or sqlite3 DBAPI2 connection. Other DBAPI2 objects are not tested. Please consider using SQLAlchemy.\n",
      "  Rdata = pd.read_sql(f\"SELECT * FROM R{year}{dic_sec_table[section]}\", conn)\n",
      "C:\\Users\\Mahsa\\AppData\\Local\\Temp\\ipykernel_7756\\5562260.py:42: UserWarning: pandas only supports SQLAlchemy connectable (engine/connection) or database string URI or sqlite3 DBAPI2 connection. Other DBAPI2 objects are not tested. Please consider using SQLAlchemy.\n",
      "  Udata = pd.read_sql(f\"select * from U{year}{dic_sec_table[section]}\", conn)\n",
      "C:\\Users\\Mahsa\\AppData\\Local\\Temp\\ipykernel_7756\\5562260.py:41: UserWarning: pandas only supports SQLAlchemy connectable (engine/connection) or database string URI or sqlite3 DBAPI2 connection. Other DBAPI2 objects are not tested. Please consider using SQLAlchemy.\n",
      "  Rdata = pd.read_sql(f\"SELECT * FROM R{year}{dic_sec_table[section]}\", conn)\n",
      "C:\\Users\\Mahsa\\AppData\\Local\\Temp\\ipykernel_7756\\5562260.py:42: UserWarning: pandas only supports SQLAlchemy connectable (engine/connection) or database string URI or sqlite3 DBAPI2 connection. Other DBAPI2 objects are not tested. Please consider using SQLAlchemy.\n",
      "  Udata = pd.read_sql(f\"select * from U{year}{dic_sec_table[section]}\", conn)\n",
      "C:\\Users\\Mahsa\\AppData\\Local\\Temp\\ipykernel_7756\\5562260.py:41: UserWarning: pandas only supports SQLAlchemy connectable (engine/connection) or database string URI or sqlite3 DBAPI2 connection. Other DBAPI2 objects are not tested. Please consider using SQLAlchemy.\n",
      "  Rdata = pd.read_sql(f\"SELECT * FROM R{year}{dic_sec_table[section]}\", conn)\n",
      "C:\\Users\\Mahsa\\AppData\\Local\\Temp\\ipykernel_7756\\5562260.py:42: UserWarning: pandas only supports SQLAlchemy connectable (engine/connection) or database string URI or sqlite3 DBAPI2 connection. Other DBAPI2 objects are not tested. Please consider using SQLAlchemy.\n",
      "  Udata = pd.read_sql(f\"select * from U{year}{dic_sec_table[section]}\", conn)\n"
     ]
    },
    {
     "name": "stdout",
     "output_type": "stream",
     "text": [
      "37951\n",
      "HHID                     0\n",
      "FurnitureExp          3078\n",
      "MedicalExp           13050\n",
      "TransportationExp     3730\n",
      "CommunicationExp      1010\n",
      "AmusementExp         28797\n",
      "RestaurantExp        28471\n",
      "HotelExp             37789\n",
      "OtherExp              3969\n",
      "dtype: int64\n",
      "                  Year is :1402                   \n"
     ]
    },
    {
     "name": "stderr",
     "output_type": "stream",
     "text": [
      "C:\\Users\\Mahsa\\AppData\\Local\\Temp\\ipykernel_7756\\5562260.py:41: UserWarning: pandas only supports SQLAlchemy connectable (engine/connection) or database string URI or sqlite3 DBAPI2 connection. Other DBAPI2 objects are not tested. Please consider using SQLAlchemy.\n",
      "  Rdata = pd.read_sql(f\"SELECT * FROM R{year}{dic_sec_table[section]}\", conn)\n",
      "C:\\Users\\Mahsa\\AppData\\Local\\Temp\\ipykernel_7756\\5562260.py:42: UserWarning: pandas only supports SQLAlchemy connectable (engine/connection) or database string URI or sqlite3 DBAPI2 connection. Other DBAPI2 objects are not tested. Please consider using SQLAlchemy.\n",
      "  Udata = pd.read_sql(f\"select * from U{year}{dic_sec_table[section]}\", conn)\n",
      "C:\\Users\\Mahsa\\AppData\\Local\\Temp\\ipykernel_7756\\5562260.py:41: UserWarning: pandas only supports SQLAlchemy connectable (engine/connection) or database string URI or sqlite3 DBAPI2 connection. Other DBAPI2 objects are not tested. Please consider using SQLAlchemy.\n",
      "  Rdata = pd.read_sql(f\"SELECT * FROM R{year}{dic_sec_table[section]}\", conn)\n",
      "C:\\Users\\Mahsa\\AppData\\Local\\Temp\\ipykernel_7756\\5562260.py:42: UserWarning: pandas only supports SQLAlchemy connectable (engine/connection) or database string URI or sqlite3 DBAPI2 connection. Other DBAPI2 objects are not tested. Please consider using SQLAlchemy.\n",
      "  Udata = pd.read_sql(f\"select * from U{year}{dic_sec_table[section]}\", conn)\n",
      "C:\\Users\\Mahsa\\AppData\\Local\\Temp\\ipykernel_7756\\5562260.py:41: UserWarning: pandas only supports SQLAlchemy connectable (engine/connection) or database string URI or sqlite3 DBAPI2 connection. Other DBAPI2 objects are not tested. Please consider using SQLAlchemy.\n",
      "  Rdata = pd.read_sql(f\"SELECT * FROM R{year}{dic_sec_table[section]}\", conn)\n",
      "C:\\Users\\Mahsa\\AppData\\Local\\Temp\\ipykernel_7756\\5562260.py:42: UserWarning: pandas only supports SQLAlchemy connectable (engine/connection) or database string URI or sqlite3 DBAPI2 connection. Other DBAPI2 objects are not tested. Please consider using SQLAlchemy.\n",
      "  Udata = pd.read_sql(f\"select * from U{year}{dic_sec_table[section]}\", conn)\n",
      "C:\\Users\\Mahsa\\AppData\\Local\\Temp\\ipykernel_7756\\5562260.py:41: UserWarning: pandas only supports SQLAlchemy connectable (engine/connection) or database string URI or sqlite3 DBAPI2 connection. Other DBAPI2 objects are not tested. Please consider using SQLAlchemy.\n",
      "  Rdata = pd.read_sql(f\"SELECT * FROM R{year}{dic_sec_table[section]}\", conn)\n",
      "C:\\Users\\Mahsa\\AppData\\Local\\Temp\\ipykernel_7756\\5562260.py:42: UserWarning: pandas only supports SQLAlchemy connectable (engine/connection) or database string URI or sqlite3 DBAPI2 connection. Other DBAPI2 objects are not tested. Please consider using SQLAlchemy.\n",
      "  Udata = pd.read_sql(f\"select * from U{year}{dic_sec_table[section]}\", conn)\n",
      "C:\\Users\\Mahsa\\AppData\\Local\\Temp\\ipykernel_7756\\5562260.py:41: UserWarning: pandas only supports SQLAlchemy connectable (engine/connection) or database string URI or sqlite3 DBAPI2 connection. Other DBAPI2 objects are not tested. Please consider using SQLAlchemy.\n",
      "  Rdata = pd.read_sql(f\"SELECT * FROM R{year}{dic_sec_table[section]}\", conn)\n",
      "C:\\Users\\Mahsa\\AppData\\Local\\Temp\\ipykernel_7756\\5562260.py:42: UserWarning: pandas only supports SQLAlchemy connectable (engine/connection) or database string URI or sqlite3 DBAPI2 connection. Other DBAPI2 objects are not tested. Please consider using SQLAlchemy.\n",
      "  Udata = pd.read_sql(f\"select * from U{year}{dic_sec_table[section]}\", conn)\n",
      "C:\\Users\\Mahsa\\AppData\\Local\\Temp\\ipykernel_7756\\5562260.py:41: UserWarning: pandas only supports SQLAlchemy connectable (engine/connection) or database string URI or sqlite3 DBAPI2 connection. Other DBAPI2 objects are not tested. Please consider using SQLAlchemy.\n",
      "  Rdata = pd.read_sql(f\"SELECT * FROM R{year}{dic_sec_table[section]}\", conn)\n",
      "C:\\Users\\Mahsa\\AppData\\Local\\Temp\\ipykernel_7756\\5562260.py:42: UserWarning: pandas only supports SQLAlchemy connectable (engine/connection) or database string URI or sqlite3 DBAPI2 connection. Other DBAPI2 objects are not tested. Please consider using SQLAlchemy.\n",
      "  Udata = pd.read_sql(f\"select * from U{year}{dic_sec_table[section]}\", conn)\n",
      "C:\\Users\\Mahsa\\AppData\\Local\\Temp\\ipykernel_7756\\5562260.py:41: UserWarning: pandas only supports SQLAlchemy connectable (engine/connection) or database string URI or sqlite3 DBAPI2 connection. Other DBAPI2 objects are not tested. Please consider using SQLAlchemy.\n",
      "  Rdata = pd.read_sql(f\"SELECT * FROM R{year}{dic_sec_table[section]}\", conn)\n",
      "C:\\Users\\Mahsa\\AppData\\Local\\Temp\\ipykernel_7756\\5562260.py:42: UserWarning: pandas only supports SQLAlchemy connectable (engine/connection) or database string URI or sqlite3 DBAPI2 connection. Other DBAPI2 objects are not tested. Please consider using SQLAlchemy.\n",
      "  Udata = pd.read_sql(f\"select * from U{year}{dic_sec_table[section]}\", conn)\n",
      "C:\\Users\\Mahsa\\AppData\\Local\\Temp\\ipykernel_7756\\5562260.py:41: UserWarning: pandas only supports SQLAlchemy connectable (engine/connection) or database string URI or sqlite3 DBAPI2 connection. Other DBAPI2 objects are not tested. Please consider using SQLAlchemy.\n",
      "  Rdata = pd.read_sql(f\"SELECT * FROM R{year}{dic_sec_table[section]}\", conn)\n",
      "C:\\Users\\Mahsa\\AppData\\Local\\Temp\\ipykernel_7756\\5562260.py:42: UserWarning: pandas only supports SQLAlchemy connectable (engine/connection) or database string URI or sqlite3 DBAPI2 connection. Other DBAPI2 objects are not tested. Please consider using SQLAlchemy.\n",
      "  Udata = pd.read_sql(f\"select * from U{year}{dic_sec_table[section]}\", conn)\n"
     ]
    },
    {
     "name": "stdout",
     "output_type": "stream",
     "text": [
      "37883\n",
      "HHID                     0\n",
      "FurnitureExp          3228\n",
      "MedicalExp           13456\n",
      "TransportationExp     3670\n",
      "CommunicationExp      1156\n",
      "AmusementExp         28858\n",
      "RestaurantExp        27132\n",
      "HotelExp             37728\n",
      "OtherExp              4319\n",
      "dtype: int64\n"
     ]
    }
   ],
   "source": [
    "sections = [\"Furniture\",\"Medical\",\"Transportation\",\"Communication\",\"Amusement\",\"Restaurant\",\"Hotel\",\n",
    "            \"Other\"]\n",
    "dic_sec_table = {\n",
    "    \"Furniture\": \"P3S05\",\n",
    "    \"Medical\" : \"P3S06\",\n",
    "    \"Transportation\": \"P3S07\",\n",
    "    \"Communication\": \"P3S08\",\n",
    "    \"Amusement\": \"P3S09\",\n",
    "    \"Restaurant\": \"P3S11\",\n",
    "    \"Hotel\": \"P3S11\",\n",
    "    \"Other\":\"P3S12\" \n",
    "}\n",
    "col_name = {\n",
    "    'Address': 'HHID',\n",
    "    'DYCOL01': 'Code',\n",
    "    'DYCOL02': 'BuyingMethod',\n",
    "    'DYCOL03': 'Price',\n",
    "    'address': 'HHID', \n",
    "    'dycol01': 'Code',\n",
    "    'dycol02': 'BuyingMethod', \n",
    "    'dycol03': 'Price'   \n",
    "}\n",
    "years = list(range(89, 99))+ [99] + list(range(1400, 1403))\n",
    "for year in years:\n",
    "    # Path to your .accdb file\n",
    "    file_path = fr'C:\\Users\\Mahsa\\Desktop\\geo\\raw_data\\{year}\\Outfile-{year}.accdb'\n",
    "    # Connection string (for 64-bit Access Database Engine)\n",
    "    conn_str = (\n",
    "        r'DRIVER={Microsoft Access Driver (*.mdb, *.accdb)};'\n",
    "        f'DBQ={file_path};'\n",
    "    )\n",
    "    # Connect\n",
    "    conn = pyodbc.connect(conn_str)\n",
    "    # List all table names\n",
    "    tables = [table.table_name for table in conn.cursor().tables(tableType='TABLE')]\n",
    "    print(f\"Year is :{str(year)}\".center(50))\n",
    "    \n",
    "    finalDB = pd.read_pickle(fr\"C:\\Users\\Mahsa\\Desktop\\geo\\base1\\base{year}\")\n",
    "    finalDB = finalDB[[\"HHID\"]]\n",
    "    for section in sections:\n",
    "        Rdata = pd.read_sql(f\"SELECT * FROM R{year}{dic_sec_table[section]}\", conn)\n",
    "        Udata = pd.read_sql(f\"select * from U{year}{dic_sec_table[section]}\", conn)\n",
    "        \n",
    "        data = pd.concat([Rdata, Udata], axis=0)\n",
    "        data.rename(columns= col_name, inplace=True)\n",
    "        \n",
    "        data[\"HHID\"] = data[\"HHID\"].astype(\"str\")\n",
    "        mask = data[\"HHID\"].str.contains(r\"\\.\")\n",
    "        data.loc[mask, 'HHID'] = data.loc[mask, \"HHID\"].str.split(\".\").str[0]\n",
    "        data = data.loc[data[\"HHID\"].notna()]\n",
    "        \n",
    "        data[\"Price\"] = data[\"Price\"].astype(\"str\")\n",
    "        data[\"Price\"] = data[\"Price\"].str.lstrip(\"0\")\n",
    "        data[\"Price\"] = pd.to_numeric(data[\"Price\"], errors='coerce')\n",
    "        data = data.loc[data[\"Price\"].notna()]\n",
    "        \n",
    "        data[\"Code\"] = data[\"Code\"].astype(\"str\")\n",
    "        data[\"Code\"] = data[\"Code\"].str.lstrip(\"0\")\n",
    "        data[\"Code\"] = pd.to_numeric(data[\"Code\"], errors='coerce')\n",
    "        \n",
    "        if section == \"Hotel\":\n",
    "            data2 = data.loc[data[\"Code\"]> 112000]\n",
    "        elif section == \"Restaurant\":\n",
    "            data2 = data.loc[data[\"Code\"]< 112000]\n",
    "        else:\n",
    "            data2 = data\n",
    "        agg_dict = {\n",
    "            'HHID': ('HHID', 'first'),\n",
    "            f\"{section}Exp\": (\"Price\", \"sum\")\n",
    "        }\n",
    "        df = data2.groupby(\"HHID\").aggregate(**agg_dict).reset_index(drop=True)\n",
    "        finalDB = pd.merge(finalDB, df, on=\"HHID\", how=\"left\")\n",
    "    \n",
    "    print(finalDB.shape[0])\n",
    "    print(finalDB.isna().sum())\n",
    "    finalDB = finalDB.fillna(0)     \n",
    "    finalDB.to_pickle(fr'Part3_{year}')"
   ]
  },
  {
   "cell_type": "code",
   "execution_count": 2,
   "id": "9e5c1ec9",
   "metadata": {},
   "outputs": [
    {
     "name": "stdout",
     "output_type": "stream",
     "text": [
      "                   Year is :89                    \n"
     ]
    },
    {
     "name": "stderr",
     "output_type": "stream",
     "text": [
      "C:\\Users\\Mahsa\\AppData\\Local\\Temp\\ipykernel_9692\\1832334031.py:41: UserWarning: pandas only supports SQLAlchemy connectable (engine/connection) or database string URI or sqlite3 DBAPI2 connection. Other DBAPI2 objects are not tested. Please consider using SQLAlchemy.\n",
      "  Rdata = pd.read_sql(f\"SELECT * FROM R{year}P3S13\", conn)\n",
      "C:\\Users\\Mahsa\\AppData\\Local\\Temp\\ipykernel_9692\\1832334031.py:42: UserWarning: pandas only supports SQLAlchemy connectable (engine/connection) or database string URI or sqlite3 DBAPI2 connection. Other DBAPI2 objects are not tested. Please consider using SQLAlchemy.\n",
      "  Udata = pd.read_sql(f\"select * from U{year}P3S13\", conn)\n"
     ]
    },
    {
     "name": "stdout",
     "output_type": "stream",
     "text": [
      "                   Year is :90                    \n"
     ]
    },
    {
     "name": "stderr",
     "output_type": "stream",
     "text": [
      "C:\\Users\\Mahsa\\AppData\\Local\\Temp\\ipykernel_9692\\1832334031.py:41: UserWarning: pandas only supports SQLAlchemy connectable (engine/connection) or database string URI or sqlite3 DBAPI2 connection. Other DBAPI2 objects are not tested. Please consider using SQLAlchemy.\n",
      "  Rdata = pd.read_sql(f\"SELECT * FROM R{year}P3S13\", conn)\n",
      "C:\\Users\\Mahsa\\AppData\\Local\\Temp\\ipykernel_9692\\1832334031.py:42: UserWarning: pandas only supports SQLAlchemy connectable (engine/connection) or database string URI or sqlite3 DBAPI2 connection. Other DBAPI2 objects are not tested. Please consider using SQLAlchemy.\n",
      "  Udata = pd.read_sql(f\"select * from U{year}P3S13\", conn)\n"
     ]
    },
    {
     "name": "stdout",
     "output_type": "stream",
     "text": [
      "                   Year is :91                    \n"
     ]
    },
    {
     "name": "stderr",
     "output_type": "stream",
     "text": [
      "C:\\Users\\Mahsa\\AppData\\Local\\Temp\\ipykernel_9692\\1832334031.py:41: UserWarning: pandas only supports SQLAlchemy connectable (engine/connection) or database string URI or sqlite3 DBAPI2 connection. Other DBAPI2 objects are not tested. Please consider using SQLAlchemy.\n",
      "  Rdata = pd.read_sql(f\"SELECT * FROM R{year}P3S13\", conn)\n",
      "C:\\Users\\Mahsa\\AppData\\Local\\Temp\\ipykernel_9692\\1832334031.py:42: UserWarning: pandas only supports SQLAlchemy connectable (engine/connection) or database string URI or sqlite3 DBAPI2 connection. Other DBAPI2 objects are not tested. Please consider using SQLAlchemy.\n",
      "  Udata = pd.read_sql(f\"select * from U{year}P3S13\", conn)\n"
     ]
    },
    {
     "name": "stdout",
     "output_type": "stream",
     "text": [
      "                   Year is :92                    \n"
     ]
    },
    {
     "name": "stderr",
     "output_type": "stream",
     "text": [
      "C:\\Users\\Mahsa\\AppData\\Local\\Temp\\ipykernel_9692\\1832334031.py:41: UserWarning: pandas only supports SQLAlchemy connectable (engine/connection) or database string URI or sqlite3 DBAPI2 connection. Other DBAPI2 objects are not tested. Please consider using SQLAlchemy.\n",
      "  Rdata = pd.read_sql(f\"SELECT * FROM R{year}P3S13\", conn)\n",
      "C:\\Users\\Mahsa\\AppData\\Local\\Temp\\ipykernel_9692\\1832334031.py:42: UserWarning: pandas only supports SQLAlchemy connectable (engine/connection) or database string URI or sqlite3 DBAPI2 connection. Other DBAPI2 objects are not tested. Please consider using SQLAlchemy.\n",
      "  Udata = pd.read_sql(f\"select * from U{year}P3S13\", conn)\n"
     ]
    },
    {
     "name": "stdout",
     "output_type": "stream",
     "text": [
      "                   Year is :93                    \n"
     ]
    },
    {
     "name": "stderr",
     "output_type": "stream",
     "text": [
      "C:\\Users\\Mahsa\\AppData\\Local\\Temp\\ipykernel_9692\\1832334031.py:41: UserWarning: pandas only supports SQLAlchemy connectable (engine/connection) or database string URI or sqlite3 DBAPI2 connection. Other DBAPI2 objects are not tested. Please consider using SQLAlchemy.\n",
      "  Rdata = pd.read_sql(f\"SELECT * FROM R{year}P3S13\", conn)\n",
      "C:\\Users\\Mahsa\\AppData\\Local\\Temp\\ipykernel_9692\\1832334031.py:42: UserWarning: pandas only supports SQLAlchemy connectable (engine/connection) or database string URI or sqlite3 DBAPI2 connection. Other DBAPI2 objects are not tested. Please consider using SQLAlchemy.\n",
      "  Udata = pd.read_sql(f\"select * from U{year}P3S13\", conn)\n"
     ]
    },
    {
     "name": "stdout",
     "output_type": "stream",
     "text": [
      "                   Year is :94                    \n"
     ]
    },
    {
     "name": "stderr",
     "output_type": "stream",
     "text": [
      "C:\\Users\\Mahsa\\AppData\\Local\\Temp\\ipykernel_9692\\1832334031.py:41: UserWarning: pandas only supports SQLAlchemy connectable (engine/connection) or database string URI or sqlite3 DBAPI2 connection. Other DBAPI2 objects are not tested. Please consider using SQLAlchemy.\n",
      "  Rdata = pd.read_sql(f\"SELECT * FROM R{year}P3S13\", conn)\n",
      "C:\\Users\\Mahsa\\AppData\\Local\\Temp\\ipykernel_9692\\1832334031.py:42: UserWarning: pandas only supports SQLAlchemy connectable (engine/connection) or database string URI or sqlite3 DBAPI2 connection. Other DBAPI2 objects are not tested. Please consider using SQLAlchemy.\n",
      "  Udata = pd.read_sql(f\"select * from U{year}P3S13\", conn)\n"
     ]
    },
    {
     "name": "stdout",
     "output_type": "stream",
     "text": [
      "                   Year is :95                    \n"
     ]
    },
    {
     "name": "stderr",
     "output_type": "stream",
     "text": [
      "C:\\Users\\Mahsa\\AppData\\Local\\Temp\\ipykernel_9692\\1832334031.py:41: UserWarning: pandas only supports SQLAlchemy connectable (engine/connection) or database string URI or sqlite3 DBAPI2 connection. Other DBAPI2 objects are not tested. Please consider using SQLAlchemy.\n",
      "  Rdata = pd.read_sql(f\"SELECT * FROM R{year}P3S13\", conn)\n",
      "C:\\Users\\Mahsa\\AppData\\Local\\Temp\\ipykernel_9692\\1832334031.py:42: UserWarning: pandas only supports SQLAlchemy connectable (engine/connection) or database string URI or sqlite3 DBAPI2 connection. Other DBAPI2 objects are not tested. Please consider using SQLAlchemy.\n",
      "  Udata = pd.read_sql(f\"select * from U{year}P3S13\", conn)\n"
     ]
    },
    {
     "name": "stdout",
     "output_type": "stream",
     "text": [
      "                   Year is :96                    \n"
     ]
    },
    {
     "name": "stderr",
     "output_type": "stream",
     "text": [
      "C:\\Users\\Mahsa\\AppData\\Local\\Temp\\ipykernel_9692\\1832334031.py:41: UserWarning: pandas only supports SQLAlchemy connectable (engine/connection) or database string URI or sqlite3 DBAPI2 connection. Other DBAPI2 objects are not tested. Please consider using SQLAlchemy.\n",
      "  Rdata = pd.read_sql(f\"SELECT * FROM R{year}P3S13\", conn)\n",
      "C:\\Users\\Mahsa\\AppData\\Local\\Temp\\ipykernel_9692\\1832334031.py:42: UserWarning: pandas only supports SQLAlchemy connectable (engine/connection) or database string URI or sqlite3 DBAPI2 connection. Other DBAPI2 objects are not tested. Please consider using SQLAlchemy.\n",
      "  Udata = pd.read_sql(f\"select * from U{year}P3S13\", conn)\n"
     ]
    },
    {
     "name": "stdout",
     "output_type": "stream",
     "text": [
      "                   Year is :97                    \n"
     ]
    },
    {
     "name": "stderr",
     "output_type": "stream",
     "text": [
      "C:\\Users\\Mahsa\\AppData\\Local\\Temp\\ipykernel_9692\\1832334031.py:41: UserWarning: pandas only supports SQLAlchemy connectable (engine/connection) or database string URI or sqlite3 DBAPI2 connection. Other DBAPI2 objects are not tested. Please consider using SQLAlchemy.\n",
      "  Rdata = pd.read_sql(f\"SELECT * FROM R{year}P3S13\", conn)\n",
      "C:\\Users\\Mahsa\\AppData\\Local\\Temp\\ipykernel_9692\\1832334031.py:42: UserWarning: pandas only supports SQLAlchemy connectable (engine/connection) or database string URI or sqlite3 DBAPI2 connection. Other DBAPI2 objects are not tested. Please consider using SQLAlchemy.\n",
      "  Udata = pd.read_sql(f\"select * from U{year}P3S13\", conn)\n"
     ]
    },
    {
     "name": "stdout",
     "output_type": "stream",
     "text": [
      "                   Year is :98                    \n"
     ]
    },
    {
     "name": "stderr",
     "output_type": "stream",
     "text": [
      "C:\\Users\\Mahsa\\AppData\\Local\\Temp\\ipykernel_9692\\1832334031.py:41: UserWarning: pandas only supports SQLAlchemy connectable (engine/connection) or database string URI or sqlite3 DBAPI2 connection. Other DBAPI2 objects are not tested. Please consider using SQLAlchemy.\n",
      "  Rdata = pd.read_sql(f\"SELECT * FROM R{year}P3S13\", conn)\n",
      "C:\\Users\\Mahsa\\AppData\\Local\\Temp\\ipykernel_9692\\1832334031.py:42: UserWarning: pandas only supports SQLAlchemy connectable (engine/connection) or database string URI or sqlite3 DBAPI2 connection. Other DBAPI2 objects are not tested. Please consider using SQLAlchemy.\n",
      "  Udata = pd.read_sql(f\"select * from U{year}P3S13\", conn)\n"
     ]
    },
    {
     "name": "stdout",
     "output_type": "stream",
     "text": [
      "                   Year is :99                    \n"
     ]
    },
    {
     "name": "stderr",
     "output_type": "stream",
     "text": [
      "C:\\Users\\Mahsa\\AppData\\Local\\Temp\\ipykernel_9692\\1832334031.py:41: UserWarning: pandas only supports SQLAlchemy connectable (engine/connection) or database string URI or sqlite3 DBAPI2 connection. Other DBAPI2 objects are not tested. Please consider using SQLAlchemy.\n",
      "  Rdata = pd.read_sql(f\"SELECT * FROM R{year}P3S13\", conn)\n",
      "C:\\Users\\Mahsa\\AppData\\Local\\Temp\\ipykernel_9692\\1832334031.py:42: UserWarning: pandas only supports SQLAlchemy connectable (engine/connection) or database string URI or sqlite3 DBAPI2 connection. Other DBAPI2 objects are not tested. Please consider using SQLAlchemy.\n",
      "  Udata = pd.read_sql(f\"select * from U{year}P3S13\", conn)\n"
     ]
    },
    {
     "name": "stdout",
     "output_type": "stream",
     "text": [
      "                  Year is :1400                   \n"
     ]
    },
    {
     "name": "stderr",
     "output_type": "stream",
     "text": [
      "C:\\Users\\Mahsa\\AppData\\Local\\Temp\\ipykernel_9692\\1832334031.py:41: UserWarning: pandas only supports SQLAlchemy connectable (engine/connection) or database string URI or sqlite3 DBAPI2 connection. Other DBAPI2 objects are not tested. Please consider using SQLAlchemy.\n",
      "  Rdata = pd.read_sql(f\"SELECT * FROM R{year}P3S13\", conn)\n",
      "C:\\Users\\Mahsa\\AppData\\Local\\Temp\\ipykernel_9692\\1832334031.py:42: UserWarning: pandas only supports SQLAlchemy connectable (engine/connection) or database string URI or sqlite3 DBAPI2 connection. Other DBAPI2 objects are not tested. Please consider using SQLAlchemy.\n",
      "  Udata = pd.read_sql(f\"select * from U{year}P3S13\", conn)\n"
     ]
    },
    {
     "name": "stdout",
     "output_type": "stream",
     "text": [
      "                  Year is :1401                   \n"
     ]
    },
    {
     "name": "stderr",
     "output_type": "stream",
     "text": [
      "C:\\Users\\Mahsa\\AppData\\Local\\Temp\\ipykernel_9692\\1832334031.py:41: UserWarning: pandas only supports SQLAlchemy connectable (engine/connection) or database string URI or sqlite3 DBAPI2 connection. Other DBAPI2 objects are not tested. Please consider using SQLAlchemy.\n",
      "  Rdata = pd.read_sql(f\"SELECT * FROM R{year}P3S13\", conn)\n",
      "C:\\Users\\Mahsa\\AppData\\Local\\Temp\\ipykernel_9692\\1832334031.py:42: UserWarning: pandas only supports SQLAlchemy connectable (engine/connection) or database string URI or sqlite3 DBAPI2 connection. Other DBAPI2 objects are not tested. Please consider using SQLAlchemy.\n",
      "  Udata = pd.read_sql(f\"select * from U{year}P3S13\", conn)\n"
     ]
    },
    {
     "name": "stdout",
     "output_type": "stream",
     "text": [
      "                  Year is :1402                   \n"
     ]
    },
    {
     "name": "stderr",
     "output_type": "stream",
     "text": [
      "C:\\Users\\Mahsa\\AppData\\Local\\Temp\\ipykernel_9692\\1832334031.py:41: UserWarning: pandas only supports SQLAlchemy connectable (engine/connection) or database string URI or sqlite3 DBAPI2 connection. Other DBAPI2 objects are not tested. Please consider using SQLAlchemy.\n",
      "  Rdata = pd.read_sql(f\"SELECT * FROM R{year}P3S13\", conn)\n",
      "C:\\Users\\Mahsa\\AppData\\Local\\Temp\\ipykernel_9692\\1832334031.py:42: UserWarning: pandas only supports SQLAlchemy connectable (engine/connection) or database string URI or sqlite3 DBAPI2 connection. Other DBAPI2 objects are not tested. Please consider using SQLAlchemy.\n",
      "  Udata = pd.read_sql(f\"select * from U{year}P3S13\", conn)\n"
     ]
    }
   ],
   "source": [
    "numbers = list(range(110000, 140000))\n",
    "excluded_numbers = [123111,123112,123113,123134, 123225]\n",
    "filtered_numbers = [num for num in numbers if num not in excluded_numbers]\n",
    "sections = [\"ClothesExtra\",\"HousingMaintain\",\"FurniExtra\",\"MedicalExtra\", \"TransportationExtra\",\"CommunicationExtra\",\"AmusementExtra\", \"Education\", \"OtherExtra\"]\n",
    "dic_sec = {\n",
    "    \"ClothesExtra\": range(30000, 40000),\n",
    "    \"HousingMaintain\": range(40000, 50000),\n",
    "    \"FurniExtra\": range(50000, 60000),\n",
    "    \"MedicalExtra\": range(60000, 70000),\n",
    "    \"TransportationExtra\": range(71300, 80000),\n",
    "    \"CommunicationExtra\": range(80000, 90000),\n",
    "    \"AmusementExtra\": range(90000, 100000),\n",
    "    \"Education\": range(100000, 110000),\n",
    "    \"OtherExtra\": filtered_numbers\n",
    "}\n",
    "col_name = {\n",
    "    'Address': 'HHID',\n",
    "    'DYCOL01': 'Code',\n",
    "    'DYCOL05': 'Price',\n",
    "    'DYCOL06': 'Input',\n",
    "    'address': 'HHID', \n",
    "    'dycol01': 'Code',  \n",
    "    'dycol05': 'Price',\n",
    "    'dycol06': 'Input'   \n",
    "}\n",
    "years = list(range(89, 99))+ [99] + list(range(1400, 1403))\n",
    "for year in years:\n",
    "    # Path to your .accdb file\n",
    "    file_path = fr'C:\\Users\\Mahsa\\Desktop\\geo\\raw_data\\{year}\\Outfile-{year}.accdb'\n",
    "    # Connection string (for 64-bit Access Database Engine)\n",
    "    conn_str = (\n",
    "        r'DRIVER={Microsoft Access Driver (*.mdb, *.accdb)};'\n",
    "        f'DBQ={file_path};'\n",
    "    )\n",
    "    # Connect\n",
    "    conn = pyodbc.connect(conn_str)\n",
    "    # List all table names\n",
    "    tables = [table.table_name for table in conn.cursor().tables(tableType='TABLE')]\n",
    "    print(f\"Year is :{str(year)}\".center(50))\n",
    "    \n",
    "    Rdata = pd.read_sql(f\"SELECT * FROM R{year}P3S13\", conn)\n",
    "    Udata = pd.read_sql(f\"select * from U{year}P3S13\", conn)\n",
    "    \n",
    "    data = pd.concat([Rdata, Udata], axis=0)\n",
    "    data.rename(columns= col_name, inplace=True)\n",
    "    \n",
    "    data = data[[\"HHID\",\"Code\",\"Price\", \"Input\"]]\n",
    "    \n",
    "    data[\"HHID\"] = data[\"HHID\"].astype(\"str\")\n",
    "    mask = data[\"HHID\"].str.contains(r\"\\.\")\n",
    "    data.loc[mask, 'HHID'] = data.loc[mask, \"HHID\"].str.split(\".\").str[0]\n",
    "    data = data.loc[data[\"HHID\"].notna()]\n",
    "    \n",
    "    data[\"Price\"] = data[\"Price\"].astype(\"str\")\n",
    "    data[\"Price\"] = data[\"Price\"].str.lstrip(\"0\")\n",
    "    data[\"Price\"] = pd.to_numeric(data[\"Price\"], errors='coerce')\n",
    "    data[\"Price\"] = data[\"Price\"]/12\n",
    "    data[\"Price\"] = data[\"Price\"].fillna(0)\n",
    "    \n",
    "    data[\"Input\"] = data[\"Input\"].astype(\"str\")\n",
    "    data[\"Input\"] = data[\"Input\"].str.lstrip(\"0\")\n",
    "    data[\"Input\"] = pd.to_numeric(data[\"Input\"], errors='coerce')\n",
    "    data[\"Input\"] = data[\"Input\"]/12\n",
    "    data[\"Input\"] = data[\"Input\"].fillna(0)\n",
    "    \n",
    "    data[\"Exp\"] = data[\"Price\"] - data[\"Input\"]\n",
    "    \n",
    "    data[\"Code\"] = data[\"Code\"].astype(\"str\")\n",
    "    data[\"Code\"] = data[\"Code\"].str.lstrip(\"0\")\n",
    "    data[\"Code\"] = pd.to_numeric(data[\"Code\"], errors='coerce')\n",
    "    \n",
    "    finalDB = pd.read_pickle(fr\"C:\\Users\\Mahsa\\Desktop\\geo\\base1\\base{year}\")\n",
    "    finalDB = finalDB[[\"HHID\"]]\n",
    "    for section in sections:   \n",
    "        data2 = data.loc[data[\"Code\"].isin(dic_sec[section])]\n",
    "        agg_dict = {\n",
    "            'HHID': ('HHID', 'first'),\n",
    "            f\"{section}Exp\": (\"Exp\", \"sum\")\n",
    "        }\n",
    "        df = data2.groupby(\"HHID\").aggregate(**agg_dict).reset_index(drop=True)\n",
    "        finalDB = pd.merge(finalDB, df, on=\"HHID\", how=\"left\")\n",
    "        \n",
    "    finalDB = finalDB.fillna(0)          \n",
    "    finalDB.to_pickle(fr'section13_{year}')\n",
    "    \n"
   ]
  },
  {
   "cell_type": "code",
   "execution_count": 21,
   "id": "4a8b3307",
   "metadata": {},
   "outputs": [
    {
     "name": "stdout",
     "output_type": "stream",
     "text": [
      "                   Year is :89                    \n"
     ]
    },
    {
     "name": "stderr",
     "output_type": "stream",
     "text": [
      "C:\\Users\\Mahsa\\AppData\\Local\\Temp\\ipykernel_15860\\2506659778.py:25: UserWarning: pandas only supports SQLAlchemy connectable (engine/connection) or database string URI or sqlite3 DBAPI2 connection. Other DBAPI2 objects are not tested. Please consider using SQLAlchemy.\n",
      "  Rdata = pd.read_sql(f\"SELECT * FROM R{year}P3S14\", conn)\n",
      "C:\\Users\\Mahsa\\AppData\\Local\\Temp\\ipykernel_15860\\2506659778.py:26: UserWarning: pandas only supports SQLAlchemy connectable (engine/connection) or database string URI or sqlite3 DBAPI2 connection. Other DBAPI2 objects are not tested. Please consider using SQLAlchemy.\n",
      "  Udata = pd.read_sql(f\"select * from U{year}P3S14\", conn)\n"
     ]
    },
    {
     "name": "stdout",
     "output_type": "stream",
     "text": [
      "                   Year is :90                    \n"
     ]
    },
    {
     "name": "stderr",
     "output_type": "stream",
     "text": [
      "C:\\Users\\Mahsa\\AppData\\Local\\Temp\\ipykernel_15860\\2506659778.py:25: UserWarning: pandas only supports SQLAlchemy connectable (engine/connection) or database string URI or sqlite3 DBAPI2 connection. Other DBAPI2 objects are not tested. Please consider using SQLAlchemy.\n",
      "  Rdata = pd.read_sql(f\"SELECT * FROM R{year}P3S14\", conn)\n",
      "C:\\Users\\Mahsa\\AppData\\Local\\Temp\\ipykernel_15860\\2506659778.py:26: UserWarning: pandas only supports SQLAlchemy connectable (engine/connection) or database string URI or sqlite3 DBAPI2 connection. Other DBAPI2 objects are not tested. Please consider using SQLAlchemy.\n",
      "  Udata = pd.read_sql(f\"select * from U{year}P3S14\", conn)\n"
     ]
    },
    {
     "name": "stdout",
     "output_type": "stream",
     "text": [
      "                   Year is :91                    \n"
     ]
    },
    {
     "name": "stderr",
     "output_type": "stream",
     "text": [
      "C:\\Users\\Mahsa\\AppData\\Local\\Temp\\ipykernel_15860\\2506659778.py:25: UserWarning: pandas only supports SQLAlchemy connectable (engine/connection) or database string URI or sqlite3 DBAPI2 connection. Other DBAPI2 objects are not tested. Please consider using SQLAlchemy.\n",
      "  Rdata = pd.read_sql(f\"SELECT * FROM R{year}P3S14\", conn)\n",
      "C:\\Users\\Mahsa\\AppData\\Local\\Temp\\ipykernel_15860\\2506659778.py:26: UserWarning: pandas only supports SQLAlchemy connectable (engine/connection) or database string URI or sqlite3 DBAPI2 connection. Other DBAPI2 objects are not tested. Please consider using SQLAlchemy.\n",
      "  Udata = pd.read_sql(f\"select * from U{year}P3S14\", conn)\n"
     ]
    },
    {
     "name": "stdout",
     "output_type": "stream",
     "text": [
      "                   Year is :92                    \n",
      "                   Year is :93                    \n"
     ]
    },
    {
     "name": "stderr",
     "output_type": "stream",
     "text": [
      "C:\\Users\\Mahsa\\AppData\\Local\\Temp\\ipykernel_15860\\2506659778.py:25: UserWarning: pandas only supports SQLAlchemy connectable (engine/connection) or database string URI or sqlite3 DBAPI2 connection. Other DBAPI2 objects are not tested. Please consider using SQLAlchemy.\n",
      "  Rdata = pd.read_sql(f\"SELECT * FROM R{year}P3S14\", conn)\n",
      "C:\\Users\\Mahsa\\AppData\\Local\\Temp\\ipykernel_15860\\2506659778.py:26: UserWarning: pandas only supports SQLAlchemy connectable (engine/connection) or database string URI or sqlite3 DBAPI2 connection. Other DBAPI2 objects are not tested. Please consider using SQLAlchemy.\n",
      "  Udata = pd.read_sql(f\"select * from U{year}P3S14\", conn)\n",
      "C:\\Users\\Mahsa\\AppData\\Local\\Temp\\ipykernel_15860\\2506659778.py:25: UserWarning: pandas only supports SQLAlchemy connectable (engine/connection) or database string URI or sqlite3 DBAPI2 connection. Other DBAPI2 objects are not tested. Please consider using SQLAlchemy.\n",
      "  Rdata = pd.read_sql(f\"SELECT * FROM R{year}P3S14\", conn)\n",
      "C:\\Users\\Mahsa\\AppData\\Local\\Temp\\ipykernel_15860\\2506659778.py:26: UserWarning: pandas only supports SQLAlchemy connectable (engine/connection) or database string URI or sqlite3 DBAPI2 connection. Other DBAPI2 objects are not tested. Please consider using SQLAlchemy.\n",
      "  Udata = pd.read_sql(f\"select * from U{year}P3S14\", conn)\n"
     ]
    },
    {
     "name": "stdout",
     "output_type": "stream",
     "text": [
      "                   Year is :94                    \n",
      "                   Year is :95                    \n"
     ]
    },
    {
     "name": "stderr",
     "output_type": "stream",
     "text": [
      "C:\\Users\\Mahsa\\AppData\\Local\\Temp\\ipykernel_15860\\2506659778.py:25: UserWarning: pandas only supports SQLAlchemy connectable (engine/connection) or database string URI or sqlite3 DBAPI2 connection. Other DBAPI2 objects are not tested. Please consider using SQLAlchemy.\n",
      "  Rdata = pd.read_sql(f\"SELECT * FROM R{year}P3S14\", conn)\n",
      "C:\\Users\\Mahsa\\AppData\\Local\\Temp\\ipykernel_15860\\2506659778.py:26: UserWarning: pandas only supports SQLAlchemy connectable (engine/connection) or database string URI or sqlite3 DBAPI2 connection. Other DBAPI2 objects are not tested. Please consider using SQLAlchemy.\n",
      "  Udata = pd.read_sql(f\"select * from U{year}P3S14\", conn)\n",
      "C:\\Users\\Mahsa\\AppData\\Local\\Temp\\ipykernel_15860\\2506659778.py:25: UserWarning: pandas only supports SQLAlchemy connectable (engine/connection) or database string URI or sqlite3 DBAPI2 connection. Other DBAPI2 objects are not tested. Please consider using SQLAlchemy.\n",
      "  Rdata = pd.read_sql(f\"SELECT * FROM R{year}P3S14\", conn)\n",
      "C:\\Users\\Mahsa\\AppData\\Local\\Temp\\ipykernel_15860\\2506659778.py:26: UserWarning: pandas only supports SQLAlchemy connectable (engine/connection) or database string URI or sqlite3 DBAPI2 connection. Other DBAPI2 objects are not tested. Please consider using SQLAlchemy.\n",
      "  Udata = pd.read_sql(f\"select * from U{year}P3S14\", conn)\n",
      "C:\\Users\\Mahsa\\AppData\\Local\\Temp\\ipykernel_15860\\2506659778.py:25: UserWarning: pandas only supports SQLAlchemy connectable (engine/connection) or database string URI or sqlite3 DBAPI2 connection. Other DBAPI2 objects are not tested. Please consider using SQLAlchemy.\n",
      "  Rdata = pd.read_sql(f\"SELECT * FROM R{year}P3S14\", conn)\n",
      "C:\\Users\\Mahsa\\AppData\\Local\\Temp\\ipykernel_15860\\2506659778.py:26: UserWarning: pandas only supports SQLAlchemy connectable (engine/connection) or database string URI or sqlite3 DBAPI2 connection. Other DBAPI2 objects are not tested. Please consider using SQLAlchemy.\n",
      "  Udata = pd.read_sql(f\"select * from U{year}P3S14\", conn)\n"
     ]
    },
    {
     "name": "stdout",
     "output_type": "stream",
     "text": [
      "                   Year is :96                    \n",
      "                   Year is :97                    \n"
     ]
    },
    {
     "name": "stderr",
     "output_type": "stream",
     "text": [
      "C:\\Users\\Mahsa\\AppData\\Local\\Temp\\ipykernel_15860\\2506659778.py:25: UserWarning: pandas only supports SQLAlchemy connectable (engine/connection) or database string URI or sqlite3 DBAPI2 connection. Other DBAPI2 objects are not tested. Please consider using SQLAlchemy.\n",
      "  Rdata = pd.read_sql(f\"SELECT * FROM R{year}P3S14\", conn)\n",
      "C:\\Users\\Mahsa\\AppData\\Local\\Temp\\ipykernel_15860\\2506659778.py:26: UserWarning: pandas only supports SQLAlchemy connectable (engine/connection) or database string URI or sqlite3 DBAPI2 connection. Other DBAPI2 objects are not tested. Please consider using SQLAlchemy.\n",
      "  Udata = pd.read_sql(f\"select * from U{year}P3S14\", conn)\n"
     ]
    },
    {
     "name": "stdout",
     "output_type": "stream",
     "text": [
      "                   Year is :98                    \n"
     ]
    },
    {
     "name": "stderr",
     "output_type": "stream",
     "text": [
      "C:\\Users\\Mahsa\\AppData\\Local\\Temp\\ipykernel_15860\\2506659778.py:25: UserWarning: pandas only supports SQLAlchemy connectable (engine/connection) or database string URI or sqlite3 DBAPI2 connection. Other DBAPI2 objects are not tested. Please consider using SQLAlchemy.\n",
      "  Rdata = pd.read_sql(f\"SELECT * FROM R{year}P3S14\", conn)\n",
      "C:\\Users\\Mahsa\\AppData\\Local\\Temp\\ipykernel_15860\\2506659778.py:26: UserWarning: pandas only supports SQLAlchemy connectable (engine/connection) or database string URI or sqlite3 DBAPI2 connection. Other DBAPI2 objects are not tested. Please consider using SQLAlchemy.\n",
      "  Udata = pd.read_sql(f\"select * from U{year}P3S14\", conn)\n"
     ]
    },
    {
     "name": "stdout",
     "output_type": "stream",
     "text": [
      "                   Year is :99                    \n"
     ]
    },
    {
     "name": "stderr",
     "output_type": "stream",
     "text": [
      "C:\\Users\\Mahsa\\AppData\\Local\\Temp\\ipykernel_15860\\2506659778.py:25: UserWarning: pandas only supports SQLAlchemy connectable (engine/connection) or database string URI or sqlite3 DBAPI2 connection. Other DBAPI2 objects are not tested. Please consider using SQLAlchemy.\n",
      "  Rdata = pd.read_sql(f\"SELECT * FROM R{year}P3S14\", conn)\n",
      "C:\\Users\\Mahsa\\AppData\\Local\\Temp\\ipykernel_15860\\2506659778.py:26: UserWarning: pandas only supports SQLAlchemy connectable (engine/connection) or database string URI or sqlite3 DBAPI2 connection. Other DBAPI2 objects are not tested. Please consider using SQLAlchemy.\n",
      "  Udata = pd.read_sql(f\"select * from U{year}P3S14\", conn)\n"
     ]
    },
    {
     "name": "stdout",
     "output_type": "stream",
     "text": [
      "                  Year is :1400                   \n",
      "                  Year is :1401                   \n"
     ]
    },
    {
     "name": "stderr",
     "output_type": "stream",
     "text": [
      "C:\\Users\\Mahsa\\AppData\\Local\\Temp\\ipykernel_15860\\2506659778.py:25: UserWarning: pandas only supports SQLAlchemy connectable (engine/connection) or database string URI or sqlite3 DBAPI2 connection. Other DBAPI2 objects are not tested. Please consider using SQLAlchemy.\n",
      "  Rdata = pd.read_sql(f\"SELECT * FROM R{year}P3S14\", conn)\n",
      "C:\\Users\\Mahsa\\AppData\\Local\\Temp\\ipykernel_15860\\2506659778.py:26: UserWarning: pandas only supports SQLAlchemy connectable (engine/connection) or database string URI or sqlite3 DBAPI2 connection. Other DBAPI2 objects are not tested. Please consider using SQLAlchemy.\n",
      "  Udata = pd.read_sql(f\"select * from U{year}P3S14\", conn)\n",
      "C:\\Users\\Mahsa\\AppData\\Local\\Temp\\ipykernel_15860\\2506659778.py:25: UserWarning: pandas only supports SQLAlchemy connectable (engine/connection) or database string URI or sqlite3 DBAPI2 connection. Other DBAPI2 objects are not tested. Please consider using SQLAlchemy.\n",
      "  Rdata = pd.read_sql(f\"SELECT * FROM R{year}P3S14\", conn)\n",
      "C:\\Users\\Mahsa\\AppData\\Local\\Temp\\ipykernel_15860\\2506659778.py:26: UserWarning: pandas only supports SQLAlchemy connectable (engine/connection) or database string URI or sqlite3 DBAPI2 connection. Other DBAPI2 objects are not tested. Please consider using SQLAlchemy.\n",
      "  Udata = pd.read_sql(f\"select * from U{year}P3S14\", conn)\n"
     ]
    },
    {
     "name": "stdout",
     "output_type": "stream",
     "text": [
      "                  Year is :1402                   \n"
     ]
    },
    {
     "name": "stderr",
     "output_type": "stream",
     "text": [
      "C:\\Users\\Mahsa\\AppData\\Local\\Temp\\ipykernel_15860\\2506659778.py:25: UserWarning: pandas only supports SQLAlchemy connectable (engine/connection) or database string URI or sqlite3 DBAPI2 connection. Other DBAPI2 objects are not tested. Please consider using SQLAlchemy.\n",
      "  Rdata = pd.read_sql(f\"SELECT * FROM R{year}P3S14\", conn)\n",
      "C:\\Users\\Mahsa\\AppData\\Local\\Temp\\ipykernel_15860\\2506659778.py:26: UserWarning: pandas only supports SQLAlchemy connectable (engine/connection) or database string URI or sqlite3 DBAPI2 connection. Other DBAPI2 objects are not tested. Please consider using SQLAlchemy.\n",
      "  Udata = pd.read_sql(f\"select * from U{year}P3S14\", conn)\n"
     ]
    }
   ],
   "source": [
    "col_name = {\n",
    "    'Address': 'HHID',\n",
    "    'DYCOL01': 'Code',\n",
    "    'DYCOL03': 'Price',\n",
    "    'DYCOL04': 'Input',\n",
    "    'address': 'HHID', \n",
    "    'dycol01': 'Code',  \n",
    "    'dycol03': 'Price',\n",
    "    'dycol04': 'Input'\n",
    "}\n",
    "years = list(range(89, 99))+ [99] + list(range(1400, 1403))\n",
    "for year in years:\n",
    "    # Path to your .accdb file\n",
    "    file_path = fr'C:\\Users\\Mahsa\\Desktop\\geo\\raw_data\\{year}\\Outfile-{year}.accdb'\n",
    "    # Connection string (for 64-bit Access Database Engine)\n",
    "    conn_str = (\n",
    "        r'DRIVER={Microsoft Access Driver (*.mdb, *.accdb)};'\n",
    "        f'DBQ={file_path};'\n",
    "    )\n",
    "    # Connect\n",
    "    conn = pyodbc.connect(conn_str)\n",
    "    # List all table names\n",
    "    tables = [table.table_name for table in conn.cursor().tables(tableType='TABLE')]\n",
    "    print(f\"Year is :{str(year)}\".center(50))\n",
    "    Rdata = pd.read_sql(f\"SELECT * FROM R{year}P3S14\", conn)\n",
    "    Udata = pd.read_sql(f\"select * from U{year}P3S14\", conn)\n",
    "    \n",
    "    data = pd.concat([Rdata, Udata], axis=0)\n",
    "    data.rename(columns= col_name, inplace=True)\n",
    "    \n",
    "    data = data[[\"HHID\",\"Code\",\"Price\", \"Input\"]]\n",
    "    \n",
    "    data[\"HHID\"] = data[\"HHID\"].astype(\"str\")\n",
    "    mask = data[\"HHID\"].str.contains(r\"\\.\")\n",
    "    data.loc[mask, 'HHID'] = data.loc[mask, \"HHID\"].str.split(\".\").str[0]\n",
    "    data = data.loc[data[\"HHID\"].notna()]\n",
    "    \n",
    "    data[\"Code\"] = data[\"Code\"].astype(\"str\")\n",
    "    data[\"Code\"] = data[\"Code\"].str.lstrip(\"0\")\n",
    "    data[\"Code\"] = pd.to_numeric(data[\"Code\"], errors='coerce')\n",
    "    \n",
    "    data[\"Price\"] = data[\"Price\"].astype(\"str\")\n",
    "    data[\"Price\"] = data[\"Price\"].str.lstrip(\"0\")\n",
    "    data[\"Price\"] = pd.to_numeric(data[\"Price\"], errors='coerce')\n",
    "    data[\"Price\"] = data[\"Price\"]/12\n",
    "    data[\"Price\"] = data[\"Price\"].fillna(0)\n",
    "    \n",
    "    data[\"Input\"] = data[\"Input\"].astype(\"str\")\n",
    "    data[\"Input\"] = data[\"Input\"].str.lstrip(\"0\")\n",
    "    data[\"Input\"] = pd.to_numeric(data[\"Input\"], errors='coerce')\n",
    "    data[\"Input\"] = data[\"Input\"]/12\n",
    "    data[\"Input\"] = data[\"Input\"].fillna(0)\n",
    "    \n",
    "    data[\"Exp\"] = data[\"Price\"] - data[\"Input\"]\n",
    "    \n",
    "    agg_dict = {\n",
    "        'HHID': ('HHID', 'first'),\n",
    "        \"InvestExp\": (\"Exp\", \"sum\")\n",
    "    }\n",
    "\n",
    "    df = data.groupby(\"HHID\").aggregate(**agg_dict).reset_index(drop=True)\n",
    "    df = df.fillna(0)\n",
    "    df.to_pickle(fr'Invest_{year}')"
   ]
  },
  {
   "cell_type": "code",
   "execution_count": null,
   "id": "c3ba3296",
   "metadata": {},
   "outputs": [],
   "source": []
  }
 ],
 "metadata": {
  "kernelspec": {
   "display_name": "base",
   "language": "python",
   "name": "python3"
  },
  "language_info": {
   "codemirror_mode": {
    "name": "ipython",
    "version": 3
   },
   "file_extension": ".py",
   "mimetype": "text/x-python",
   "name": "python",
   "nbconvert_exporter": "python",
   "pygments_lexer": "ipython3",
   "version": "3.12.3"
  }
 },
 "nbformat": 4,
 "nbformat_minor": 5
}
