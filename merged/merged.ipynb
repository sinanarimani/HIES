{
 "cells": [
  {
   "cell_type": "code",
   "execution_count": 1,
   "id": "e7baacf0",
   "metadata": {},
   "outputs": [],
   "source": [
    "import pandas as pd\n",
    "import numpy as np\n",
    "import pyreadr"
   ]
  },
  {
   "cell_type": "code",
   "execution_count": 4,
   "id": "04a36dc1",
   "metadata": {},
   "outputs": [
    {
     "name": "stdout",
     "output_type": "stream",
     "text": [
      "Index(['HHID', 'month', 'head_job', 'household_type', 'region', 'quarter',\n",
      "       'weight', 'county_code', 'province_code', 'county89', 'province'],\n",
      "      dtype='object')\n",
      "(38950, 11)\n",
      "Index(['HHID', 'HHsize', 'AveAge', 'NumChild_U5', 'NumChild_B5_7',\n",
      "       'NumChild_B7_18', 'NumChildOver18', 'HeadWoman', 'Dep_Student',\n",
      "       'Num_Literate', 'NumSpouse', 'NumEmployed', 'NumOld', 'NumMale',\n",
      "       'NumNotfirstR'],\n",
      "      dtype='object')\n",
      "(38285, 15)\n",
      "Index(['HHID', 'Tenure', 'Othertenure', 'Room', 'Area', 'Skeleton',\n",
      "       'MainMaterial', 'PrivateVehicle', 'Motorcycle', 'Bike', 'Radio',\n",
      "       'Cassette', 'TVbw', 'TV', 'VideoPlayer', 'Computer', 'Cellphone',\n",
      "       'Freezer', 'Refrigerator', 'Freez_refrig', 'Oven', 'Vacuum', 'Washer',\n",
      "       'Sewing', 'Fan', 'Cooler_water_portable', 'Cooler_gas_portable',\n",
      "       'Dishwasher', 'None', 'Pipewater', 'Electricity', 'Pipegas', 'Phone',\n",
      "       'Internet', 'Bathroom', 'Kitchen', 'Cooler_water', 'Centralcooler',\n",
      "       'Centralheat', 'Pakage', 'Cooler_gas', 'Sewer_network', 'Cookfuel',\n",
      "       'Heatfuel', 'Hotwaterfuel'],\n",
      "      dtype='object')\n",
      "(38950, 45)\n",
      "Index(['HHID', 'FoodExp'], dtype='object')\n",
      "(38170, 2)\n",
      "Index(['HHID', 'CigarExp'], dtype='object')\n",
      "(8898, 2)\n",
      "Index(['HHID', 'NonCatDrinksExp'], dtype='object')\n",
      "(6, 2)\n",
      "Index(['HHID', 'ClothExp'], dtype='object')\n",
      "(22674, 2)\n",
      "Index(['HHID', 'InvestExp'], dtype='object')\n",
      "(11414, 2)\n",
      "Index(['HHID', 'FurnitureExp', 'MedicalExp', 'TransportationExp',\n",
      "       'CommunicationExp', 'AmusementExp', 'RestaurantExp', 'HotelExp',\n",
      "       'OtherExp'],\n",
      "      dtype='object')\n",
      "(38950, 9)\n",
      "Index(['HHID', 'RentExp', 'EstRent_ownerExp', 'EstRentExp', 'MortgageExp',\n",
      "       'WaterExp', 'Water_otherExp', 'SewageExp', 'OtherHousingExp',\n",
      "       'ElectricityExp', 'ElectricityOtherExp', 'NaturalGasExp',\n",
      "       'NaturalGasOtherExp', 'OtherEnergyReExp'],\n",
      "      dtype='object')\n",
      "(38950, 14)\n",
      "Index(['HHID', 'ClothesExtraExp', 'HousingMaintainExp', 'FurniExtraExp',\n",
      "       'MedicalExtraExp', 'TransportationExtraExp', 'CommunicationExtraExp',\n",
      "       'AmusementExtraExp', 'EducationExp', 'OtherExtraExp'],\n",
      "      dtype='object')\n",
      "(38950, 10)\n"
     ]
    }
   ],
   "source": [
    "year = 89\n",
    "df1 = pd.read_pickle(fr\"C:\\Users\\Mahsa\\Desktop\\geo\\base1\\base{year}\")\n",
    "df2 = pd.read_pickle(fr\"C:\\Users\\Mahsa\\Desktop\\geo\\base2\\HHP1_{year}\")\n",
    "df3 = pd.read_pickle(fr\"C:\\Users\\Mahsa\\Desktop\\geo\\base3\\P2_{year}\")\n",
    "df4 = pd.read_pickle(fr\"C:\\Users\\Mahsa\\Desktop\\geo\\food\\Food_{year}\")\n",
    "df5 = pd.read_pickle(fr\"C:\\Users\\Mahsa\\Desktop\\geo\\food\\Cigar_{year}\")\n",
    "df6 = pd.read_pickle(fr\"C:\\Users\\Mahsa\\Desktop\\geo\\food\\NonCatDrinks_{year}\")\n",
    "df7 = pd.read_pickle(fr\"C:\\Users\\Mahsa\\Desktop\\geo\\sectors\\Cloth_{year}\")\n",
    "df8 = pd.read_pickle(fr\"C:\\Users\\Mahsa\\Desktop\\geo\\sectors\\Invest_{year}\")\n",
    "df9 = pd.read_pickle(fr\"C:\\Users\\Mahsa\\Desktop\\geo\\sectors\\Part3_{year}\")\n",
    "df10 = pd.read_pickle(fr\"C:\\Users\\Mahsa\\Desktop\\geo\\sectors\\section04_{year}\")\n",
    "df11 = pd.read_pickle(fr\"C:\\Users\\Mahsa\\Desktop\\geo\\sectors\\section13_{year}\")\n",
    "dataframes = []\n",
    "dataframes.extend([df1, df2, df3, df4, df5, df6, df7, df8, df9, df10, df11])\n",
    "for i in range(len(dataframes)):\n",
    "    df = dataframes[i]\n",
    "    print(df.columns)\n",
    "    print(df.shape)\n",
    "    "
   ]
  },
  {
   "cell_type": "code",
   "execution_count": 9,
   "id": "464116cd",
   "metadata": {},
   "outputs": [
    {
     "name": "stdout",
     "output_type": "stream",
     "text": [
      "38950\n",
      "40011\n",
      "40007\n",
      "39864\n",
      "39856\n",
      "39857\n",
      "39864\n",
      "37962\n",
      "38960\n",
      "38328\n",
      "37557\n",
      "37988\n",
      "37951\n",
      "37883\n",
      "37505\n"
     ]
    }
   ],
   "source": [
    "years = list(range(89, 99))+ [99] + list(range(1400, 1404))\n",
    "df12 = pd.DataFrame()\n",
    "for year in years:\n",
    "    dataframes = []\n",
    "    df1 = pd.read_pickle(fr\"C:\\Users\\Mahsa\\Desktop\\geo\\base1\\base{year}\")\n",
    "    df2 = pd.read_pickle(fr\"C:\\Users\\Mahsa\\Desktop\\geo\\base2\\HHP1_{year}\")\n",
    "    df3 = pd.read_pickle(fr\"C:\\Users\\Mahsa\\Desktop\\geo\\base3\\P2_{year}\")\n",
    "    df4 = pd.read_pickle(fr\"C:\\Users\\Mahsa\\Desktop\\geo\\food\\Food_{year}\")\n",
    "    df5 = pd.read_pickle(fr\"C:\\Users\\Mahsa\\Desktop\\geo\\food\\Cigar_{year}\")\n",
    "    df6 = pd.read_pickle(fr\"C:\\Users\\Mahsa\\Desktop\\geo\\food\\NonCatDrinks_{year}\")\n",
    "    df7 = pd.read_pickle(fr\"C:\\Users\\Mahsa\\Desktop\\geo\\sectors\\Cloth_{year}\")\n",
    "    df8 = pd.read_pickle(fr\"C:\\Users\\Mahsa\\Desktop\\geo\\sectors\\Invest_{year}\")\n",
    "    df9 = pd.read_pickle(fr\"C:\\Users\\Mahsa\\Desktop\\geo\\sectors\\Part3_{year}\")\n",
    "    df10 = pd.read_pickle(fr\"C:\\Users\\Mahsa\\Desktop\\geo\\sectors\\section04_{year}\")\n",
    "    df11 = pd.read_pickle(fr\"C:\\Users\\Mahsa\\Desktop\\geo\\sectors\\section13_{year}\")\n",
    "    \n",
    "    dataframes.extend([df1, df2, df3, df4, df5, df6, df7, df8, df9, df10, df11])\n",
    "    merged_df = dataframes[0]\n",
    "    for i in range(1, len(dataframes)):\n",
    "        merged_df = merged_df.merge(dataframes[i], on='HHID', how='left')\n",
    "    \n",
    "    merged_df[\"year\"] = year\n",
    "    print(merged_df.shape[0])\n",
    "    \n",
    "    pd.to_pickle(merged_df, f\"Merged_{year}\")\n",
    "    \n",
    "    metadata = pd.DataFrame({\n",
    "    \"col\" : list(merged_df.columns),\n",
    "    f\"missed{year}\" : merged_df.isna().sum(),\n",
    "    })\n",
    "    \n",
    "    if year == 89:\n",
    "        df13 = metadata.reset_index(drop=True)\n",
    "    else:\n",
    "        df13 = pd.merge(df13, metadata, on=\"col\", how=\"left\")\n",
    "\n",
    "    "
   ]
  },
  {
   "cell_type": "code",
   "execution_count": 11,
   "id": "1234c7ee",
   "metadata": {},
   "outputs": [],
   "source": [
    "pd.to_pickle(df13, \"meta_data\")"
   ]
  },
  {
   "cell_type": "code",
   "execution_count": 13,
   "id": "8f64a622",
   "metadata": {},
   "outputs": [
    {
     "data": {
      "application/vnd.microsoft.datawrangler.viewer.v0+json": {
       "columns": [
        {
         "name": "index",
         "rawType": "object",
         "type": "string"
        },
        {
         "name": "HHID",
         "rawType": "object",
         "type": "unknown"
        },
        {
         "name": "month",
         "rawType": "object",
         "type": "unknown"
        },
        {
         "name": "head_job",
         "rawType": "object",
         "type": "unknown"
        },
        {
         "name": "household_type",
         "rawType": "object",
         "type": "unknown"
        },
        {
         "name": "region",
         "rawType": "object",
         "type": "unknown"
        },
        {
         "name": "quarter",
         "rawType": "object",
         "type": "unknown"
        },
        {
         "name": "weight",
         "rawType": "object",
         "type": "unknown"
        },
        {
         "name": "county_code",
         "rawType": "object",
         "type": "unknown"
        },
        {
         "name": "province_code",
         "rawType": "object",
         "type": "unknown"
        },
        {
         "name": "county89",
         "rawType": "object",
         "type": "unknown"
        },
        {
         "name": "province",
         "rawType": "object",
         "type": "unknown"
        },
        {
         "name": "HHsize",
         "rawType": "object",
         "type": "unknown"
        },
        {
         "name": "AveAge",
         "rawType": "object",
         "type": "unknown"
        },
        {
         "name": "NumChild_U5",
         "rawType": "object",
         "type": "unknown"
        },
        {
         "name": "NumChild_B5_7",
         "rawType": "object",
         "type": "unknown"
        },
        {
         "name": "NumChild_B7_18",
         "rawType": "object",
         "type": "unknown"
        },
        {
         "name": "NumChildOver18",
         "rawType": "object",
         "type": "unknown"
        },
        {
         "name": "HeadWoman",
         "rawType": "object",
         "type": "unknown"
        },
        {
         "name": "Dep_Student",
         "rawType": "object",
         "type": "unknown"
        },
        {
         "name": "Num_Literate",
         "rawType": "object",
         "type": "unknown"
        },
        {
         "name": "NumSpouse",
         "rawType": "object",
         "type": "unknown"
        },
        {
         "name": "NumEmployed",
         "rawType": "object",
         "type": "unknown"
        },
        {
         "name": "NumOld",
         "rawType": "object",
         "type": "unknown"
        },
        {
         "name": "NumMale",
         "rawType": "object",
         "type": "unknown"
        },
        {
         "name": "NumNotfirstR",
         "rawType": "object",
         "type": "unknown"
        },
        {
         "name": "Tenure",
         "rawType": "object",
         "type": "unknown"
        },
        {
         "name": "Othertenure",
         "rawType": "object",
         "type": "unknown"
        },
        {
         "name": "Room",
         "rawType": "object",
         "type": "unknown"
        },
        {
         "name": "Area",
         "rawType": "object",
         "type": "unknown"
        },
        {
         "name": "Skeleton",
         "rawType": "object",
         "type": "unknown"
        },
        {
         "name": "MainMaterial",
         "rawType": "object",
         "type": "unknown"
        },
        {
         "name": "PrivateVehicle",
         "rawType": "object",
         "type": "unknown"
        },
        {
         "name": "Motorcycle",
         "rawType": "object",
         "type": "unknown"
        },
        {
         "name": "Bike",
         "rawType": "object",
         "type": "unknown"
        },
        {
         "name": "Radio",
         "rawType": "object",
         "type": "unknown"
        },
        {
         "name": "Cassette",
         "rawType": "object",
         "type": "unknown"
        },
        {
         "name": "TVbw",
         "rawType": "object",
         "type": "unknown"
        },
        {
         "name": "TV",
         "rawType": "object",
         "type": "unknown"
        },
        {
         "name": "VideoPlayer",
         "rawType": "object",
         "type": "unknown"
        },
        {
         "name": "Computer",
         "rawType": "object",
         "type": "unknown"
        },
        {
         "name": "Cellphone",
         "rawType": "object",
         "type": "unknown"
        },
        {
         "name": "Freezer",
         "rawType": "object",
         "type": "unknown"
        },
        {
         "name": "Refrigerator",
         "rawType": "object",
         "type": "unknown"
        },
        {
         "name": "Freez_refrig",
         "rawType": "object",
         "type": "unknown"
        },
        {
         "name": "Oven",
         "rawType": "object",
         "type": "unknown"
        },
        {
         "name": "Vacuum",
         "rawType": "object",
         "type": "unknown"
        },
        {
         "name": "Washer",
         "rawType": "object",
         "type": "unknown"
        },
        {
         "name": "Sewing",
         "rawType": "object",
         "type": "unknown"
        },
        {
         "name": "Fan",
         "rawType": "object",
         "type": "unknown"
        },
        {
         "name": "Cooler_water_portable",
         "rawType": "object",
         "type": "unknown"
        },
        {
         "name": "Cooler_gas_portable",
         "rawType": "object",
         "type": "unknown"
        },
        {
         "name": "Dishwasher",
         "rawType": "object",
         "type": "unknown"
        },
        {
         "name": "None",
         "rawType": "object",
         "type": "unknown"
        },
        {
         "name": "Pipewater",
         "rawType": "object",
         "type": "unknown"
        },
        {
         "name": "Electricity",
         "rawType": "object",
         "type": "unknown"
        },
        {
         "name": "Pipegas",
         "rawType": "object",
         "type": "unknown"
        },
        {
         "name": "Phone",
         "rawType": "object",
         "type": "unknown"
        },
        {
         "name": "Internet",
         "rawType": "object",
         "type": "unknown"
        },
        {
         "name": "Bathroom",
         "rawType": "object",
         "type": "unknown"
        },
        {
         "name": "Kitchen",
         "rawType": "object",
         "type": "unknown"
        },
        {
         "name": "Cooler_water",
         "rawType": "object",
         "type": "unknown"
        },
        {
         "name": "Centralcooler",
         "rawType": "object",
         "type": "unknown"
        },
        {
         "name": "Centralheat",
         "rawType": "object",
         "type": "unknown"
        },
        {
         "name": "Pakage",
         "rawType": "object",
         "type": "unknown"
        },
        {
         "name": "Cooler_gas",
         "rawType": "object",
         "type": "unknown"
        },
        {
         "name": "Sewer_network",
         "rawType": "object",
         "type": "unknown"
        },
        {
         "name": "Cookfuel",
         "rawType": "object",
         "type": "unknown"
        },
        {
         "name": "Heatfuel",
         "rawType": "object",
         "type": "unknown"
        },
        {
         "name": "Hotwaterfuel",
         "rawType": "object",
         "type": "unknown"
        },
        {
         "name": "FoodExp",
         "rawType": "object",
         "type": "unknown"
        },
        {
         "name": "CigarExp",
         "rawType": "object",
         "type": "unknown"
        },
        {
         "name": "NonCatDrinksExp",
         "rawType": "object",
         "type": "unknown"
        },
        {
         "name": "ClothExp",
         "rawType": "object",
         "type": "unknown"
        },
        {
         "name": "InvestExp",
         "rawType": "object",
         "type": "unknown"
        },
        {
         "name": "FurnitureExp",
         "rawType": "object",
         "type": "unknown"
        },
        {
         "name": "MedicalExp",
         "rawType": "object",
         "type": "unknown"
        },
        {
         "name": "TransportationExp",
         "rawType": "object",
         "type": "unknown"
        },
        {
         "name": "CommunicationExp",
         "rawType": "object",
         "type": "unknown"
        },
        {
         "name": "AmusementExp",
         "rawType": "object",
         "type": "unknown"
        },
        {
         "name": "RestaurantExp",
         "rawType": "object",
         "type": "unknown"
        },
        {
         "name": "HotelExp",
         "rawType": "object",
         "type": "unknown"
        },
        {
         "name": "OtherExp",
         "rawType": "object",
         "type": "unknown"
        },
        {
         "name": "RentExp",
         "rawType": "object",
         "type": "unknown"
        },
        {
         "name": "EstRent_ownerExp",
         "rawType": "object",
         "type": "unknown"
        },
        {
         "name": "EstRentExp",
         "rawType": "object",
         "type": "unknown"
        },
        {
         "name": "MortgageExp",
         "rawType": "object",
         "type": "unknown"
        },
        {
         "name": "WaterExp",
         "rawType": "object",
         "type": "unknown"
        },
        {
         "name": "Water_otherExp",
         "rawType": "object",
         "type": "unknown"
        },
        {
         "name": "SewageExp",
         "rawType": "object",
         "type": "unknown"
        },
        {
         "name": "OtherHousingExp",
         "rawType": "object",
         "type": "unknown"
        },
        {
         "name": "ElectricityExp",
         "rawType": "object",
         "type": "unknown"
        },
        {
         "name": "ElectricityOtherExp",
         "rawType": "object",
         "type": "unknown"
        },
        {
         "name": "NaturalGasExp",
         "rawType": "object",
         "type": "unknown"
        },
        {
         "name": "NaturalGasOtherExp",
         "rawType": "object",
         "type": "unknown"
        },
        {
         "name": "OtherEnergyReExp",
         "rawType": "object",
         "type": "unknown"
        },
        {
         "name": "ClothesExtraExp",
         "rawType": "object",
         "type": "unknown"
        },
        {
         "name": "HousingMaintainExp",
         "rawType": "object",
         "type": "unknown"
        },
        {
         "name": "FurniExtraExp",
         "rawType": "object",
         "type": "unknown"
        },
        {
         "name": "MedicalExtraExp",
         "rawType": "object",
         "type": "unknown"
        },
        {
         "name": "TransportationExtraExp",
         "rawType": "object",
         "type": "unknown"
        },
        {
         "name": "CommunicationExtraExp",
         "rawType": "object",
         "type": "unknown"
        },
        {
         "name": "AmusementExtraExp",
         "rawType": "object",
         "type": "unknown"
        },
        {
         "name": "EducationExp",
         "rawType": "object",
         "type": "unknown"
        },
        {
         "name": "OtherExtraExp",
         "rawType": "object",
         "type": "unknown"
        },
        {
         "name": "year",
         "rawType": "object",
         "type": "unknown"
        }
       ],
       "ref": "fafae84d-7ed1-4930-a818-2bf3eba63b90",
       "rows": [
        [
         "missed89",
         "0",
         "0",
         "0",
         "0",
         "0",
         "0",
         "38950",
         "665",
         "0",
         "665",
         "0",
         "665",
         "665",
         "665",
         "665",
         "665",
         "665",
         "665",
         "665",
         "665",
         "665",
         "665",
         "665",
         "665",
         "665",
         "665",
         "0",
         "693",
         "665",
         "665",
         "6715",
         "0",
         "0",
         "0",
         "0",
         "0",
         "0",
         "0",
         "0",
         "0",
         "0",
         "0",
         "0",
         "0",
         "0",
         "0",
         "0",
         "0",
         "0",
         "0",
         "0",
         "0",
         "0",
         "0",
         "0",
         "0",
         "0",
         "0",
         "0",
         "0",
         "0",
         "0",
         "0",
         "0",
         "0",
         "0",
         "665",
         "665",
         "665",
         "780",
         "30052",
         "38944",
         "16276",
         "27536",
         "0",
         "0",
         "0",
         "0",
         "0",
         "0",
         "0",
         "0",
         "0",
         "0",
         "0",
         "0",
         "0",
         "0",
         "0",
         "0",
         "0",
         "0",
         "0",
         "0",
         "0",
         "0",
         "0",
         "0",
         "0",
         "0",
         "0",
         "0",
         "0",
         "0",
         "0"
        ],
        [
         "missed90",
         "0",
         "1",
         "4",
         "0",
         "0",
         "0",
         "40011",
         "1498",
         "0",
         "1498",
         "1",
         "1498",
         "1498",
         "1498",
         "1498",
         "1498",
         "1498",
         "1498",
         "1498",
         "1498",
         "1498",
         "1498",
         "1498",
         "1498",
         "1498",
         "1498",
         "1498",
         "1498",
         "1498",
         "1498",
         "7932",
         "1498",
         "1498",
         "1498",
         "1498",
         "1498",
         "1498",
         "1498",
         "1498",
         "1498",
         "1498",
         "1498",
         "1498",
         "1498",
         "1498",
         "1498",
         "1498",
         "1498",
         "1498",
         "1498",
         "1498",
         "1498",
         "1498",
         "1498",
         "1498",
         "1498",
         "1498",
         "1498",
         "1498",
         "1498",
         "1498",
         "1498",
         "1498",
         "1498",
         "1498",
         "1498",
         "1498",
         "1498",
         "1498",
         "1577",
         "31473",
         "40006",
         "18009",
         "32148",
         "0",
         "0",
         "0",
         "0",
         "0",
         "0",
         "0",
         "0",
         "0",
         "0",
         "0",
         "0",
         "0",
         "0",
         "0",
         "0",
         "0",
         "0",
         "0",
         "0",
         "0",
         "0",
         "0",
         "0",
         "0",
         "0",
         "0",
         "0",
         "0",
         "0",
         "0"
        ],
        [
         "missed91",
         "0.0",
         "0.0",
         "0.0",
         "0.0",
         "0.0",
         "0.0",
         "40007.0",
         "1815.0",
         "0.0",
         null,
         "0.0",
         "1815.0",
         "1815.0",
         "1815.0",
         "1815.0",
         "1815.0",
         "1815.0",
         "1815.0",
         "1815.0",
         "1815.0",
         "1815.0",
         "1815.0",
         "1815.0",
         "1815.0",
         "1815.0",
         "1815.0",
         "1815.0",
         "1815.0",
         "1815.0",
         "1815.0",
         "8153.0",
         "1815.0",
         "1815.0",
         "1815.0",
         "1815.0",
         "1815.0",
         "1815.0",
         "1815.0",
         "1815.0",
         "1815.0",
         "1815.0",
         "1815.0",
         "1815.0",
         "1815.0",
         null,
         "1815.0",
         "1815.0",
         "1815.0",
         "1815.0",
         "1815.0",
         "1815.0",
         "1815.0",
         "1815.0",
         "1815.0",
         "1815.0",
         "1815.0",
         "1815.0",
         "1815.0",
         "1815.0",
         "1815.0",
         "1815.0",
         "1815.0",
         "1815.0",
         "1815.0",
         "1815.0",
         "1815.0",
         "1815.0",
         "1815.0",
         "1815.0",
         "1892.0",
         "31751.0",
         "40000.0",
         "18805.0",
         "33521.0",
         "0.0",
         "0.0",
         "0.0",
         "0.0",
         "0.0",
         "0.0",
         "0.0",
         "0.0",
         "0.0",
         "0.0",
         "0.0",
         "0.0",
         "0.0",
         "0.0",
         "0.0",
         "0.0",
         "0.0",
         "0.0",
         "0.0",
         "0.0",
         "0.0",
         "0.0",
         "0.0",
         "0.0",
         "0.0",
         "0.0",
         "0.0",
         "0.0",
         "0.0",
         "0.0",
         "0.0"
        ],
        [
         "missed92",
         "0.0",
         "12.0",
         "1549.0",
         "0.0",
         "0.0",
         "0.0",
         "39864.0",
         "0.0",
         "0.0",
         null,
         "0.0",
         "1548.0",
         "1548.0",
         "1548.0",
         "1548.0",
         "1548.0",
         "1548.0",
         "1548.0",
         "1548.0",
         "1548.0",
         "1548.0",
         "1548.0",
         "1548.0",
         "1548.0",
         "1548.0",
         "1548.0",
         "1533.0",
         "1533.0",
         "1533.0",
         "1548.0",
         "9724.0",
         "1533.0",
         "1533.0",
         "1533.0",
         "1533.0",
         "1533.0",
         "1533.0",
         "1533.0",
         "1533.0",
         "1533.0",
         "1533.0",
         "1533.0",
         "1533.0",
         "1533.0",
         null,
         "1533.0",
         "1533.0",
         "1533.0",
         "1533.0",
         "1533.0",
         "1533.0",
         "1533.0",
         "1533.0",
         "1533.0",
         "1533.0",
         "1533.0",
         "1533.0",
         "1533.0",
         "1533.0",
         "1533.0",
         "1533.0",
         "1533.0",
         "1533.0",
         "1533.0",
         "1533.0",
         "1533.0",
         "1548.0",
         "1548.0",
         "1548.0",
         "1623.0",
         "32316.0",
         "39857.0",
         "19144.0",
         "34179.0",
         "0.0",
         "0.0",
         "0.0",
         "0.0",
         "0.0",
         "0.0",
         "0.0",
         "0.0",
         "0.0",
         "0.0",
         "0.0",
         "0.0",
         "0.0",
         "0.0",
         "0.0",
         "0.0",
         "0.0",
         "0.0",
         "0.0",
         "0.0",
         "0.0",
         "0.0",
         "0.0",
         "0.0",
         "0.0",
         "0.0",
         "0.0",
         "0.0",
         "0.0",
         "0.0",
         "0.0"
        ],
        [
         "missed93",
         "0.0",
         "0.0",
         "0.0",
         "0.0",
         "0.0",
         "0.0",
         "39856.0",
         "0.0",
         "0.0",
         null,
         "0.0",
         "1581.0",
         "1581.0",
         "1581.0",
         "1581.0",
         "1581.0",
         "1581.0",
         "1581.0",
         "1581.0",
         "1581.0",
         "1581.0",
         "1581.0",
         "1581.0",
         "1581.0",
         "1581.0",
         "1581.0",
         "0.0",
         "0.0",
         "0.0",
         "1581.0",
         "9889.0",
         "0.0",
         "0.0",
         "0.0",
         "0.0",
         "0.0",
         "0.0",
         "0.0",
         "0.0",
         "0.0",
         "0.0",
         "0.0",
         "0.0",
         "0.0",
         null,
         "0.0",
         "0.0",
         "0.0",
         "0.0",
         "0.0",
         "0.0",
         "0.0",
         "0.0",
         "0.0",
         "0.0",
         "0.0",
         "0.0",
         "0.0",
         "0.0",
         "0.0",
         "0.0",
         "0.0",
         "0.0",
         "0.0",
         "0.0",
         "0.0",
         "1581.0",
         "1581.0",
         "1581.0",
         "1667.0",
         "32415.0",
         "39855.0",
         "19858.0",
         "34526.0",
         "0.0",
         "0.0",
         "0.0",
         "0.0",
         "0.0",
         "0.0",
         "0.0",
         "0.0",
         "0.0",
         "0.0",
         "0.0",
         "0.0",
         "0.0",
         "0.0",
         "0.0",
         "0.0",
         "0.0",
         "0.0",
         "0.0",
         "0.0",
         "0.0",
         "0.0",
         "0.0",
         "0.0",
         "0.0",
         "0.0",
         "0.0",
         "0.0",
         "0.0",
         "0.0",
         "0.0"
        ],
        [
         "missed94",
         "0.0",
         "0.0",
         "0.0",
         "0.0",
         "0.0",
         "0.0",
         "39857.0",
         "0.0",
         "0.0",
         null,
         "0.0",
         "1605.0",
         "1605.0",
         "1605.0",
         "1605.0",
         "1605.0",
         "1605.0",
         "1605.0",
         "1605.0",
         "1605.0",
         "1605.0",
         "1605.0",
         "1605.0",
         "1605.0",
         "1605.0",
         "1605.0",
         "0.0",
         "1605.0",
         "1605.0",
         "1605.0",
         "9923.0",
         "0.0",
         "0.0",
         "0.0",
         "0.0",
         "0.0",
         "0.0",
         "0.0",
         "0.0",
         "0.0",
         "0.0",
         "0.0",
         "0.0",
         "0.0",
         null,
         "0.0",
         "0.0",
         "0.0",
         "0.0",
         "0.0",
         "0.0",
         "0.0",
         "0.0",
         "0.0",
         "0.0",
         "0.0",
         "0.0",
         "0.0",
         "0.0",
         "0.0",
         "0.0",
         "0.0",
         "0.0",
         "0.0",
         "0.0",
         "0.0",
         "1605.0",
         "1605.0",
         "1605.0",
         "1714.0",
         "32551.0",
         "39856.0",
         "20333.0",
         "35170.0",
         "0.0",
         "0.0",
         "0.0",
         "0.0",
         "0.0",
         "0.0",
         "0.0",
         "0.0",
         "0.0",
         "0.0",
         "0.0",
         "0.0",
         "0.0",
         "0.0",
         "0.0",
         "0.0",
         "0.0",
         "0.0",
         "0.0",
         "0.0",
         "0.0",
         "0.0",
         "0.0",
         "0.0",
         "0.0",
         "0.0",
         "0.0",
         "0.0",
         "0.0",
         "0.0",
         "0.0"
        ],
        [
         "missed95",
         "0.0",
         "0.0",
         "0.0",
         "0.0",
         "0.0",
         "0.0",
         "39864.0",
         "0.0",
         "0.0",
         null,
         "0.0",
         "1718.0",
         "1718.0",
         "1718.0",
         "1718.0",
         "1718.0",
         "1718.0",
         "1718.0",
         "1718.0",
         "1718.0",
         "1718.0",
         "1718.0",
         "1718.0",
         "1718.0",
         "1718.0",
         "1718.0",
         "0.0",
         "0.0",
         "0.0",
         "1718.0",
         "10494.0",
         "0.0",
         "0.0",
         "0.0",
         "0.0",
         "0.0",
         "0.0",
         "0.0",
         "0.0",
         "0.0",
         "0.0",
         "0.0",
         "0.0",
         "0.0",
         null,
         "0.0",
         "0.0",
         "0.0",
         "0.0",
         "0.0",
         "0.0",
         "0.0",
         "0.0",
         "0.0",
         "0.0",
         "0.0",
         "0.0",
         "0.0",
         "0.0",
         "0.0",
         "0.0",
         "0.0",
         "0.0",
         "0.0",
         "0.0",
         "0.0",
         "1718.0",
         "1718.0",
         "1718.0",
         "1842.0",
         "32681.0",
         "39857.0",
         "20307.0",
         "35255.0",
         "0.0",
         "0.0",
         "0.0",
         "0.0",
         "0.0",
         "0.0",
         "0.0",
         "0.0",
         "0.0",
         "0.0",
         "0.0",
         "0.0",
         "0.0",
         "0.0",
         "0.0",
         "0.0",
         "0.0",
         "0.0",
         "0.0",
         "0.0",
         "0.0",
         "0.0",
         "0.0",
         "0.0",
         "0.0",
         "0.0",
         "0.0",
         "0.0",
         "0.0",
         "0.0",
         "0.0"
        ],
        [
         "missed96",
         "0.0",
         "0.0",
         null,
         "0.0",
         "0.0",
         "0.0",
         "0.0",
         "0.0",
         "0.0",
         null,
         "0.0",
         "0.0",
         "0.0",
         "0.0",
         "0.0",
         "0.0",
         "0.0",
         "0.0",
         "0.0",
         "0.0",
         "0.0",
         "0.0",
         "0.0",
         "0.0",
         "0.0",
         "0.0",
         null,
         "0.0",
         "0.0",
         "0.0",
         "9156.0",
         "0.0",
         "0.0",
         "0.0",
         "0.0",
         "0.0",
         "0.0",
         "0.0",
         "0.0",
         "0.0",
         "0.0",
         "0.0",
         "0.0",
         "0.0",
         null,
         "0.0",
         "0.0",
         "0.0",
         "0.0",
         "0.0",
         "0.0",
         "0.0",
         "0.0",
         "0.0",
         "0.0",
         "0.0",
         "0.0",
         "0.0",
         "0.0",
         "0.0",
         "0.0",
         "0.0",
         "0.0",
         "0.0",
         "0.0",
         "0.0",
         "0.0",
         "0.0",
         "0.0",
         "102.0",
         "30401.0",
         "37950.0",
         "17940.0",
         "32739.0",
         "0.0",
         "0.0",
         "0.0",
         "0.0",
         "0.0",
         "0.0",
         "0.0",
         "0.0",
         "0.0",
         "0.0",
         "0.0",
         "0.0",
         "0.0",
         "0.0",
         "0.0",
         "0.0",
         "0.0",
         "0.0",
         "0.0",
         "0.0",
         "0.0",
         "0.0",
         "0.0",
         "0.0",
         "0.0",
         "0.0",
         "0.0",
         "0.0",
         "0.0",
         "0.0",
         "0.0"
        ],
        [
         "missed97",
         "0.0",
         "1.0",
         null,
         "0.0",
         "0.0",
         "0.0",
         "0.0",
         "0.0",
         "0.0",
         null,
         "0.0",
         "0.0",
         "0.0",
         "0.0",
         "0.0",
         "0.0",
         "0.0",
         "0.0",
         "0.0",
         "0.0",
         "0.0",
         "0.0",
         "0.0",
         "0.0",
         "0.0",
         "0.0",
         null,
         "0.0",
         "0.0",
         "0.0",
         "11681.0",
         "0.0",
         "0.0",
         "0.0",
         "0.0",
         "0.0",
         "0.0",
         "0.0",
         "0.0",
         "0.0",
         "0.0",
         "0.0",
         "0.0",
         "0.0",
         null,
         "0.0",
         "0.0",
         "0.0",
         "0.0",
         "0.0",
         "0.0",
         "0.0",
         "0.0",
         "0.0",
         "0.0",
         "0.0",
         "0.0",
         "0.0",
         "0.0",
         "0.0",
         "0.0",
         "0.0",
         "0.0",
         "0.0",
         "0.0",
         "0.0",
         "0.0",
         "0.0",
         "0.0",
         "101.0",
         "31307.0",
         "38935.0",
         "20720.0",
         "33348.0",
         "0.0",
         "0.0",
         "0.0",
         "0.0",
         "0.0",
         "0.0",
         "0.0",
         "0.0",
         "0.0",
         "0.0",
         "0.0",
         "0.0",
         "0.0",
         "0.0",
         "0.0",
         "0.0",
         "0.0",
         "0.0",
         "0.0",
         "0.0",
         "0.0",
         "0.0",
         "0.0",
         "0.0",
         "0.0",
         "0.0",
         "0.0",
         "0.0",
         "0.0",
         "0.0",
         "0.0"
        ],
        [
         "missed98",
         "0.0",
         "0.0",
         null,
         "0.0",
         "0.0",
         "0.0",
         "0.0",
         "0.0",
         "0.0",
         null,
         "0.0",
         "0.0",
         "0.0",
         "0.0",
         "0.0",
         "0.0",
         "0.0",
         "0.0",
         "0.0",
         "0.0",
         "0.0",
         "0.0",
         "0.0",
         "0.0",
         "0.0",
         "0.0",
         null,
         "0.0",
         "0.0",
         "0.0",
         "11820.0",
         "0.0",
         "0.0",
         "0.0",
         "0.0",
         "0.0",
         "0.0",
         "0.0",
         "0.0",
         "0.0",
         "0.0",
         "0.0",
         "0.0",
         "0.0",
         null,
         "0.0",
         "0.0",
         "0.0",
         "0.0",
         "0.0",
         "0.0",
         "0.0",
         "0.0",
         "0.0",
         "0.0",
         "0.0",
         "0.0",
         "0.0",
         "0.0",
         "0.0",
         "0.0",
         "0.0",
         "0.0",
         "0.0",
         "0.0",
         "0.0",
         "0.0",
         "0.0",
         "0.0",
         "132.0",
         "30917.0",
         "38316.0",
         "21840.0",
         "33327.0",
         "0.0",
         "0.0",
         "0.0",
         "0.0",
         "0.0",
         "0.0",
         "0.0",
         "0.0",
         "0.0",
         "0.0",
         "0.0",
         "0.0",
         "0.0",
         "0.0",
         "0.0",
         "0.0",
         "0.0",
         "0.0",
         "0.0",
         "0.0",
         "0.0",
         "0.0",
         "0.0",
         "0.0",
         "0.0",
         "0.0",
         "0.0",
         "0.0",
         "0.0",
         "0.0",
         "0.0"
        ],
        [
         "missed99",
         "0.0",
         "0.0",
         null,
         "0.0",
         "0.0",
         "0.0",
         "0.0",
         "0.0",
         "0.0",
         null,
         "0.0",
         "0.0",
         "0.0",
         "0.0",
         "0.0",
         "0.0",
         "0.0",
         "0.0",
         "0.0",
         "0.0",
         "0.0",
         "0.0",
         "0.0",
         "0.0",
         "0.0",
         "0.0",
         null,
         "0.0",
         "0.0",
         "0.0",
         "11299.0",
         "0.0",
         "0.0",
         "0.0",
         "0.0",
         "0.0",
         "0.0",
         "0.0",
         "0.0",
         "0.0",
         "0.0",
         "0.0",
         "0.0",
         "0.0",
         null,
         "0.0",
         "0.0",
         "0.0",
         "0.0",
         "0.0",
         "0.0",
         "0.0",
         "0.0",
         "0.0",
         "0.0",
         "0.0",
         "0.0",
         "0.0",
         "0.0",
         "0.0",
         "0.0",
         "0.0",
         "0.0",
         "0.0",
         "0.0",
         "0.0",
         "0.0",
         "0.0",
         "0.0",
         "168.0",
         "31111.0",
         "37543.0",
         "16906.0",
         "32765.0",
         "0.0",
         "0.0",
         "0.0",
         "0.0",
         "0.0",
         "0.0",
         "0.0",
         "0.0",
         "0.0",
         "0.0",
         "0.0",
         "0.0",
         "0.0",
         "0.0",
         "0.0",
         "0.0",
         "0.0",
         "0.0",
         "0.0",
         "0.0",
         "0.0",
         "0.0",
         "0.0",
         "0.0",
         "0.0",
         "0.0",
         "0.0",
         "0.0",
         "0.0",
         "0.0",
         "0.0"
        ],
        [
         "missed1400",
         "0.0",
         "37988.0",
         null,
         "0.0",
         "0.0",
         "0.0",
         "0.0",
         "0.0",
         "0.0",
         null,
         "0.0",
         "0.0",
         "0.0",
         "0.0",
         "0.0",
         "0.0",
         "0.0",
         "0.0",
         "0.0",
         "0.0",
         "0.0",
         "0.0",
         "0.0",
         "0.0",
         "0.0",
         "0.0",
         null,
         "0.0",
         "0.0",
         "0.0",
         "11731.0",
         "0.0",
         "0.0",
         "0.0",
         "0.0",
         "0.0",
         "0.0",
         "0.0",
         "0.0",
         "0.0",
         "0.0",
         "0.0",
         "0.0",
         "0.0",
         null,
         "0.0",
         "0.0",
         "0.0",
         "0.0",
         "0.0",
         "0.0",
         "0.0",
         "0.0",
         "0.0",
         "0.0",
         "0.0",
         "0.0",
         "0.0",
         "0.0",
         "0.0",
         "0.0",
         "0.0",
         "0.0",
         "0.0",
         "0.0",
         "0.0",
         "0.0",
         "0.0",
         "0.0",
         "162.0",
         "31556.0",
         "37981.0",
         "16986.0",
         "33442.0",
         "0.0",
         "0.0",
         "0.0",
         "0.0",
         "0.0",
         "0.0",
         "0.0",
         "0.0",
         "0.0",
         "0.0",
         "0.0",
         "0.0",
         "0.0",
         "0.0",
         "0.0",
         "0.0",
         "0.0",
         "0.0",
         "0.0",
         "0.0",
         "0.0",
         "0.0",
         "0.0",
         "0.0",
         "0.0",
         "0.0",
         "0.0",
         "0.0",
         "0.0",
         "0.0",
         "0.0"
        ],
        [
         "missed1401",
         "0.0",
         "37951.0",
         null,
         "0.0",
         "0.0",
         "0.0",
         "0.0",
         "0.0",
         "0.0",
         null,
         "0.0",
         "0.0",
         "0.0",
         "0.0",
         "0.0",
         "0.0",
         "0.0",
         "0.0",
         "0.0",
         "0.0",
         "0.0",
         "0.0",
         "0.0",
         "0.0",
         "0.0",
         "4.0",
         null,
         "0.0",
         "4.0",
         "4.0",
         "12200.0",
         "0.0",
         "0.0",
         "0.0",
         "0.0",
         "0.0",
         "0.0",
         "0.0",
         "0.0",
         "0.0",
         "0.0",
         "0.0",
         "0.0",
         "0.0",
         null,
         "0.0",
         "0.0",
         "0.0",
         "0.0",
         "0.0",
         "0.0",
         "0.0",
         "0.0",
         "0.0",
         "0.0",
         "0.0",
         "0.0",
         "0.0",
         "0.0",
         "0.0",
         "0.0",
         "0.0",
         "0.0",
         "0.0",
         "0.0",
         "0.0",
         "0.0",
         "0.0",
         "0.0",
         "119.0",
         "31604.0",
         "37943.0",
         "21354.0",
         "34060.0",
         "0.0",
         "0.0",
         "0.0",
         "0.0",
         "0.0",
         "0.0",
         "0.0",
         "0.0",
         "0.0",
         "0.0",
         "0.0",
         "0.0",
         "0.0",
         "0.0",
         "0.0",
         "0.0",
         "0.0",
         "0.0",
         "0.0",
         "0.0",
         "0.0",
         "0.0",
         "0.0",
         "0.0",
         "0.0",
         "0.0",
         "0.0",
         "0.0",
         "0.0",
         "0.0",
         "0.0"
        ],
        [
         "missed1402",
         "0.0",
         "37883.0",
         null,
         "0.0",
         "0.0",
         "0.0",
         "0.0",
         "0.0",
         "0.0",
         null,
         "0.0",
         "0.0",
         "0.0",
         "0.0",
         "0.0",
         "0.0",
         "0.0",
         "0.0",
         "0.0",
         "0.0",
         "0.0",
         "0.0",
         "0.0",
         "0.0",
         "0.0",
         "5.0",
         null,
         "5.0",
         "5.0",
         "5.0",
         "12776.0",
         "0.0",
         "0.0",
         "0.0",
         "0.0",
         "0.0",
         "0.0",
         "0.0",
         "0.0",
         "0.0",
         "0.0",
         "0.0",
         "0.0",
         "0.0",
         null,
         "0.0",
         "0.0",
         "0.0",
         "0.0",
         "0.0",
         "0.0",
         "0.0",
         "0.0",
         "0.0",
         "0.0",
         "0.0",
         "0.0",
         "0.0",
         "0.0",
         "0.0",
         "0.0",
         "0.0",
         "0.0",
         "0.0",
         "0.0",
         "0.0",
         "0.0",
         "0.0",
         "0.0",
         "173.0",
         "31429.0",
         "37873.0",
         "22727.0",
         "35220.0",
         "0.0",
         "0.0",
         "0.0",
         "0.0",
         "0.0",
         "0.0",
         "0.0",
         "0.0",
         "0.0",
         "0.0",
         "0.0",
         "0.0",
         "0.0",
         "0.0",
         "0.0",
         "0.0",
         "0.0",
         "0.0",
         "0.0",
         "0.0",
         "0.0",
         "0.0",
         "0.0",
         "0.0",
         "0.0",
         "0.0",
         "0.0",
         "0.0",
         "0.0",
         "0.0",
         "0.0"
        ],
        [
         "missed1403",
         "0.0",
         "37505.0",
         null,
         "0.0",
         "0.0",
         "0.0",
         "0.0",
         "0.0",
         "0.0",
         null,
         "0.0",
         "0.0",
         "0.0",
         "0.0",
         "0.0",
         "0.0",
         "0.0",
         "0.0",
         "0.0",
         "0.0",
         "0.0",
         "0.0",
         "0.0",
         "0.0",
         "0.0",
         "5.0",
         null,
         "5.0",
         "5.0",
         "5.0",
         "12895.0",
         "0.0",
         "0.0",
         "0.0",
         "0.0",
         "0.0",
         "0.0",
         "0.0",
         "0.0",
         "0.0",
         "0.0",
         "0.0",
         "0.0",
         "0.0",
         null,
         "0.0",
         "0.0",
         "0.0",
         "0.0",
         "0.0",
         "0.0",
         "0.0",
         "0.0",
         "0.0",
         "0.0",
         "0.0",
         "0.0",
         "0.0",
         "0.0",
         "0.0",
         "0.0",
         "0.0",
         "0.0",
         "0.0",
         "0.0",
         "0.0",
         "0.0",
         "0.0",
         "0.0",
         "162.0",
         "31442.0",
         "37501.0",
         "23149.0",
         "35177.0",
         "0.0",
         "0.0",
         "0.0",
         "0.0",
         "0.0",
         "0.0",
         "0.0",
         "0.0",
         "0.0",
         "0.0",
         "0.0",
         "0.0",
         "0.0",
         "0.0",
         "0.0",
         "0.0",
         "0.0",
         "0.0",
         "0.0",
         "0.0",
         "0.0",
         "0.0",
         "0.0",
         "0.0",
         "0.0",
         "0.0",
         "0.0",
         "0.0",
         "0.0",
         "0.0",
         "0.0"
        ]
       ],
       "shape": {
        "columns": 105,
        "rows": 15
       }
      },
      "text/html": [
       "<div>\n",
       "<style scoped>\n",
       "    .dataframe tbody tr th:only-of-type {\n",
       "        vertical-align: middle;\n",
       "    }\n",
       "\n",
       "    .dataframe tbody tr th {\n",
       "        vertical-align: top;\n",
       "    }\n",
       "\n",
       "    .dataframe thead th {\n",
       "        text-align: right;\n",
       "    }\n",
       "</style>\n",
       "<table border=\"1\" class=\"dataframe\">\n",
       "  <thead>\n",
       "    <tr style=\"text-align: right;\">\n",
       "      <th>col</th>\n",
       "      <th>HHID</th>\n",
       "      <th>month</th>\n",
       "      <th>head_job</th>\n",
       "      <th>household_type</th>\n",
       "      <th>region</th>\n",
       "      <th>quarter</th>\n",
       "      <th>weight</th>\n",
       "      <th>county_code</th>\n",
       "      <th>province_code</th>\n",
       "      <th>county89</th>\n",
       "      <th>...</th>\n",
       "      <th>ClothesExtraExp</th>\n",
       "      <th>HousingMaintainExp</th>\n",
       "      <th>FurniExtraExp</th>\n",
       "      <th>MedicalExtraExp</th>\n",
       "      <th>TransportationExtraExp</th>\n",
       "      <th>CommunicationExtraExp</th>\n",
       "      <th>AmusementExtraExp</th>\n",
       "      <th>EducationExp</th>\n",
       "      <th>OtherExtraExp</th>\n",
       "      <th>year</th>\n",
       "    </tr>\n",
       "  </thead>\n",
       "  <tbody>\n",
       "    <tr>\n",
       "      <th>missed89</th>\n",
       "      <td>0</td>\n",
       "      <td>0</td>\n",
       "      <td>0</td>\n",
       "      <td>0</td>\n",
       "      <td>0</td>\n",
       "      <td>0</td>\n",
       "      <td>38950</td>\n",
       "      <td>665</td>\n",
       "      <td>0</td>\n",
       "      <td>665</td>\n",
       "      <td>...</td>\n",
       "      <td>0</td>\n",
       "      <td>0</td>\n",
       "      <td>0</td>\n",
       "      <td>0</td>\n",
       "      <td>0</td>\n",
       "      <td>0</td>\n",
       "      <td>0</td>\n",
       "      <td>0</td>\n",
       "      <td>0</td>\n",
       "      <td>0</td>\n",
       "    </tr>\n",
       "    <tr>\n",
       "      <th>missed90</th>\n",
       "      <td>0</td>\n",
       "      <td>1</td>\n",
       "      <td>4</td>\n",
       "      <td>0</td>\n",
       "      <td>0</td>\n",
       "      <td>0</td>\n",
       "      <td>40011</td>\n",
       "      <td>1498</td>\n",
       "      <td>0</td>\n",
       "      <td>1498</td>\n",
       "      <td>...</td>\n",
       "      <td>0</td>\n",
       "      <td>0</td>\n",
       "      <td>0</td>\n",
       "      <td>0</td>\n",
       "      <td>0</td>\n",
       "      <td>0</td>\n",
       "      <td>0</td>\n",
       "      <td>0</td>\n",
       "      <td>0</td>\n",
       "      <td>0</td>\n",
       "    </tr>\n",
       "    <tr>\n",
       "      <th>missed91</th>\n",
       "      <td>0.0</td>\n",
       "      <td>0.0</td>\n",
       "      <td>0.0</td>\n",
       "      <td>0.0</td>\n",
       "      <td>0.0</td>\n",
       "      <td>0.0</td>\n",
       "      <td>40007.0</td>\n",
       "      <td>1815.0</td>\n",
       "      <td>0.0</td>\n",
       "      <td>NaN</td>\n",
       "      <td>...</td>\n",
       "      <td>0.0</td>\n",
       "      <td>0.0</td>\n",
       "      <td>0.0</td>\n",
       "      <td>0.0</td>\n",
       "      <td>0.0</td>\n",
       "      <td>0.0</td>\n",
       "      <td>0.0</td>\n",
       "      <td>0.0</td>\n",
       "      <td>0.0</td>\n",
       "      <td>0.0</td>\n",
       "    </tr>\n",
       "    <tr>\n",
       "      <th>missed92</th>\n",
       "      <td>0.0</td>\n",
       "      <td>12.0</td>\n",
       "      <td>1549.0</td>\n",
       "      <td>0.0</td>\n",
       "      <td>0.0</td>\n",
       "      <td>0.0</td>\n",
       "      <td>39864.0</td>\n",
       "      <td>0.0</td>\n",
       "      <td>0.0</td>\n",
       "      <td>NaN</td>\n",
       "      <td>...</td>\n",
       "      <td>0.0</td>\n",
       "      <td>0.0</td>\n",
       "      <td>0.0</td>\n",
       "      <td>0.0</td>\n",
       "      <td>0.0</td>\n",
       "      <td>0.0</td>\n",
       "      <td>0.0</td>\n",
       "      <td>0.0</td>\n",
       "      <td>0.0</td>\n",
       "      <td>0.0</td>\n",
       "    </tr>\n",
       "    <tr>\n",
       "      <th>missed93</th>\n",
       "      <td>0.0</td>\n",
       "      <td>0.0</td>\n",
       "      <td>0.0</td>\n",
       "      <td>0.0</td>\n",
       "      <td>0.0</td>\n",
       "      <td>0.0</td>\n",
       "      <td>39856.0</td>\n",
       "      <td>0.0</td>\n",
       "      <td>0.0</td>\n",
       "      <td>NaN</td>\n",
       "      <td>...</td>\n",
       "      <td>0.0</td>\n",
       "      <td>0.0</td>\n",
       "      <td>0.0</td>\n",
       "      <td>0.0</td>\n",
       "      <td>0.0</td>\n",
       "      <td>0.0</td>\n",
       "      <td>0.0</td>\n",
       "      <td>0.0</td>\n",
       "      <td>0.0</td>\n",
       "      <td>0.0</td>\n",
       "    </tr>\n",
       "    <tr>\n",
       "      <th>missed94</th>\n",
       "      <td>0.0</td>\n",
       "      <td>0.0</td>\n",
       "      <td>0.0</td>\n",
       "      <td>0.0</td>\n",
       "      <td>0.0</td>\n",
       "      <td>0.0</td>\n",
       "      <td>39857.0</td>\n",
       "      <td>0.0</td>\n",
       "      <td>0.0</td>\n",
       "      <td>NaN</td>\n",
       "      <td>...</td>\n",
       "      <td>0.0</td>\n",
       "      <td>0.0</td>\n",
       "      <td>0.0</td>\n",
       "      <td>0.0</td>\n",
       "      <td>0.0</td>\n",
       "      <td>0.0</td>\n",
       "      <td>0.0</td>\n",
       "      <td>0.0</td>\n",
       "      <td>0.0</td>\n",
       "      <td>0.0</td>\n",
       "    </tr>\n",
       "    <tr>\n",
       "      <th>missed95</th>\n",
       "      <td>0.0</td>\n",
       "      <td>0.0</td>\n",
       "      <td>0.0</td>\n",
       "      <td>0.0</td>\n",
       "      <td>0.0</td>\n",
       "      <td>0.0</td>\n",
       "      <td>39864.0</td>\n",
       "      <td>0.0</td>\n",
       "      <td>0.0</td>\n",
       "      <td>NaN</td>\n",
       "      <td>...</td>\n",
       "      <td>0.0</td>\n",
       "      <td>0.0</td>\n",
       "      <td>0.0</td>\n",
       "      <td>0.0</td>\n",
       "      <td>0.0</td>\n",
       "      <td>0.0</td>\n",
       "      <td>0.0</td>\n",
       "      <td>0.0</td>\n",
       "      <td>0.0</td>\n",
       "      <td>0.0</td>\n",
       "    </tr>\n",
       "    <tr>\n",
       "      <th>missed96</th>\n",
       "      <td>0.0</td>\n",
       "      <td>0.0</td>\n",
       "      <td>NaN</td>\n",
       "      <td>0.0</td>\n",
       "      <td>0.0</td>\n",
       "      <td>0.0</td>\n",
       "      <td>0.0</td>\n",
       "      <td>0.0</td>\n",
       "      <td>0.0</td>\n",
       "      <td>NaN</td>\n",
       "      <td>...</td>\n",
       "      <td>0.0</td>\n",
       "      <td>0.0</td>\n",
       "      <td>0.0</td>\n",
       "      <td>0.0</td>\n",
       "      <td>0.0</td>\n",
       "      <td>0.0</td>\n",
       "      <td>0.0</td>\n",
       "      <td>0.0</td>\n",
       "      <td>0.0</td>\n",
       "      <td>0.0</td>\n",
       "    </tr>\n",
       "    <tr>\n",
       "      <th>missed97</th>\n",
       "      <td>0.0</td>\n",
       "      <td>1.0</td>\n",
       "      <td>NaN</td>\n",
       "      <td>0.0</td>\n",
       "      <td>0.0</td>\n",
       "      <td>0.0</td>\n",
       "      <td>0.0</td>\n",
       "      <td>0.0</td>\n",
       "      <td>0.0</td>\n",
       "      <td>NaN</td>\n",
       "      <td>...</td>\n",
       "      <td>0.0</td>\n",
       "      <td>0.0</td>\n",
       "      <td>0.0</td>\n",
       "      <td>0.0</td>\n",
       "      <td>0.0</td>\n",
       "      <td>0.0</td>\n",
       "      <td>0.0</td>\n",
       "      <td>0.0</td>\n",
       "      <td>0.0</td>\n",
       "      <td>0.0</td>\n",
       "    </tr>\n",
       "    <tr>\n",
       "      <th>missed98</th>\n",
       "      <td>0.0</td>\n",
       "      <td>0.0</td>\n",
       "      <td>NaN</td>\n",
       "      <td>0.0</td>\n",
       "      <td>0.0</td>\n",
       "      <td>0.0</td>\n",
       "      <td>0.0</td>\n",
       "      <td>0.0</td>\n",
       "      <td>0.0</td>\n",
       "      <td>NaN</td>\n",
       "      <td>...</td>\n",
       "      <td>0.0</td>\n",
       "      <td>0.0</td>\n",
       "      <td>0.0</td>\n",
       "      <td>0.0</td>\n",
       "      <td>0.0</td>\n",
       "      <td>0.0</td>\n",
       "      <td>0.0</td>\n",
       "      <td>0.0</td>\n",
       "      <td>0.0</td>\n",
       "      <td>0.0</td>\n",
       "    </tr>\n",
       "    <tr>\n",
       "      <th>missed99</th>\n",
       "      <td>0.0</td>\n",
       "      <td>0.0</td>\n",
       "      <td>NaN</td>\n",
       "      <td>0.0</td>\n",
       "      <td>0.0</td>\n",
       "      <td>0.0</td>\n",
       "      <td>0.0</td>\n",
       "      <td>0.0</td>\n",
       "      <td>0.0</td>\n",
       "      <td>NaN</td>\n",
       "      <td>...</td>\n",
       "      <td>0.0</td>\n",
       "      <td>0.0</td>\n",
       "      <td>0.0</td>\n",
       "      <td>0.0</td>\n",
       "      <td>0.0</td>\n",
       "      <td>0.0</td>\n",
       "      <td>0.0</td>\n",
       "      <td>0.0</td>\n",
       "      <td>0.0</td>\n",
       "      <td>0.0</td>\n",
       "    </tr>\n",
       "    <tr>\n",
       "      <th>missed1400</th>\n",
       "      <td>0.0</td>\n",
       "      <td>37988.0</td>\n",
       "      <td>NaN</td>\n",
       "      <td>0.0</td>\n",
       "      <td>0.0</td>\n",
       "      <td>0.0</td>\n",
       "      <td>0.0</td>\n",
       "      <td>0.0</td>\n",
       "      <td>0.0</td>\n",
       "      <td>NaN</td>\n",
       "      <td>...</td>\n",
       "      <td>0.0</td>\n",
       "      <td>0.0</td>\n",
       "      <td>0.0</td>\n",
       "      <td>0.0</td>\n",
       "      <td>0.0</td>\n",
       "      <td>0.0</td>\n",
       "      <td>0.0</td>\n",
       "      <td>0.0</td>\n",
       "      <td>0.0</td>\n",
       "      <td>0.0</td>\n",
       "    </tr>\n",
       "    <tr>\n",
       "      <th>missed1401</th>\n",
       "      <td>0.0</td>\n",
       "      <td>37951.0</td>\n",
       "      <td>NaN</td>\n",
       "      <td>0.0</td>\n",
       "      <td>0.0</td>\n",
       "      <td>0.0</td>\n",
       "      <td>0.0</td>\n",
       "      <td>0.0</td>\n",
       "      <td>0.0</td>\n",
       "      <td>NaN</td>\n",
       "      <td>...</td>\n",
       "      <td>0.0</td>\n",
       "      <td>0.0</td>\n",
       "      <td>0.0</td>\n",
       "      <td>0.0</td>\n",
       "      <td>0.0</td>\n",
       "      <td>0.0</td>\n",
       "      <td>0.0</td>\n",
       "      <td>0.0</td>\n",
       "      <td>0.0</td>\n",
       "      <td>0.0</td>\n",
       "    </tr>\n",
       "    <tr>\n",
       "      <th>missed1402</th>\n",
       "      <td>0.0</td>\n",
       "      <td>37883.0</td>\n",
       "      <td>NaN</td>\n",
       "      <td>0.0</td>\n",
       "      <td>0.0</td>\n",
       "      <td>0.0</td>\n",
       "      <td>0.0</td>\n",
       "      <td>0.0</td>\n",
       "      <td>0.0</td>\n",
       "      <td>NaN</td>\n",
       "      <td>...</td>\n",
       "      <td>0.0</td>\n",
       "      <td>0.0</td>\n",
       "      <td>0.0</td>\n",
       "      <td>0.0</td>\n",
       "      <td>0.0</td>\n",
       "      <td>0.0</td>\n",
       "      <td>0.0</td>\n",
       "      <td>0.0</td>\n",
       "      <td>0.0</td>\n",
       "      <td>0.0</td>\n",
       "    </tr>\n",
       "    <tr>\n",
       "      <th>missed1403</th>\n",
       "      <td>0.0</td>\n",
       "      <td>37505.0</td>\n",
       "      <td>NaN</td>\n",
       "      <td>0.0</td>\n",
       "      <td>0.0</td>\n",
       "      <td>0.0</td>\n",
       "      <td>0.0</td>\n",
       "      <td>0.0</td>\n",
       "      <td>0.0</td>\n",
       "      <td>NaN</td>\n",
       "      <td>...</td>\n",
       "      <td>0.0</td>\n",
       "      <td>0.0</td>\n",
       "      <td>0.0</td>\n",
       "      <td>0.0</td>\n",
       "      <td>0.0</td>\n",
       "      <td>0.0</td>\n",
       "      <td>0.0</td>\n",
       "      <td>0.0</td>\n",
       "      <td>0.0</td>\n",
       "      <td>0.0</td>\n",
       "    </tr>\n",
       "  </tbody>\n",
       "</table>\n",
       "<p>15 rows × 105 columns</p>\n",
       "</div>"
      ],
      "text/plain": [
       "col        HHID    month head_job household_type region quarter   weight  \\\n",
       "missed89      0        0        0              0      0       0    38950   \n",
       "missed90      0        1        4              0      0       0    40011   \n",
       "missed91    0.0      0.0      0.0            0.0    0.0     0.0  40007.0   \n",
       "missed92    0.0     12.0   1549.0            0.0    0.0     0.0  39864.0   \n",
       "missed93    0.0      0.0      0.0            0.0    0.0     0.0  39856.0   \n",
       "missed94    0.0      0.0      0.0            0.0    0.0     0.0  39857.0   \n",
       "missed95    0.0      0.0      0.0            0.0    0.0     0.0  39864.0   \n",
       "missed96    0.0      0.0      NaN            0.0    0.0     0.0      0.0   \n",
       "missed97    0.0      1.0      NaN            0.0    0.0     0.0      0.0   \n",
       "missed98    0.0      0.0      NaN            0.0    0.0     0.0      0.0   \n",
       "missed99    0.0      0.0      NaN            0.0    0.0     0.0      0.0   \n",
       "missed1400  0.0  37988.0      NaN            0.0    0.0     0.0      0.0   \n",
       "missed1401  0.0  37951.0      NaN            0.0    0.0     0.0      0.0   \n",
       "missed1402  0.0  37883.0      NaN            0.0    0.0     0.0      0.0   \n",
       "missed1403  0.0  37505.0      NaN            0.0    0.0     0.0      0.0   \n",
       "\n",
       "col        county_code province_code county89  ... ClothesExtraExp  \\\n",
       "missed89           665             0      665  ...               0   \n",
       "missed90          1498             0     1498  ...               0   \n",
       "missed91        1815.0           0.0      NaN  ...             0.0   \n",
       "missed92           0.0           0.0      NaN  ...             0.0   \n",
       "missed93           0.0           0.0      NaN  ...             0.0   \n",
       "missed94           0.0           0.0      NaN  ...             0.0   \n",
       "missed95           0.0           0.0      NaN  ...             0.0   \n",
       "missed96           0.0           0.0      NaN  ...             0.0   \n",
       "missed97           0.0           0.0      NaN  ...             0.0   \n",
       "missed98           0.0           0.0      NaN  ...             0.0   \n",
       "missed99           0.0           0.0      NaN  ...             0.0   \n",
       "missed1400         0.0           0.0      NaN  ...             0.0   \n",
       "missed1401         0.0           0.0      NaN  ...             0.0   \n",
       "missed1402         0.0           0.0      NaN  ...             0.0   \n",
       "missed1403         0.0           0.0      NaN  ...             0.0   \n",
       "\n",
       "col        HousingMaintainExp FurniExtraExp MedicalExtraExp  \\\n",
       "missed89                    0             0               0   \n",
       "missed90                    0             0               0   \n",
       "missed91                  0.0           0.0             0.0   \n",
       "missed92                  0.0           0.0             0.0   \n",
       "missed93                  0.0           0.0             0.0   \n",
       "missed94                  0.0           0.0             0.0   \n",
       "missed95                  0.0           0.0             0.0   \n",
       "missed96                  0.0           0.0             0.0   \n",
       "missed97                  0.0           0.0             0.0   \n",
       "missed98                  0.0           0.0             0.0   \n",
       "missed99                  0.0           0.0             0.0   \n",
       "missed1400                0.0           0.0             0.0   \n",
       "missed1401                0.0           0.0             0.0   \n",
       "missed1402                0.0           0.0             0.0   \n",
       "missed1403                0.0           0.0             0.0   \n",
       "\n",
       "col        TransportationExtraExp CommunicationExtraExp AmusementExtraExp  \\\n",
       "missed89                        0                     0                 0   \n",
       "missed90                        0                     0                 0   \n",
       "missed91                      0.0                   0.0               0.0   \n",
       "missed92                      0.0                   0.0               0.0   \n",
       "missed93                      0.0                   0.0               0.0   \n",
       "missed94                      0.0                   0.0               0.0   \n",
       "missed95                      0.0                   0.0               0.0   \n",
       "missed96                      0.0                   0.0               0.0   \n",
       "missed97                      0.0                   0.0               0.0   \n",
       "missed98                      0.0                   0.0               0.0   \n",
       "missed99                      0.0                   0.0               0.0   \n",
       "missed1400                    0.0                   0.0               0.0   \n",
       "missed1401                    0.0                   0.0               0.0   \n",
       "missed1402                    0.0                   0.0               0.0   \n",
       "missed1403                    0.0                   0.0               0.0   \n",
       "\n",
       "col        EducationExp OtherExtraExp year  \n",
       "missed89              0             0    0  \n",
       "missed90              0             0    0  \n",
       "missed91            0.0           0.0  0.0  \n",
       "missed92            0.0           0.0  0.0  \n",
       "missed93            0.0           0.0  0.0  \n",
       "missed94            0.0           0.0  0.0  \n",
       "missed95            0.0           0.0  0.0  \n",
       "missed96            0.0           0.0  0.0  \n",
       "missed97            0.0           0.0  0.0  \n",
       "missed98            0.0           0.0  0.0  \n",
       "missed99            0.0           0.0  0.0  \n",
       "missed1400          0.0           0.0  0.0  \n",
       "missed1401          0.0           0.0  0.0  \n",
       "missed1402          0.0           0.0  0.0  \n",
       "missed1403          0.0           0.0  0.0  \n",
       "\n",
       "[15 rows x 105 columns]"
      ]
     },
     "execution_count": 13,
     "metadata": {},
     "output_type": "execute_result"
    }
   ],
   "source": [
    "meta_data = pd.read_pickle(\"meta_data\")\n",
    "meta = meta_data.set_index(meta_data[\"col\"]).transpose()\n",
    "meta = meta.iloc[1:,:]\n",
    "meta"
   ]
  },
  {
   "cell_type": "code",
   "execution_count": 14,
   "id": "9a445568",
   "metadata": {},
   "outputs": [
    {
     "name": "stdout",
     "output_type": "stream",
     "text": [
      "['HHID', 'month', 'household_type', 'region', 'quarter', 'weight', 'county_code', 'province_code', 'province', 'HHsize', 'AveAge', 'NumChild_U5', 'NumChild_B5_7', 'NumChild_B7_18', 'NumChildOver18', 'HeadWoman', 'Dep_Student', 'Num_Literate', 'NumSpouse', 'NumEmployed', 'NumOld', 'NumMale', 'NumNotfirstR', 'Tenure', 'Room', 'Area', 'Skeleton', 'MainMaterial', 'PrivateVehicle', 'Motorcycle', 'Bike', 'Radio', 'Cassette', 'TVbw', 'TV', 'VideoPlayer', 'Computer', 'Cellphone', 'Freezer', 'Refrigerator', 'Freez_refrig', 'Vacuum', 'Washer', 'Sewing', 'Fan', 'Cooler_water_portable', 'Cooler_gas_portable', 'Dishwasher', 'None', 'Pipewater', 'Electricity', 'Pipegas', 'Phone', 'Internet', 'Bathroom', 'Kitchen', 'Cooler_water', 'Centralcooler', 'Centralheat', 'Pakage', 'Cooler_gas', 'Sewer_network', 'Cookfuel', 'Heatfuel', 'Hotwaterfuel', 'FoodExp', 'CigarExp', 'NonCatDrinksExp', 'ClothExp', 'InvestExp', 'FurnitureExp', 'MedicalExp', 'TransportationExp', 'CommunicationExp', 'AmusementExp', 'RestaurantExp', 'HotelExp', 'OtherExp', 'RentExp', 'EstRent_ownerExp', 'EstRentExp', 'MortgageExp', 'WaterExp', 'Water_otherExp', 'SewageExp', 'OtherHousingExp', 'ElectricityExp', 'ElectricityOtherExp', 'NaturalGasExp', 'NaturalGasOtherExp', 'OtherEnergyReExp', 'ClothesExtraExp', 'HousingMaintainExp', 'FurniExtraExp', 'MedicalExtraExp', 'TransportationExtraExp', 'CommunicationExtraExp', 'AmusementExtraExp', 'EducationExp', 'OtherExtraExp', 'year']\n"
     ]
    }
   ],
   "source": [
    "list_cols = []\n",
    "for col in meta.columns:\n",
    "    if meta[col].isna().sum() == 0:\n",
    "        list_cols.append(col)\n",
    "\n",
    "print(list_cols)"
   ]
  },
  {
   "cell_type": "code",
   "execution_count": 15,
   "id": "037c7566",
   "metadata": {},
   "outputs": [
    {
     "data": {
      "text/plain": [
       "101"
      ]
     },
     "execution_count": 15,
     "metadata": {},
     "output_type": "execute_result"
    }
   ],
   "source": [
    "len(list_cols)"
   ]
  },
  {
   "cell_type": "code",
   "execution_count": 21,
   "id": "ae8f3164",
   "metadata": {},
   "outputs": [
    {
     "name": "stdout",
     "output_type": "stream",
     "text": [
      "(582543, 101)\n",
      "True\n"
     ]
    }
   ],
   "source": [
    "merged = pd.read_pickle(r\"C:\\Users\\Mahsa\\Desktop\\geo\\merged\\Merged_89\")\n",
    "merged = merged.loc[:, list_cols]\n",
    "years = list(range(90, 99))+ [99] + list(range(1400, 1404))\n",
    "\n",
    "for year in years:\n",
    "    df = pd.read_pickle(fr\"C:\\Users\\Mahsa\\Desktop\\geo\\merged\\Merged_{year}\")\n",
    "    df = df.loc[:, list_cols]\n",
    "    merged = pd.concat([merged, df], axis=0)\n",
    "    \n",
    "full_rows = pd.Series([\n",
    "    38950,\n",
    "    40011,\n",
    "    40007,\n",
    "    39864,\n",
    "    39856,\n",
    "    39857,\n",
    "    39864,\n",
    "    37962,\n",
    "    38960,\n",
    "    38328,\n",
    "    37557,\n",
    "    37988,\n",
    "    37951,\n",
    "    37883,\n",
    "    37505\n",
    "])\n",
    "print(merged.shape)\n",
    "print(full_rows.sum()==merged.shape[0])"
   ]
  },
  {
   "cell_type": "code",
   "execution_count": 22,
   "id": "2ab4c0eb",
   "metadata": {},
   "outputs": [
    {
     "data": {
      "application/vnd.microsoft.datawrangler.viewer.v0+json": {
       "columns": [
        {
         "name": "index",
         "rawType": "int64",
         "type": "integer"
        },
        {
         "name": "region",
         "rawType": "object",
         "type": "string"
        }
       ],
       "ref": "dcba4f73-eacc-4e8e-b3f4-2732768777d2",
       "rows": [
        [
         "0",
         "Rural"
        ],
        [
         "1",
         "Rural"
        ],
        [
         "2",
         "Rural"
        ],
        [
         "3",
         "Rural"
        ],
        [
         "4",
         "Rural"
        ],
        [
         "5",
         "Rural"
        ],
        [
         "6",
         "Rural"
        ],
        [
         "7",
         "Rural"
        ],
        [
         "8",
         "Rural"
        ],
        [
         "9",
         "Rural"
        ],
        [
         "10",
         "Rural"
        ],
        [
         "11",
         "Rural"
        ],
        [
         "12",
         "Rural"
        ],
        [
         "13",
         "Rural"
        ],
        [
         "14",
         "Rural"
        ],
        [
         "15",
         "Rural"
        ],
        [
         "16",
         "Rural"
        ],
        [
         "17",
         "Rural"
        ],
        [
         "18",
         "Rural"
        ],
        [
         "19",
         "Rural"
        ],
        [
         "20",
         "Rural"
        ],
        [
         "21",
         "Rural"
        ],
        [
         "22",
         "Rural"
        ],
        [
         "23",
         "Rural"
        ],
        [
         "24",
         "Rural"
        ],
        [
         "25",
         "Rural"
        ],
        [
         "26",
         "Rural"
        ],
        [
         "27",
         "Rural"
        ],
        [
         "28",
         "Rural"
        ],
        [
         "29",
         "Rural"
        ],
        [
         "30",
         "Rural"
        ],
        [
         "31",
         "Rural"
        ],
        [
         "32",
         "Rural"
        ],
        [
         "33",
         "Rural"
        ],
        [
         "34",
         "Rural"
        ],
        [
         "35",
         "Rural"
        ],
        [
         "36",
         "Rural"
        ],
        [
         "37",
         "Rural"
        ],
        [
         "38",
         "Rural"
        ],
        [
         "39",
         "Rural"
        ],
        [
         "40",
         "Rural"
        ],
        [
         "41",
         "Rural"
        ],
        [
         "42",
         "Rural"
        ],
        [
         "43",
         "Rural"
        ],
        [
         "44",
         "Rural"
        ],
        [
         "45",
         "Rural"
        ],
        [
         "46",
         "Rural"
        ],
        [
         "47",
         "Rural"
        ],
        [
         "48",
         "Rural"
        ],
        [
         "49",
         "Rural"
        ]
       ],
       "shape": {
        "columns": 1,
        "rows": 582543
       }
      },
      "text/plain": [
       "0        Rural\n",
       "1        Rural\n",
       "2        Rural\n",
       "3        Rural\n",
       "4        Rural\n",
       "         ...  \n",
       "37500    Urban\n",
       "37501    Urban\n",
       "37502    Urban\n",
       "37503    Urban\n",
       "37504    Urban\n",
       "Name: region, Length: 582543, dtype: object"
      ]
     },
     "execution_count": 22,
     "metadata": {},
     "output_type": "execute_result"
    }
   ],
   "source": [
    "merged[\"region\"]"
   ]
  },
  {
   "cell_type": "code",
   "execution_count": 23,
   "id": "75baee5e",
   "metadata": {},
   "outputs": [],
   "source": [
    "exps = [\n",
    "    'FoodExp', 'CigarExp', 'NonCatDrinksExp', 'ClothExp',\n",
    "    'InvestExp', 'FurnitureExp', 'MedicalExp', 'TransportationExp',\n",
    "    'CommunicationExp', 'AmusementExp', 'RestaurantExp', 'HotelExp',\n",
    "    'OtherExp', 'RentExp', 'EstRent_ownerExp', 'EstRentExp', 'MortgageExp', 'WaterExp',\n",
    "    'Water_otherExp', 'SewageExp', 'OtherHousingExp', 'ElectricityExp',\n",
    "    'ElectricityOtherExp', 'NaturalGasExp', 'NaturalGasOtherExp',\n",
    "    'OtherEnergyReExp', 'ClothesExtraExp', 'HousingMaintainExp',\n",
    "    'FurniExtraExp', 'MedicalExtraExp', 'TransportationExtraExp',\n",
    "    'CommunicationExtraExp', 'AmusementExtraExp', 'EducationExp',\n",
    "    'OtherExtraExp'\n",
    "]\n",
    "merged[exps] = merged[exps].fillna(0)\n",
    "merged[\"all_expenditure\"] = (\n",
    "    merged[\"FoodExp\"]+\n",
    "    merged[\"CigarExp\"]+\n",
    "    merged[\"NonCatDrinksExp\"]+\n",
    "    merged[\"ClothExp\"]+\n",
    "    #merged[\"InvestExp\"]+\n",
    "    merged[\"FurnitureExp\"]+\n",
    "    merged[\"MedicalExp\"]+\n",
    "    merged[\"TransportationExp\"]+\n",
    "    merged[\"CommunicationExp\"]+\n",
    "    merged[\"AmusementExp\"]+\n",
    "    merged[\"RestaurantExp\"]+\n",
    "    merged[\"HotelExp\"]+\n",
    "    merged[\"OtherExp\"]+\n",
    "    merged[\"RentExp\"]+\n",
    "    merged[\"EstRent_ownerExp\"]+\n",
    "    merged[\"EstRentExp\"]+\n",
    "    #merged[\"MortgageExp\"]+\n",
    "    merged[\"WaterExp\"]+\n",
    "    merged[\"Water_otherExp\"]+\n",
    "    merged[\"SewageExp\"]+\n",
    "    merged[\"OtherHousingExp\"]+\n",
    "    merged[\"ElectricityExp\"]+\n",
    "    merged[\"ElectricityOtherExp\"]+\n",
    "    merged[\"NaturalGasExp\"]+\n",
    "    merged[\"NaturalGasOtherExp\"]+\n",
    "    merged[\"OtherEnergyReExp\"]+\n",
    "    merged[\"ClothesExtraExp\"]+\n",
    "    merged[\"HousingMaintainExp\"]+\n",
    "    merged[\"FurniExtraExp\"]+\n",
    "    merged[\"MedicalExtraExp\"]+\n",
    "    merged[\"TransportationExtraExp\"]+\n",
    "    merged[\"CommunicationExtraExp\"]+\n",
    "    merged[\"AmusementExtraExp\"]+\n",
    "    merged[\"EducationExp\"]+\n",
    "    merged[\"OtherExtraExp\"]\n",
    ")\n",
    "\n",
    "merged.to_pickle(\"merged\")"
   ]
  },
  {
   "cell_type": "code",
   "execution_count": null,
   "id": "d6b7a612",
   "metadata": {},
   "outputs": [],
   "source": [
    "cols = [\n",
    "    #'HHID', 'month', 'household_type', 'quarter', 'NumChild_U5', 'NumChild_B5_7', 'NumChild_B7_18', 'NumChildOver18', 'NumOld', 'year',\n",
    "    'region', 'weight', 'county_code', 'province_code', 'province', 'HHsize', 'AveAge', 'HeadWoman', 'Dep_Student', 'Num_Literate', 'NumSpouse', 'NumEmployed', \n",
    "    'NumMale', 'NumNotfirstR', 'Tenure', 'Room', 'Area', 'Skeleton', 'MainMaterial', 'PrivateVehicle', 'Motorcycle', 'Bike', 'Radio', 'Cassette', 'TVbw', 'TV', \n",
    "    'VideoPlayer', 'Computer', 'Cellphone', 'Freezer', 'Refrigerator', 'Freez_refrig', 'Vacuum', 'Washer', 'Sewing', 'Fan', 'Cooler_water_portable', \n",
    "    'Cooler_gas_portable', 'Dishwasher', 'None', 'Pipewater', 'Electricity', 'Pipegas', 'Phone', 'Internet', 'Bathroom', 'Kitchen', 'Cooler_water', \n",
    "    'Centralcooler', 'Centralheat', 'Pakage', 'Cooler_gas', 'Sewer_network', 'Cookfuel', 'Heatfuel', 'Hotwaterfuel' \n",
    "    #'FoodExp', 'CigarExp', 'NonCatDrinksExp', 'ClothExp', 'InvestExp', 'FurnitureExp', 'MedicalExp', 'TransportationExp', 'CommunicationExp', \n",
    "    #'AmusementExp', 'RestaurantExp', 'HotelExp', 'OtherExp', 'RentExp', 'EstRent_ownerExp', 'EstRentExp', 'MortgageExp', 'WaterExp', 'Water_otherExp', \n",
    "    #'SewageExp', 'OtherHousingExp', 'ElectricityExp', 'ElectricityOtherExp', 'NaturalGasExp', 'NaturalGasOtherExp', 'OtherEnergyReExp', 'ClothesExtraExp', \n",
    "    #'HousingMaintainExp', 'FurniExtraExp', 'MedicalExtraExp', 'TransportationExtraExp', 'CommunicationExtraExp', 'AmusementExtraExp', 'EducationExp','OtherExtraExp'\n",
    "]\n",
    "#merged['AveAge'] = merged['AveAge'].fillna(merged.groupby('HHID')['AveAge'].transform('first')+(year - merged.groupby('HHID')[\"year\"].transform('last')))\n",
    "merged = merged.loc[merged[\"HHID\"].str.len().isin([10,11]), :]\n",
    "for col in cols:\n",
    "    merged[col] = merged[col].fillna(merged.groupby('HHID')[col].transform('first'))\n",
    "print(merged.columns)\n",
    "merged.head()"
   ]
  },
  {
   "cell_type": "code",
   "execution_count": null,
   "id": "92c6bb42",
   "metadata": {},
   "outputs": [],
   "source": []
  },
  {
   "cell_type": "code",
   "execution_count": null,
   "id": "12797171",
   "metadata": {},
   "outputs": [
    {
     "name": "stdout",
     "output_type": "stream",
     "text": [
      "True\n",
      "True\n"
     ]
    }
   ],
   "source": []
  },
  {
   "cell_type": "code",
   "execution_count": 164,
   "id": "bb9a9be4",
   "metadata": {},
   "outputs": [
    {
     "data": {
      "application/vnd.microsoft.datawrangler.viewer.v0+json": {
       "columns": [
        {
         "name": "index",
         "rawType": "object",
         "type": "string"
        },
        {
         "name": "0",
         "rawType": "int64",
         "type": "integer"
        }
       ],
       "ref": "9ada2deb-3835-465a-a8cc-a24b319a9737",
       "rows": [
        [
         "HHID",
         "0"
        ],
        [
         "month",
         "113835"
        ],
        [
         "household_type",
         "0"
        ],
        [
         "region",
         "0"
        ],
        [
         "quarter",
         "0"
        ],
        [
         "weight",
         "10429"
        ],
        [
         "county_code",
         "1865"
        ],
        [
         "province_code",
         "0"
        ],
        [
         "province",
         "0"
        ],
        [
         "HHsize",
         "4356"
        ],
        [
         "AveAge",
         "4356"
        ],
        [
         "NumChild_U5",
         "4356"
        ],
        [
         "NumChild_B5_7",
         "4356"
        ],
        [
         "NumChild_B7_18",
         "4356"
        ],
        [
         "NumChildOver18",
         "4356"
        ],
        [
         "HeadWoman",
         "4356"
        ],
        [
         "Dep_Student",
         "4356"
        ],
        [
         "Num_Literate",
         "4356"
        ],
        [
         "NumSpouse",
         "4356"
        ],
        [
         "NumEmployed",
         "4356"
        ],
        [
         "NumOld",
         "4356"
        ],
        [
         "NumMale",
         "4356"
        ],
        [
         "NumNotfirstR",
         "4356"
        ],
        [
         "Tenure",
         "4361"
        ],
        [
         "Room",
         "2487"
        ],
        [
         "Area",
         "2478"
        ],
        [
         "Skeleton",
         "4361"
        ],
        [
         "MainMaterial",
         "117381"
        ],
        [
         "PrivateVehicle",
         "1699"
        ],
        [
         "Motorcycle",
         "1699"
        ],
        [
         "Bike",
         "1699"
        ],
        [
         "Radio",
         "1699"
        ],
        [
         "Cassette",
         "1699"
        ],
        [
         "TVbw",
         "1699"
        ],
        [
         "TV",
         "1699"
        ],
        [
         "VideoPlayer",
         "1699"
        ],
        [
         "Computer",
         "1699"
        ],
        [
         "Cellphone",
         "1699"
        ],
        [
         "Freezer",
         "1699"
        ],
        [
         "Refrigerator",
         "1699"
        ],
        [
         "Freez_refrig",
         "1699"
        ],
        [
         "Vacuum",
         "1699"
        ],
        [
         "Washer",
         "1699"
        ],
        [
         "Sewing",
         "1699"
        ],
        [
         "Fan",
         "1699"
        ],
        [
         "Cooler_water_portable",
         "1699"
        ],
        [
         "Cooler_gas_portable",
         "1699"
        ],
        [
         "Dishwasher",
         "1699"
        ],
        [
         "None",
         "1699"
        ],
        [
         "Pipewater",
         "1699"
        ]
       ],
       "shape": {
        "columns": 1,
        "rows": 105
       }
      },
      "text/plain": [
       "HHID                    0\n",
       "month              113835\n",
       "household_type          0\n",
       "region                  0\n",
       "quarter                 0\n",
       "                    ...  \n",
       "year                    0\n",
       "all_expenditure         0\n",
       "all_energy_EXP          0\n",
       "energy_Ratio        10429\n",
       "Weight             277058\n",
       "Length: 105, dtype: int64"
      ]
     },
     "execution_count": 164,
     "metadata": {},
     "output_type": "execute_result"
    }
   ],
   "source": [
    "#merged = pd.read_pickle(\"merged\")\n",
    "merged.isna().sum()"
   ]
  },
  {
   "cell_type": "code",
   "execution_count": 154,
   "id": "a03f6fbe",
   "metadata": {},
   "outputs": [
    {
     "name": "stdout",
     "output_type": "stream",
     "text": [
      "545037\n",
      "309193\n"
     ]
    },
    {
     "data": {
      "text/plain": [
       "0"
      ]
     },
     "execution_count": 154,
     "metadata": {},
     "output_type": "execute_result"
    }
   ],
   "source": [
    "print(merged.shape[0])\n",
    "print(merged[\"HHID\"].nunique())\n",
    "\n",
    "merged.duplicated(subset=[\"HHID\",\"year\"]).sum()"
   ]
  },
  {
   "cell_type": "code",
   "execution_count": 155,
   "id": "7fee0606",
   "metadata": {},
   "outputs": [
    {
     "data": {
      "application/vnd.microsoft.datawrangler.viewer.v0+json": {
       "columns": [
        {
         "name": "index",
         "rawType": "int64",
         "type": "integer"
        },
        {
         "name": "HHID",
         "rawType": "object",
         "type": "string"
        },
        {
         "name": "year",
         "rawType": "object",
         "type": "unknown"
        }
       ],
       "ref": "89094a66-3381-4e9b-889e-cce0e8372f5f",
       "rows": [
        [
         "0",
         "1000001171",
         "[89]"
        ],
        [
         "1",
         "1000001172",
         "[89, 90]"
        ],
        [
         "2",
         "1000001177",
         "[89, 90, 91]"
        ],
        [
         "3",
         "1000001180",
         "[89, 90, 91]"
        ],
        [
         "4",
         "1000001181",
         "[89, 90, 91]"
        ],
        [
         "5",
         "1000001184",
         "[90, 91]"
        ],
        [
         "6",
         "1000001188",
         "[91]"
        ],
        [
         "7",
         "1000002113",
         "[89]"
        ],
        [
         "8",
         "1000002116",
         "[89, 90]"
        ],
        [
         "9",
         "1000002119",
         "[89, 90, 91]"
        ],
        [
         "10",
         "1000002124",
         "[89, 90, 91]"
        ],
        [
         "11",
         "1000002126",
         "[91]"
        ],
        [
         "12",
         "1000002127",
         "[89, 90]"
        ],
        [
         "13",
         "1000002130",
         "[90, 91]"
        ],
        [
         "14",
         "1000002131",
         "[91]"
        ],
        [
         "15",
         "1000003140",
         "[89]"
        ],
        [
         "16",
         "1000003143",
         "[89, 90]"
        ],
        [
         "17",
         "1000003145",
         "[89, 90, 91]"
        ],
        [
         "18",
         "1000003150",
         "[89, 90, 91]"
        ],
        [
         "19",
         "1000003153",
         "[89, 90, 91]"
        ],
        [
         "20",
         "1000003156",
         "[90, 91]"
        ],
        [
         "21",
         "1000003159",
         "[91]"
        ],
        [
         "22",
         "1000004001",
         "[89]"
        ],
        [
         "23",
         "1000004005",
         "[89, 90]"
        ],
        [
         "24",
         "1000004009",
         "[89, 90, 91]"
        ],
        [
         "25",
         "1000004010",
         "[89, 90, 91]"
        ],
        [
         "26",
         "1000004014",
         "[89, 90, 91]"
        ],
        [
         "27",
         "1000004016",
         "[90, 91]"
        ],
        [
         "28",
         "1000004019",
         "[91]"
        ],
        [
         "29",
         "1000005097",
         "[89]"
        ],
        [
         "30",
         "1000005098",
         "[89, 90]"
        ],
        [
         "31",
         "1000005101",
         "[89, 90, 91]"
        ],
        [
         "32",
         "1000005105",
         "[89, 91]"
        ],
        [
         "33",
         "1000005106",
         "[90]"
        ],
        [
         "34",
         "1000005109",
         "[89, 90, 91]"
        ],
        [
         "35",
         "1000005112",
         "[90, 91]"
        ],
        [
         "36",
         "1000005115",
         "[91]"
        ],
        [
         "37",
         "1000006001",
         "[89]"
        ],
        [
         "38",
         "1000006006",
         "[89, 90]"
        ],
        [
         "39",
         "1000006007",
         "[89, 90, 91]"
        ],
        [
         "40",
         "1000006010",
         "[89, 90, 91]"
        ],
        [
         "41",
         "1000006013",
         "[89, 90, 91]"
        ],
        [
         "42",
         "1000006018",
         "[90, 91]"
        ],
        [
         "43",
         "1000006020",
         "[91]"
        ],
        [
         "44",
         "1000007001",
         "[89]"
        ],
        [
         "45",
         "1000007005",
         "[89, 90]"
        ],
        [
         "46",
         "1000007009",
         "[89, 90, 91]"
        ],
        [
         "47",
         "1000007010",
         "[89, 90]"
        ],
        [
         "48",
         "1000007012",
         "[91]"
        ],
        [
         "49",
         "1000007013",
         "[89, 90]"
        ]
       ],
       "shape": {
        "columns": 2,
        "rows": 309193
       }
      },
      "text/html": [
       "<div>\n",
       "<style scoped>\n",
       "    .dataframe tbody tr th:only-of-type {\n",
       "        vertical-align: middle;\n",
       "    }\n",
       "\n",
       "    .dataframe tbody tr th {\n",
       "        vertical-align: top;\n",
       "    }\n",
       "\n",
       "    .dataframe thead th {\n",
       "        text-align: right;\n",
       "    }\n",
       "</style>\n",
       "<table border=\"1\" class=\"dataframe\">\n",
       "  <thead>\n",
       "    <tr style=\"text-align: right;\">\n",
       "      <th></th>\n",
       "      <th>HHID</th>\n",
       "      <th>year</th>\n",
       "    </tr>\n",
       "  </thead>\n",
       "  <tbody>\n",
       "    <tr>\n",
       "      <th>0</th>\n",
       "      <td>1000001171</td>\n",
       "      <td>[89]</td>\n",
       "    </tr>\n",
       "    <tr>\n",
       "      <th>1</th>\n",
       "      <td>1000001172</td>\n",
       "      <td>[89, 90]</td>\n",
       "    </tr>\n",
       "    <tr>\n",
       "      <th>2</th>\n",
       "      <td>1000001177</td>\n",
       "      <td>[89, 90, 91]</td>\n",
       "    </tr>\n",
       "    <tr>\n",
       "      <th>3</th>\n",
       "      <td>1000001180</td>\n",
       "      <td>[89, 90, 91]</td>\n",
       "    </tr>\n",
       "    <tr>\n",
       "      <th>4</th>\n",
       "      <td>1000001181</td>\n",
       "      <td>[89, 90, 91]</td>\n",
       "    </tr>\n",
       "    <tr>\n",
       "      <th>...</th>\n",
       "      <td>...</td>\n",
       "      <td>...</td>\n",
       "    </tr>\n",
       "    <tr>\n",
       "      <th>309188</th>\n",
       "      <td>23006709838</td>\n",
       "      <td>[1401, 1402]</td>\n",
       "    </tr>\n",
       "    <tr>\n",
       "      <th>309189</th>\n",
       "      <td>23006709840</td>\n",
       "      <td>[1402]</td>\n",
       "    </tr>\n",
       "    <tr>\n",
       "      <th>309190</th>\n",
       "      <td>23006709841</td>\n",
       "      <td>[1401]</td>\n",
       "    </tr>\n",
       "    <tr>\n",
       "      <th>309191</th>\n",
       "      <td>23006709844</td>\n",
       "      <td>[1402]</td>\n",
       "    </tr>\n",
       "    <tr>\n",
       "      <th>309192</th>\n",
       "      <td>23006709847</td>\n",
       "      <td>[1402]</td>\n",
       "    </tr>\n",
       "  </tbody>\n",
       "</table>\n",
       "<p>309193 rows × 2 columns</p>\n",
       "</div>"
      ],
      "text/plain": [
       "               HHID          year\n",
       "0        1000001171          [89]\n",
       "1        1000001172      [89, 90]\n",
       "2        1000001177  [89, 90, 91]\n",
       "3        1000001180  [89, 90, 91]\n",
       "4        1000001181  [89, 90, 91]\n",
       "...             ...           ...\n",
       "309188  23006709838  [1401, 1402]\n",
       "309189  23006709840        [1402]\n",
       "309190  23006709841        [1401]\n",
       "309191  23006709844        [1402]\n",
       "309192  23006709847        [1402]\n",
       "\n",
       "[309193 rows x 2 columns]"
      ]
     },
     "execution_count": 155,
     "metadata": {},
     "output_type": "execute_result"
    }
   ],
   "source": [
    "years_by_hhid = merged.groupby('HHID')['year'].agg(list).reset_index()\n",
    "years_by_hhid"
   ]
  },
  {
   "cell_type": "code",
   "execution_count": 156,
   "id": "72b570b8",
   "metadata": {},
   "outputs": [
    {
     "data": {
      "application/vnd.microsoft.datawrangler.viewer.v0+json": {
       "columns": [
        {
         "name": "index",
         "rawType": "int64",
         "type": "integer"
        },
        {
         "name": "HHID",
         "rawType": "object",
         "type": "string"
        },
        {
         "name": "year",
         "rawType": "object",
         "type": "unknown"
        },
        {
         "name": "num",
         "rawType": "int64",
         "type": "integer"
        }
       ],
       "ref": "f6fdb55d-14cc-480a-94de-c10125ef5826",
       "rows": [
        [
         "800",
         "10001000108",
         "[92, 93, 97, 98]",
         "4"
        ],
        [
         "806",
         "10001000116",
         "[92, 93, 94, 99]",
         "4"
        ],
        [
         "807",
         "10001000117",
         "[93, 94, 97, 98]",
         "4"
        ],
        [
         "810",
         "10001000120",
         "[93, 94, 95, 98, 99, 1400]",
         "6"
        ],
        [
         "811",
         "10001000123",
         "[93, 94, 95, 98, 99]",
         "5"
        ],
        [
         "812",
         "10001000126",
         "[94, 95, 96, 99, 1400, 1401]",
         "6"
        ],
        [
         "817",
         "10001000132",
         "[95, 96, 1400, 1401, 1402]",
         "5"
        ],
        [
         "818",
         "10001000135",
         "[95, 96, 1400, 1401, 1402]",
         "5"
        ],
        [
         "837",
         "10001000216",
         "[92, 93, 94, 99]",
         "4"
        ],
        [
         "840",
         "10001000220",
         "[93, 94, 98, 99, 1400]",
         "5"
        ],
        [
         "842",
         "10001000223",
         "[93, 94, 95, 98]",
         "4"
        ],
        [
         "843",
         "10001000226",
         "[94, 95, 96, 99, 1400, 1401]",
         "6"
        ],
        [
         "844",
         "10001000229",
         "[94, 95, 96, 99]",
         "4"
        ],
        [
         "846",
         "10001000232",
         "[95, 96, 1400, 1401]",
         "4"
        ],
        [
         "847",
         "10001000235",
         "[95, 96, 1400, 1401, 1402]",
         "5"
        ],
        [
         "857",
         "10001000308",
         "[92, 93, 97, 98]",
         "4"
        ],
        [
         "864",
         "10001000317",
         "[94, 97, 98, 99]",
         "4"
        ],
        [
         "866",
         "10001000320",
         "[93, 94, 95, 98]",
         "4"
        ],
        [
         "869",
         "10001000326",
         "[94, 95, 96, 99, 1400, 1401]",
         "6"
        ],
        [
         "871",
         "10001000329",
         "[94, 95, 99, 1400, 1401]",
         "5"
        ],
        [
         "872",
         "10001000332",
         "[95, 1400, 1401, 1402]",
         "4"
        ],
        [
         "884",
         "10001000408",
         "[92, 93, 97, 98]",
         "4"
        ],
        [
         "888",
         "10001000414",
         "[93, 94, 97, 98, 99]",
         "5"
        ],
        [
         "890",
         "10001000417",
         "[94, 97, 98, 99]",
         "4"
        ],
        [
         "891",
         "10001000420",
         "[93, 94, 98, 99, 1400]",
         "5"
        ],
        [
         "893",
         "10001000423",
         "[93, 94, 95, 98, 99, 1400]",
         "6"
        ],
        [
         "895",
         "10001000426",
         "[94, 95, 96, 99, 1400, 1401]",
         "6"
        ],
        [
         "896",
         "10001000429",
         "[94, 95, 96, 99]",
         "4"
        ],
        [
         "898",
         "10001000432",
         "[95, 1400, 1401, 1402]",
         "4"
        ],
        [
         "900",
         "10001000435",
         "[95, 96, 1400, 1401]",
         "4"
        ],
        [
         "909",
         "10001000508",
         "[92, 93, 97, 98]",
         "4"
        ],
        [
         "921",
         "10001000523",
         "[93, 94, 95, 99]",
         "4"
        ],
        [
         "925",
         "10001000529",
         "[94, 95, 96, 99]",
         "4"
        ],
        [
         "946",
         "10001000613",
         "[92, 93, 94, 98, 99]",
         "5"
        ],
        [
         "952",
         "10001000620",
         "[93, 94, 98, 99]",
         "4"
        ],
        [
         "955",
         "10001000623",
         "[93, 94, 95, 98]",
         "4"
        ],
        [
         "961",
         "10001000632",
         "[95, 96, 1400, 1401, 1402]",
         "5"
        ],
        [
         "963",
         "10001000635",
         "[95, 96, 1400, 1401]",
         "4"
        ],
        [
         "981",
         "10001000720",
         "[93, 94, 95, 98, 99, 1400]",
         "6"
        ],
        [
         "982",
         "10001000723",
         "[93, 94, 95, 98, 99, 1400]",
         "6"
        ],
        [
         "983",
         "10001000726",
         "[94, 95, 96, 99, 1400, 1401]",
         "6"
        ],
        [
         "985",
         "10001000729",
         "[94, 99, 1400, 1401]",
         "4"
        ],
        [
         "987",
         "10001000732",
         "[95, 96, 1400, 1401]",
         "4"
        ],
        [
         "1023",
         "10001000916",
         "[92, 93, 94, 98, 99]",
         "5"
        ],
        [
         "1028",
         "10001000923",
         "[93, 94, 95, 98, 99, 1400]",
         "6"
        ],
        [
         "1029",
         "10001000926",
         "[94, 99, 1400, 1401]",
         "4"
        ],
        [
         "1030",
         "10001000929",
         "[94, 95, 96, 99, 1400]",
         "5"
        ],
        [
         "1033",
         "10001000932",
         "[95, 96, 1400, 1401]",
         "4"
        ],
        [
         "1034",
         "10001000935",
         "[95, 96, 1400, 1401]",
         "4"
        ],
        [
         "1048",
         "10001001013",
         "[92, 93, 98, 99]",
         "4"
        ]
       ],
       "shape": {
        "columns": 3,
        "rows": 322
       }
      },
      "text/html": [
       "<div>\n",
       "<style scoped>\n",
       "    .dataframe tbody tr th:only-of-type {\n",
       "        vertical-align: middle;\n",
       "    }\n",
       "\n",
       "    .dataframe tbody tr th {\n",
       "        vertical-align: top;\n",
       "    }\n",
       "\n",
       "    .dataframe thead th {\n",
       "        text-align: right;\n",
       "    }\n",
       "</style>\n",
       "<table border=\"1\" class=\"dataframe\">\n",
       "  <thead>\n",
       "    <tr style=\"text-align: right;\">\n",
       "      <th></th>\n",
       "      <th>HHID</th>\n",
       "      <th>year</th>\n",
       "      <th>num</th>\n",
       "    </tr>\n",
       "  </thead>\n",
       "  <tbody>\n",
       "    <tr>\n",
       "      <th>800</th>\n",
       "      <td>10001000108</td>\n",
       "      <td>[92, 93, 97, 98]</td>\n",
       "      <td>4</td>\n",
       "    </tr>\n",
       "    <tr>\n",
       "      <th>806</th>\n",
       "      <td>10001000116</td>\n",
       "      <td>[92, 93, 94, 99]</td>\n",
       "      <td>4</td>\n",
       "    </tr>\n",
       "    <tr>\n",
       "      <th>807</th>\n",
       "      <td>10001000117</td>\n",
       "      <td>[93, 94, 97, 98]</td>\n",
       "      <td>4</td>\n",
       "    </tr>\n",
       "    <tr>\n",
       "      <th>810</th>\n",
       "      <td>10001000120</td>\n",
       "      <td>[93, 94, 95, 98, 99, 1400]</td>\n",
       "      <td>6</td>\n",
       "    </tr>\n",
       "    <tr>\n",
       "      <th>811</th>\n",
       "      <td>10001000123</td>\n",
       "      <td>[93, 94, 95, 98, 99]</td>\n",
       "      <td>5</td>\n",
       "    </tr>\n",
       "    <tr>\n",
       "      <th>...</th>\n",
       "      <td>...</td>\n",
       "      <td>...</td>\n",
       "      <td>...</td>\n",
       "    </tr>\n",
       "    <tr>\n",
       "      <th>3664</th>\n",
       "      <td>10010008829</td>\n",
       "      <td>[94, 95, 96, 99]</td>\n",
       "      <td>4</td>\n",
       "    </tr>\n",
       "    <tr>\n",
       "      <th>3688</th>\n",
       "      <td>10010008917</td>\n",
       "      <td>[93, 97, 98, 99]</td>\n",
       "      <td>4</td>\n",
       "    </tr>\n",
       "    <tr>\n",
       "      <th>3692</th>\n",
       "      <td>10010008923</td>\n",
       "      <td>[93, 94, 95, 98, 99, 1400]</td>\n",
       "      <td>6</td>\n",
       "    </tr>\n",
       "    <tr>\n",
       "      <th>3696</th>\n",
       "      <td>10010008929</td>\n",
       "      <td>[94, 96, 99, 1400, 1401]</td>\n",
       "      <td>5</td>\n",
       "    </tr>\n",
       "    <tr>\n",
       "      <th>3699</th>\n",
       "      <td>10010008935</td>\n",
       "      <td>[95, 96, 1400, 1401, 1402]</td>\n",
       "      <td>5</td>\n",
       "    </tr>\n",
       "  </tbody>\n",
       "</table>\n",
       "<p>322 rows × 3 columns</p>\n",
       "</div>"
      ],
      "text/plain": [
       "             HHID                        year  num\n",
       "800   10001000108            [92, 93, 97, 98]    4\n",
       "806   10001000116            [92, 93, 94, 99]    4\n",
       "807   10001000117            [93, 94, 97, 98]    4\n",
       "810   10001000120  [93, 94, 95, 98, 99, 1400]    6\n",
       "811   10001000123        [93, 94, 95, 98, 99]    5\n",
       "...           ...                         ...  ...\n",
       "3664  10010008829            [94, 95, 96, 99]    4\n",
       "3688  10010008917            [93, 97, 98, 99]    4\n",
       "3692  10010008923  [93, 94, 95, 98, 99, 1400]    6\n",
       "3696  10010008929    [94, 96, 99, 1400, 1401]    5\n",
       "3699  10010008935  [95, 96, 1400, 1401, 1402]    5\n",
       "\n",
       "[322 rows x 3 columns]"
      ]
     },
     "execution_count": 156,
     "metadata": {},
     "output_type": "execute_result"
    }
   ],
   "source": [
    "years_by_hhid[\"num\"] = years_by_hhid[\"year\"].apply(len)\n",
    "years_by_hhid[years_by_hhid[\"num\"]>3]"
   ]
  },
  {
   "cell_type": "code",
   "execution_count": 157,
   "id": "7ea7be1e",
   "metadata": {},
   "outputs": [],
   "source": [
    "merged[\"all_energy_EXP\"] = merged[\"ElectricityExp\"]+merged[\"ElectricityOtherExp\"]+merged[\"NaturalGasExp\"]+merged[\"NaturalGasOtherExp\"]+merged[\"OtherEnergyReExp\"]\n",
    "merged[\"energy_Ratio\"] = (merged[\"all_energy_EXP\"] / merged[\"all_expenditure\"]) *100"
   ]
  },
  {
   "cell_type": "code",
   "execution_count": 158,
   "id": "40cebacb",
   "metadata": {},
   "outputs": [
    {
     "data": {
      "image/png": "[encoded data removed]",
      "text/plain": [
       "<Figure size 640x480 with 1 Axes>"
      ]
     },
     "metadata": {},
     "output_type": "display_data"
    }
   ],
   "source": [
    "import matplotlib.pyplot as plt\n",
    "plt.hist(merged[\"energy_Ratio\"], color=\"blue\", density=True, bins=1000)\n",
    "plt.xlim(0, 40)\n",
    "plt.ylim(0, 0.25)\n",
    "plt.xlabel('Energy Ratio')\n",
    "plt.ylabel('Density')\n",
    "plt.title('Histogram of Energy Ratio')\n",
    "plt.show()"
   ]
  },
  {
   "cell_type": "markdown",
   "id": "40955bf6",
   "metadata": {},
   "source": [
    "# Merging the weights"
   ]
  },
  {
   "cell_type": "code",
   "execution_count": 160,
   "id": "7c943b92",
   "metadata": {},
   "outputs": [
    {
     "name": "stdout",
     "output_type": "stream",
     "text": [
      "(267979, 3)\n"
     ]
    }
   ],
   "source": [
    "years = list(range(89, 96))\n",
    "theirdf = pd.DataFrame(columns=[\"HHID\",\"Year\",\"Weight\"])\n",
    "for year in years:\n",
    "    df3 = pyreadr.read_r(fr\"C:\\Users\\Mahsa\\Desktop\\geo\\SamplingWeights\\HHWeights{year}.rda\")\n",
    "    df3 = list(df3.values())[0]\n",
    "    df3[\"HHID\"] = df3[\"HHID\"].astype(\"str\")\n",
    "    mask = df3[\"HHID\"].str.contains(r\"\\.\")\n",
    "    df3.loc[mask, 'HHID'] = df3.loc[mask, \"HHID\"].str.split(\".\").str[0]\n",
    "    theirdf= pd.concat([theirdf,df3], axis= 0)\n",
    "print(theirdf.shape)"
   ]
  },
  {
   "cell_type": "code",
   "execution_count": 161,
   "id": "8dcc6a1d",
   "metadata": {},
   "outputs": [
    {
     "data": {
      "text/plain": [
       "(278408, 104)"
      ]
     },
     "execution_count": 161,
     "metadata": {},
     "output_type": "execute_result"
    }
   ],
   "source": [
    "merged[merged[\"year\"]< 96].shape"
   ]
  },
  {
   "cell_type": "code",
   "execution_count": 163,
   "id": "dec8691f",
   "metadata": {},
   "outputs": [],
   "source": [
    "theirdf.rename(columns={\n",
    "    \"Year\": \"year\"\n",
    "}, inplace=True)\n",
    "merged = pd.merge(merged, theirdf, on = [\"HHID\", \"year\"], how= \"left\")\n",
    "merged.loc[merged[\"weight\"].isna(), \"weight\"] = merged[\"Weight\"]"
   ]
  },
  {
   "cell_type": "code",
   "execution_count": null,
   "id": "f69849ba",
   "metadata": {},
   "outputs": [],
   "source": [
    "merged.drop(columns= [\"Weight\"], inplace = True)"
   ]
  },
  {
   "cell_type": "code",
   "execution_count": 167,
   "id": "9f3fa3f6",
   "metadata": {},
   "outputs": [
    {
     "data": {
      "text/plain": [
       "(545037, 104)"
      ]
     },
     "execution_count": 167,
     "metadata": {},
     "output_type": "execute_result"
    }
   ],
   "source": [
    "merged.shape"
   ]
  },
  {
   "cell_type": "code",
   "execution_count": 169,
   "id": "9cf1fb47",
   "metadata": {},
   "outputs": [
    {
     "name": "stdout",
     "output_type": "stream",
     "text": [
      "The population in 89 is 20145831.0\n",
      "The population in 90 is 21159033.0\n",
      "The population in 91 is 21757336.0\n",
      "The population in 92 is 22637024.0\n",
      "The population in 93 is 23376013.0\n",
      "The population in 94 is 24115010.0\n",
      "The population in 95 is 24854004.0\n",
      "The population in 96 is 24864484.0\n",
      "The population in 97 is 25164306.0\n",
      "The population in 98 is 25685577.0\n",
      "The population in 99 is 26189113.0\n",
      "The population in 1400 is 26693614.0\n",
      "The population in 1401 is 27194087.0\n",
      "The population in 1402 is 27697668.0\n"
     ]
    }
   ],
   "source": [
    "years = list(range(89, 99))+ [99] + list(range(1400, 1403))\n",
    "for year in years:\n",
    "    pop = merged.loc[merged[\"year\"]==year][\"weight\"].sum()\n",
    "    print(f\"The population in {year} is {pop.round(0)}\")"
   ]
  },
  {
   "cell_type": "code",
   "execution_count": 170,
   "id": "dab8c6f0",
   "metadata": {},
   "outputs": [],
   "source": [
    "merged.to_pickle(\"merged\")"
   ]
  },
  {
   "cell_type": "code",
   "execution_count": 2,
   "id": "7be8ce18",
   "metadata": {},
   "outputs": [],
   "source": [
    "merged = pd.read_pickle(\"merged\")"
   ]
  },
  {
   "cell_type": "code",
   "execution_count": 3,
   "id": "a9402696",
   "metadata": {},
   "outputs": [
    {
     "data": {
      "text/plain": [
       "Index(['HHID', 'month', 'household_type', 'region', 'quarter', 'weight',\n",
       "       'county_code', 'province_code', 'province', 'HHsize',\n",
       "       ...\n",
       "       'MedicalExtraExp', 'TransportationExtraExp', 'CommunicationExtraExp',\n",
       "       'AmusementExtraExp', 'EducationExp', 'OtherExtraExp', 'year',\n",
       "       'all_expenditure', 'all_energy_EXP', 'energy_Ratio'],\n",
       "      dtype='object', length=104)"
      ]
     },
     "execution_count": 3,
     "metadata": {},
     "output_type": "execute_result"
    }
   ],
   "source": [
    "merged.columns\n"
   ]
  }
 ],
 "metadata": {
  "kernelspec": {
   "display_name": "base",
   "language": "python",
   "name": "python3"
  },
  "language_info": {
   "codemirror_mode": {
    "name": "ipython",
    "version": 3
   },
   "file_extension": ".py",
   "mimetype": "text/x-python",
   "name": "python",
   "nbconvert_exporter": "python",
   "pygments_lexer": "ipython3",
   "version": "3.12.3"
  }
 },
 "nbformat": 4,
 "nbformat_minor": 5
}
